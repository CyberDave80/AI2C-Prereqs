{
 "cells": [
  {
   "cell_type": "markdown",
   "id": "b22b4b1a",
   "metadata": {},
   "source": [
    "# Guess the output"
   ]
  },
  {
   "cell_type": "code",
   "execution_count": 3,
   "id": "c511a569",
   "metadata": {},
   "outputs": [
    {
     "name": "stdout",
     "output_type": "stream",
     "text": [
      "2\n"
     ]
    }
   ],
   "source": [
    "x = 5\n",
    "y = 10\n",
    "\n",
    "if x > 3:\n",
    "    if y < 10:\n",
    "        print(1)\n",
    "    elif y == 10:\n",
    "        if x == 5:\n",
    "            print(2)\n",
    "        else:\n",
    "            print(3)\n",
    "    else:\n",
    "        print(4)\n",
    "else:\n",
    "    print(5)\n"
   ]
  },
  {
   "cell_type": "markdown",
   "id": "5256650f",
   "metadata": {},
   "source": [
    "# Guess the output"
   ]
  },
  {
   "cell_type": "code",
   "execution_count": 4,
   "id": "27144b0a",
   "metadata": {},
   "outputs": [
    {
     "name": "stdout",
     "output_type": "stream",
     "text": [
      "4\n"
     ]
    }
   ],
   "source": [
    "x = 4\n",
    "y = 6\n",
    "z = 5\n",
    "\n",
    "if x <= 5:\n",
    "    if y > 5 or z > 5:\n",
    "        if x + z < y:\n",
    "            print(1)\n",
    "        elif y - z > 2:\n",
    "            print(2)\n",
    "        else:\n",
    "            if z % 2 == 0:\n",
    "                print(3)\n",
    "            else:\n",
    "                print(4)\n",
    "    else:\n",
    "        print(5)\n",
    "else:\n",
    "    if x == 4 and z == 5:\n",
    "        print(6)\n",
    "    else:\n",
    "        print(7)\n"
   ]
  },
  {
   "cell_type": "markdown",
   "id": "252821f8",
   "metadata": {},
   "source": [
    "# Exercise\n",
    "\n",
    "Write a function that checks a number and returns “positive,” “zero,” or “negative”\n"
   ]
  },
  {
   "cell_type": "code",
   "execution_count": 5,
   "id": "f48ece60",
   "metadata": {},
   "outputs": [],
   "source": [
    "def checkNumber(number):\n",
    "    if number == 0:\n",
    "        return \"zero\"\n",
    "    elif number < 0:\n",
    "        return \"negative\"\n",
    "    else:\n",
    "        return \"positive\""
   ]
  },
  {
   "cell_type": "code",
   "execution_count": 6,
   "id": "3c134e83",
   "metadata": {},
   "outputs": [
    {
     "name": "stdout",
     "output_type": "stream",
     "text": [
      "zero\n"
     ]
    }
   ],
   "source": [
    "print(checkNumber(0))"
   ]
  },
  {
   "cell_type": "code",
   "execution_count": 7,
   "id": "a9d62865",
   "metadata": {},
   "outputs": [
    {
     "name": "stdout",
     "output_type": "stream",
     "text": [
      "positive\n"
     ]
    }
   ],
   "source": [
    "print(checkNumber(1))"
   ]
  },
  {
   "cell_type": "code",
   "execution_count": 8,
   "id": "ea749726",
   "metadata": {},
   "outputs": [
    {
     "name": "stdout",
     "output_type": "stream",
     "text": [
      "negative\n"
     ]
    }
   ],
   "source": [
    "print(checkNumber(-1))"
   ]
  },
  {
   "cell_type": "markdown",
   "id": "135d981e",
   "metadata": {},
   "source": [
    "# Range Examples"
   ]
  },
  {
   "cell_type": "code",
   "execution_count": 9,
   "id": "973ec669",
   "metadata": {},
   "outputs": [
    {
     "data": {
      "text/plain": [
       "range(0, 3)"
      ]
     },
     "execution_count": 9,
     "metadata": {},
     "output_type": "execute_result"
    }
   ],
   "source": [
    "# Generates a sequence of numbers from 0 to 2, but returns an iterable object, not a list\n",
    "range(0, 3) "
   ]
  },
  {
   "cell_type": "code",
   "execution_count": 10,
   "id": "cf03e0d5",
   "metadata": {},
   "outputs": [
    {
     "name": "stdout",
     "output_type": "stream",
     "text": [
      "0\n",
      "1\n",
      "2\n"
     ]
    }
   ],
   "source": [
    "#defaut step is 1\n",
    "for i in range(0,3):\n",
    "    print(i)"
   ]
  },
  {
   "cell_type": "code",
   "execution_count": 11,
   "id": "2cc8406b",
   "metadata": {},
   "outputs": [
    {
     "name": "stdout",
     "output_type": "stream",
     "text": [
      "0\n",
      "2\n",
      "4\n"
     ]
    }
   ],
   "source": [
    "#step is defined\n",
    "for i in range(0, 6, 2):\n",
    "    print(i)"
   ]
  },
  {
   "cell_type": "markdown",
   "id": "d9cae553",
   "metadata": {},
   "source": [
    "# For loops\n"
   ]
  },
  {
   "cell_type": "code",
   "execution_count": 12,
   "id": "9f02f35b",
   "metadata": {},
   "outputs": [
    {
     "name": "stdout",
     "output_type": "stream",
     "text": [
      "apple\n",
      "banana\n",
      "cherry\n"
     ]
    }
   ],
   "source": [
    "fruits = [\"apple\", \"banana\", \"cherry\"]\n",
    "for fruit in fruits:\n",
    "    print(fruit)\n"
   ]
  },
  {
   "cell_type": "code",
   "execution_count": 13,
   "id": "91a0159d",
   "metadata": {},
   "outputs": [
    {
     "name": "stdout",
     "output_type": "stream",
     "text": [
      "0\n",
      "1\n",
      "2\n",
      "3\n",
      "4\n"
     ]
    }
   ],
   "source": [
    "for i in range(5):\n",
    "    print(i)"
   ]
  },
  {
   "cell_type": "markdown",
   "id": "0787ede1",
   "metadata": {},
   "source": [
    "# While Loops"
   ]
  },
  {
   "cell_type": "code",
   "execution_count": 14,
   "id": "d63fc58f",
   "metadata": {},
   "outputs": [
    {
     "name": "stdout",
     "output_type": "stream",
     "text": [
      "0\n",
      "1\n",
      "2\n",
      "3\n",
      "4\n"
     ]
    }
   ],
   "source": [
    "count = 0\n",
    "while count < 5:\n",
    "    print(count)\n",
    "    count += 1\n"
   ]
  },
  {
   "cell_type": "markdown",
   "id": "b9e75146",
   "metadata": {},
   "source": [
    "# Loop Control Statements"
   ]
  },
  {
   "cell_type": "code",
   "execution_count": 15,
   "id": "86ce173f",
   "metadata": {},
   "outputs": [
    {
     "name": "stdout",
     "output_type": "stream",
     "text": [
      "1\n",
      "2\n",
      "3\n",
      "4\n",
      "Stopping the loop at number 5.\n"
     ]
    }
   ],
   "source": [
    "for number in range(1, 10):\n",
    "    if number == 5:\n",
    "        print(\"Stopping the loop at number 5.\")\n",
    "        break\n",
    "    print(number)\n"
   ]
  },
  {
   "cell_type": "code",
   "execution_count": 16,
   "id": "b781ece9",
   "metadata": {},
   "outputs": [
    {
     "name": "stdout",
     "output_type": "stream",
     "text": [
      "1\n",
      "2\n",
      "4\n",
      "5\n"
     ]
    }
   ],
   "source": [
    "for number in range(1, 6):\n",
    "    if number == 3:\n",
    "        continue  # skip printing number 3\n",
    "    print(number)\n"
   ]
  },
  {
   "cell_type": "markdown",
   "id": "6e289e52",
   "metadata": {},
   "source": [
    "# Forever Loops"
   ]
  },
  {
   "cell_type": "code",
   "execution_count": 17,
   "id": "4fca3ea2",
   "metadata": {},
   "outputs": [
    {
     "ename": "KeyboardInterrupt",
     "evalue": "",
     "output_type": "error",
     "traceback": [
      "\u001b[1;31m---------------------------------------------------------------------------\u001b[0m",
      "\u001b[1;31mKeyboardInterrupt\u001b[0m                         Traceback (most recent call last)",
      "Cell \u001b[1;32mIn[17], line 1\u001b[0m\n\u001b[1;32m----> 1\u001b[0m \u001b[38;5;28;01mwhile\u001b[39;00m \u001b[38;5;28;01mTrue\u001b[39;00m:\n\u001b[0;32m      2\u001b[0m     \u001b[38;5;28;01mpass\u001b[39;00m\n",
      "\u001b[1;31mKeyboardInterrupt\u001b[0m: "
     ]
    }
   ],
   "source": [
    "while True:\n",
    "    pass"
   ]
  },
  {
   "cell_type": "code",
   "execution_count": 18,
   "id": "6cbe4722",
   "metadata": {},
   "outputs": [
    {
     "ename": "KeyboardInterrupt",
     "evalue": "",
     "output_type": "error",
     "traceback": [
      "\u001b[1;31m---------------------------------------------------------------------------\u001b[0m",
      "\u001b[1;31mKeyboardInterrupt\u001b[0m                         Traceback (most recent call last)",
      "Cell \u001b[1;32mIn[18], line 1\u001b[0m\n\u001b[1;32m----> 1\u001b[0m \u001b[38;5;28;01mwhile\u001b[39;00m \u001b[38;5;241m1\u001b[39m:\n\u001b[0;32m      2\u001b[0m     \u001b[38;5;28;01mpass\u001b[39;00m\n",
      "\u001b[1;31mKeyboardInterrupt\u001b[0m: "
     ]
    }
   ],
   "source": [
    "while 1:\n",
    "    pass"
   ]
  },
  {
   "cell_type": "code",
   "execution_count": 19,
   "id": "023b3076",
   "metadata": {},
   "outputs": [],
   "source": [
    "while 0:\n",
    "    pass"
   ]
  },
  {
   "cell_type": "code",
   "execution_count": 20,
   "id": "9d4556a7",
   "metadata": {},
   "outputs": [
    {
     "ename": "KeyboardInterrupt",
     "evalue": "",
     "output_type": "error",
     "traceback": [
      "\u001b[1;31m---------------------------------------------------------------------------\u001b[0m",
      "\u001b[1;31mKeyboardInterrupt\u001b[0m                         Traceback (most recent call last)",
      "Cell \u001b[1;32mIn[20], line 1\u001b[0m\n\u001b[1;32m----> 1\u001b[0m \u001b[38;5;28;01mwhile\u001b[39;00m \u001b[38;5;241m2\u001b[39m:\n\u001b[0;32m      2\u001b[0m     \u001b[38;5;28;01mpass\u001b[39;00m\n",
      "\u001b[1;31mKeyboardInterrupt\u001b[0m: "
     ]
    }
   ],
   "source": [
    "while 2:\n",
    "    pass"
   ]
  },
  {
   "cell_type": "code",
   "execution_count": 21,
   "id": "859bd313",
   "metadata": {},
   "outputs": [
    {
     "ename": "KeyboardInterrupt",
     "evalue": "",
     "output_type": "error",
     "traceback": [
      "\u001b[1;31m---------------------------------------------------------------------------\u001b[0m",
      "\u001b[1;31mKeyboardInterrupt\u001b[0m                         Traceback (most recent call last)",
      "Cell \u001b[1;32mIn[21], line 1\u001b[0m\n\u001b[1;32m----> 1\u001b[0m \u001b[38;5;28;01mwhile\u001b[39;00m \u001b[38;5;241m-\u001b[39m\u001b[38;5;241m1\u001b[39m:\n\u001b[0;32m      2\u001b[0m     \u001b[38;5;28;01mpass\u001b[39;00m\n",
      "\u001b[1;31mKeyboardInterrupt\u001b[0m: "
     ]
    }
   ],
   "source": [
    "while -1:\n",
    "    pass\n"
   ]
  },
  {
   "cell_type": "markdown",
   "id": "f44d73c0",
   "metadata": {},
   "source": [
    "# Nested Loops  \n"
   ]
  },
  {
   "cell_type": "code",
   "execution_count": 22,
   "id": "d19429b9",
   "metadata": {},
   "outputs": [
    {
     "name": "stdout",
     "output_type": "stream",
     "text": [
      "0 0\n",
      "0 1\n",
      "1 0\n",
      "1 1\n",
      "2 0\n",
      "2 1\n"
     ]
    }
   ],
   "source": [
    "for i in range(3):\n",
    "    for j in range(2):\n",
    "        print(i, j)\n"
   ]
  },
  {
   "cell_type": "code",
   "execution_count": 23,
   "id": "4a0e5552",
   "metadata": {},
   "outputs": [
    {
     "name": "stdout",
     "output_type": "stream",
     "text": [
      "While loop x = 3\n",
      "   For loop i = 0\n",
      "   For loop i = 1\n",
      "   For loop i = 2\n",
      "While loop x = 2\n",
      "   For loop i = 0\n",
      "   For loop i = 1\n",
      "While loop x = 1\n",
      "   For loop i = 0\n",
      "While loop x = 0\n"
     ]
    }
   ],
   "source": [
    "x = 3\n",
    "while x >= 0:\n",
    "    print(\"While loop x =\", x)\n",
    "    for i in range(x):\n",
    "        print(\"   For loop i =\", i)\n",
    "    x -= 1"
   ]
  },
  {
   "cell_type": "code",
   "execution_count": null,
   "id": "c094ae96",
   "metadata": {},
   "outputs": [],
   "source": []
  },
  {
   "cell_type": "markdown",
   "id": "209afc1a",
   "metadata": {},
   "source": [
    "# Exercise: Loops \n",
    "\n",
    "Write a program that prints the following output using loops. Do not just write print() statements multiple times.\n",
    "\n",
    "1 2 3  \n",
    "1 2 3  \n",
    "1 2 3\n"
   ]
  },
  {
   "cell_type": "markdown",
   "id": "60d23932",
   "metadata": {},
   "source": [
    "### Example Solutions"
   ]
  },
  {
   "cell_type": "code",
   "execution_count": 24,
   "id": "54036d88",
   "metadata": {},
   "outputs": [
    {
     "name": "stdout",
     "output_type": "stream",
     "text": [
      "1 2 3\n",
      "1 2 3\n",
      "1 2 3\n"
     ]
    }
   ],
   "source": [
    "for row in range(3):\n",
    "    print('1 2 3')\n",
    "    "
   ]
  },
  {
   "cell_type": "code",
   "execution_count": 27,
   "id": "4a2ed314",
   "metadata": {},
   "outputs": [
    {
     "name": "stdout",
     "output_type": "stream",
     "text": [
      "1 2 3\n",
      "1 2 3\n",
      "1 2 3\n"
     ]
    }
   ],
   "source": [
    "for row in range(3):\n",
    "    line = \"\"\n",
    "    for num in range(1, 4):\n",
    "        line += str(num) + \" \"\n",
    "    print(line.strip())\n"
   ]
  },
  {
   "cell_type": "code",
   "execution_count": 28,
   "id": "b9994ba6",
   "metadata": {},
   "outputs": [
    {
     "name": "stdout",
     "output_type": "stream",
     "text": [
      "1 2 3\n",
      "1 2 3\n",
      "1 2 3\n"
     ]
    }
   ],
   "source": [
    "i = 1\n",
    "while i in range(1, 4):  \n",
    "    print('1 2 3')\n",
    "    i += 1"
   ]
  },
  {
   "cell_type": "code",
   "execution_count": 50,
   "id": "98c6fd6a",
   "metadata": {},
   "outputs": [
    {
     "name": "stdout",
     "output_type": "stream",
     "text": [
      "1 2 3 \n",
      "1 2 3 \n",
      "1 2 3 \n"
     ]
    }
   ],
   "source": [
    "for row in range(3):\n",
    "    for num in range(1, 4):\n",
    "        print(num, end=' ')\n",
    "        #print(\"this is the end of the inner loop\")\n",
    "    print()\n",
    "    #print('this is the outer loop')\n"
   ]
  },
  {
   "cell_type": "code",
   "execution_count": null,
   "id": "148b2551",
   "metadata": {},
   "outputs": [],
   "source": []
  },
  {
   "cell_type": "markdown",
   "id": "5608ec0c",
   "metadata": {},
   "source": [
    "# Error Handling\n"
   ]
  },
  {
   "cell_type": "code",
   "execution_count": 37,
   "id": "2254f764",
   "metadata": {},
   "outputs": [
    {
     "name": "stdout",
     "output_type": "stream",
     "text": [
      "Oops! That wasn't a number.\n"
     ]
    }
   ],
   "source": [
    "try:\n",
    "    number = int(\"abc\")\n",
    "except ValueError:\n",
    "    print(\"Oops! That wasn't a number.\")"
   ]
  },
  {
   "cell_type": "code",
   "execution_count": 38,
   "id": "62514ae9",
   "metadata": {},
   "outputs": [
    {
     "name": "stdout",
     "output_type": "stream",
     "text": [
      "Invalid type for division.\n",
      "Done.\n"
     ]
    }
   ],
   "source": [
    "try:\n",
    "    result = 10 / 'a'\n",
    "except ZeroDivisionError:\n",
    "    print(\"Cannot divide by zero.\")\n",
    "except TypeError:\n",
    "    print(\"Invalid type for division.\")\n",
    "else:\n",
    "    print(\"Division successful.\")\n",
    "finally:\n",
    "    print(\"Done.\")"
   ]
  },
  {
   "cell_type": "code",
   "execution_count": 39,
   "id": "b6dbafbe",
   "metadata": {},
   "outputs": [
    {
     "name": "stdout",
     "output_type": "stream",
     "text": [
      "Cannot divide by zero.\n",
      "Done.\n"
     ]
    }
   ],
   "source": [
    "try:\n",
    "    result = 10 / 0\n",
    "except ZeroDivisionError:\n",
    "    print(\"Cannot divide by zero.\")\n",
    "except TypeError:\n",
    "    print(\"Invalid type for division.\")\n",
    "else:\n",
    "    print(\"Division successful.\")\n",
    "finally:\n",
    "    print(\"Done.\")"
   ]
  },
  {
   "cell_type": "code",
   "execution_count": 42,
   "id": "01164e72",
   "metadata": {},
   "outputs": [
    {
     "name": "stdout",
     "output_type": "stream",
     "text": [
      "ValueError: Result is not equal to 6.\n",
      "Done.\n"
     ]
    }
   ],
   "source": [
    "try:\n",
    "    result = 10 / 2\n",
    "    if result != 6:\n",
    "        raise ValueError(\"Result is not equal to 6.\")\n",
    "except ValueError as message:\n",
    "    print(f\"ValueError: {message}\")\n",
    "except ZeroDivisionError:\n",
    "    print(\"Cannot divide by zero.\")\n",
    "except TypeError:\n",
    "    print(\"Invalid type for division.\")\n",
    "else:\n",
    "    print(\"Division successful.\")\n",
    "finally:\n",
    "    print(\"Done.\")\n"
   ]
  },
  {
   "cell_type": "code",
   "execution_count": null,
   "id": "f73a6fb8",
   "metadata": {},
   "outputs": [],
   "source": []
  },
  {
   "cell_type": "markdown",
   "id": "aa6f445a",
   "metadata": {},
   "source": [
    "# Final Coding Exercise\n",
    "\n"
   ]
  },
  {
   "cell_type": "code",
   "execution_count": null,
   "id": "ce751f99",
   "metadata": {},
   "outputs": [
    {
     "name": "stdout",
     "output_type": "stream",
     "text": [
      "Error: Found invalid value 'hello'. Skipping.\n",
      "Error: Found invalid value '5.2'. Skipping.\n",
      "Error: Found invalid value 'None'. Skipping.\n",
      "Error: Found invalid value '-5.2'. Skipping.\n",
      "\n",
      "Valid numbers: [10, 20, 15, 30, -5]\n",
      "Sum of numbers: 70\n"
     ]
    }
   ],
   "source": [
    "#numbers = [10, -5, 20, 'hello', 5.2, 15, None, 30]\n",
    "numbers = [10, 20, 'hello', 5.2, 15, None, 30, -5.2]\n",
    "\n",
    "#list to store valid positive integers\n",
    "#valid_numbers = []\n",
    "\n",
    "#loop through each item in the list\n",
    "for item in numbers:\n",
    "    try:\n",
    "        if not isinstance(item, int): #check for non-integer types\n",
    "            raise TypeError(f\"Found invalid value '{item}'. Skipping.\")\n",
    "        if item < 0: #check for negtive numbers\n",
    "            raise ValueError(f\"Negative numbers are not allowed: {item}\")\n",
    "        #valid_numbers.append(item) #add valid item to the list\n",
    "    \n",
    "\n",
    "    except TypeError as message:\n",
    "        print(f\"Error: {message}\")\n",
    "\n",
    "    except ValueError as message:\n",
    "        raise message #passes along to output and stops the program\n",
    "    \n",
    "    valid_numbers = [x for x in numbers if isinstance(x, int) and x >= 0]  # list comprehension to filter valid numbers\n",
    "\n",
    "#valid_numbers.append(-5)\n",
    "\n",
    "\n",
    "print()\n",
    "print('Valid numbers:', valid_numbers)\n",
    "\n",
    "totalvalid = sum(valid_numbers) #built-in function to sum the list\n",
    "print('Sum of numbers:', totalvalid)\n"
   ]
  },
  {
   "cell_type": "code",
   "execution_count": null,
   "id": "6a2df3b3",
   "metadata": {},
   "outputs": [],
   "source": []
  }
 ],
 "metadata": {
  "kernelspec": {
   "display_name": "base",
   "language": "python",
   "name": "python3"
  },
  "language_info": {
   "codemirror_mode": {
    "name": "ipython",
    "version": 3
   },
   "file_extension": ".py",
   "mimetype": "text/x-python",
   "name": "python",
   "nbconvert_exporter": "python",
   "pygments_lexer": "ipython3",
   "version": "3.11.4"
  }
 },
 "nbformat": 4,
 "nbformat_minor": 5
}
