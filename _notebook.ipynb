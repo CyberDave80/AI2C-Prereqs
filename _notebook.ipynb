{
 "cells": [
  {
   "cell_type": "code",
   "execution_count": null,
   "id": "ddb7fdd6",
   "metadata": {},
   "outputs": [
    {
     "name": "stdout",
     "output_type": "stream",
     "text": [
      "Skipping non-integer type\n",
      "Skipping non-integer type\n",
      "Skipping non-integer type\n",
      "[10, 20, 15, 30] 75\n"
     ]
    }
   ],
   "source": [
    "my_list = [10, 20, 'hello', 5.2, 15, None, 30]\n",
    "\n",
    "result = []\n",
    "for element in my_list:\n",
    "    if isinstance(element, int) and element < 0:\n",
    "        raise ValueError(\"Negative value found\")\n",
    "    \n",
    "    elif isinstance(element, int) and element > 0:\n",
    "        result.append(element)\n",
    "\n",
    "    else:\n",
    "        print(\"Skipping non-integer type\")\n",
    "\n",
    "print(f'all nums: {result} and their sum: {sum(result)}')\n",
    "    "
   ]
  }
 ],
 "metadata": {
  "kernelspec": {
   "display_name": "Python 3",
   "language": "python",
   "name": "python3"
  },
  "language_info": {
   "codemirror_mode": {
    "name": "ipython",
    "version": 3
   },
   "file_extension": ".py",
   "mimetype": "text/x-python",
   "name": "python",
   "nbconvert_exporter": "python",
   "pygments_lexer": "ipython3",
   "version": "3.13.5"
  }
 },
 "nbformat": 4,
 "nbformat_minor": 5
}
