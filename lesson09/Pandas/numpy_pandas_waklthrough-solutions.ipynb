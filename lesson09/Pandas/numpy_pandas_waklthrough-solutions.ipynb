{
 "cells": [
  {
   "cell_type": "markdown",
   "id": "378edacb",
   "metadata": {},
   "source": [
    "# Refresher"
   ]
  },
  {
   "cell_type": "code",
   "execution_count": 3,
   "id": "31372464",
   "metadata": {},
   "outputs": [
    {
     "name": "stdout",
     "output_type": "stream",
     "text": [
      "['Day,High,Low,Precipitation,Snow\\n', 'January 1,38.0,32.0,0.08,0.4\\n', 'January 2,35.0,32.0,0.0,0.0\\n', 'January 3,41.0,32.0,0.0,0.0\\n', 'January 4,36.0,27.0,0.0,0.0\\n']\n",
      "\n",
      "Daily high temperatures: [38.0, 35.0, 41.0, 36.0, 38.0, 35.0, 36.0, 40.0, 50.0, 42.0, 43.0, 46.0, 46.0, 29.0, 22.0, 19.0, 20.0, 29.0, 27.0, 19.0, 25.0, 39.0, 45.0, 56.0, 59.0, 64.0, 47.0, 46.0, 36.0, 40.0, 45.0, 48.0, 47.0, 47.0, 55.0, 48.0, 46.0, 54.0, 63.0, 63.0, 63.0, 48.0, 46.0, 44.0, 39.0, 56.0, 39.0, 29.0, 37.0, 42.0, 52.0, 59.0, 49.0, 58.0, 37.0, 47.0, 65.0, 66.0, 64.0, 39.0, 52.0, 53.0, 66.0, 74.0, 75.0, 62.0, 50.0, 65.0, 56.0, 41.0, 52.0, 68.0, 71.0, 74.0, 61.0, 61.0, 56.0, 36.0, 47.0, 50.0, 41.0, 54.0, 43.0, 48.0, 67.0, 54.0, 61.0, 52.0, 53.0, 59.0, 59.0, 64.0, 63.0, 62.0, 47.0, 43.0, 54.0, 61.0, 74.0, 76.0, 66.0, 69.0, 60.0, 60.0, 82.0, 74.0, 80.0, 82.0, 73.0, 70.0, 59.0, 49.0, 62.0, 68.0, 61.0, 57.0, 70.0, 81.0, 83.0, 83.0, 73.0, 80.0, 85.0, 87.0, 65.0, 78.0, 73.0, 78.0, 81.0, 65.0, 62.0, 60.0, 66.0, 80.0, 68.0, 78.0, 76.0, 70.0, 81.0, 85.0, 86.0, 87.0, 84.0, 79.0, 84.0, 83.0, 82.0, 78.0, 75.0, 65.0, 69.0, 74.0, 80.0, 69.0, 82.0, 87.0, 80.0, 79.0, 73.0, 78.0, 75.0, 67.0, 72.0, 80.0, 87.0, 82.0, 80.0, 89.0, 94.0, 94.0, 89.0, 92.0, 94.0, 94.0, 86.0, 82.0, 84.0, 85.0, 80.0, 88.0, 85.0, 86.0, 78.0, 86.0, 91.0, 89.0, 87.0, 86.0, 89.0, 92.0, 92.0, 92.0, 79.0, 91.0, 94.0, 93.0, 93.0, 93.0, 85.0, 81.0, 84.0, 88.0, 85.0, 75.0, 84.0, 85.0, 85.0, 82.0, 89.0, 92.0, 86.0, 83.0, 92.0, 91.0, 85.0, 82.0, 87.0, 90.0, 91.0, 78.0, 85.0, 84.0, 79.0, 77.0, 78.0, 81.0, 83.0, 86.0, 83.0, 85.0, 81.0, 70.0, 69.0, 72.0, 76.0, 82.0, 87.0, 87.0, 91.0, 94.0, 93.0, 92.0, 94.0, 83.0, 87.0, 73.0, 75.0, 79.0, 82.0, 86.0, 69.0, 69.0, 75.0, 82.0, 85.0, 84.0, 83.0, 86.0, 85.0, 80.0, 80.0, 79.0, 84.0, 87.0, 89.0, 85.0, 78.0, 78.0, 79.0, 75.0, 74.0, 77.0, 70.0, 67.0, 68.0, 69.0, 76.0, 80.0, 74.0, 83.0, 63.0, 68.0, 65.0, 62.0, 70.0, 70.0, 77.0, 57.0, 53.0, 52.0, 61.0, 68.0, 73.0, 74.0, 77.0, 82.0, 77.0, 61.0, 68.0, 61.0, 56.0, 65.0, 78.0, 77.0, 80.0, 65.0, 60.0, 64.0, 73.0, 81.0, 72.0, 65.0, 65.0, 57.0, 61.0, 61.0, 51.0, 55.0, 47.0, 52.0, 51.0, 55.0, 61.0, 62.0, 63.0, 40.0, 43.0, 47.0, 45.0, 56.0, 56.0, 46.0, 41.0, 36.0, 28.0, 32.0, 35.0, 35.0, 43.0, 35.0, 30.0, 40.0, 55.0, 55.0, 59.0, 49.0, 31.0, 31.0, 41.0, 43.0, 58.0, 57.0, 40.0, 36.0, 35.0, 44.0, 27.0, 43.0, 43.0, 41.0, 45.0, 53.0, 64.0, 65.0, 50.0, 49.0]\n",
      "\n",
      "Average high temperature: 65.88524590163935\n"
     ]
    }
   ],
   "source": [
    "with open('pittsburgh-weather-2024.csv', 'r') as file:\n",
    "    lines = file.readlines()\n",
    "\n",
    "#look at the first 5 lines of the file\n",
    "print(lines[:5])\n",
    "print()\n",
    "\n",
    "#extracting daily high temperatures from the CSV file\n",
    "daily_highs = []\n",
    "for line in lines[1:]: #first line is the header\n",
    "    row = line.strip().split(',')\n",
    "    daily_highs.append(float(row[1]))\n",
    "print(\"Daily high temperatures:\", daily_highs)\n",
    "print()\n",
    "\n",
    "#Using list of daily highs to calculate the average high temperature\n",
    "total_high = 0\n",
    "for t in daily_highs:\n",
    "    total_high += t\n",
    "\n",
    "average_high = total_high / (len(daily_highs))\n",
    "\n",
    "print(\"Average high temperature:\", average_high)"
   ]
  },
  {
   "cell_type": "markdown",
   "id": "f767ff5e",
   "metadata": {},
   "source": [
    "# 1D and 2D arrays"
   ]
  },
  {
   "cell_type": "code",
   "execution_count": 4,
   "id": "8a7a2e70",
   "metadata": {},
   "outputs": [],
   "source": [
    "import numpy as np"
   ]
  },
  {
   "cell_type": "markdown",
   "id": "c210945f",
   "metadata": {},
   "source": [
    "### 1D "
   ]
  },
  {
   "cell_type": "code",
   "execution_count": 5,
   "id": "a9e5d2ac",
   "metadata": {},
   "outputs": [],
   "source": [
    "arr1 = np.array([1, 2, 3, 4, 5])"
   ]
  },
  {
   "cell_type": "code",
   "execution_count": 6,
   "id": "a29b3677",
   "metadata": {},
   "outputs": [
    {
     "name": "stdout",
     "output_type": "stream",
     "text": [
      "[1 2 3 4 5]\n"
     ]
    }
   ],
   "source": [
    "print(arr1)"
   ]
  },
  {
   "cell_type": "markdown",
   "id": "45e32577",
   "metadata": {},
   "source": [
    "array.dtype : This tells you the data type of the elements inside the array.\n",
    "\n",
    "type(array) : This tells you the type of the object itself — i.e., what kind of Python object the array is.\n",
    "\n"
   ]
  },
  {
   "cell_type": "code",
   "execution_count": 7,
   "id": "92373698",
   "metadata": {},
   "outputs": [
    {
     "name": "stdout",
     "output_type": "stream",
     "text": [
      "int32\n",
      "<class 'numpy.ndarray'>\n"
     ]
    }
   ],
   "source": [
    "print(arr1.dtype)\n",
    "print(type(arr1))"
   ]
  },
  {
   "cell_type": "markdown",
   "id": "808eaf0b",
   "metadata": {},
   "source": [
    "### 2D"
   ]
  },
  {
   "cell_type": "code",
   "execution_count": 8,
   "id": "cac14d76",
   "metadata": {},
   "outputs": [],
   "source": [
    "arr2 = np.array([[1, 2, 3],\n",
    "                [4, 5, 6]])\n"
   ]
  },
  {
   "cell_type": "code",
   "execution_count": 9,
   "id": "6db681ae",
   "metadata": {},
   "outputs": [
    {
     "name": "stdout",
     "output_type": "stream",
     "text": [
      "[[1 2 3]\n",
      " [4 5 6]]\n"
     ]
    }
   ],
   "source": [
    "print(arr2)"
   ]
  },
  {
   "cell_type": "code",
   "execution_count": 10,
   "id": "02246547",
   "metadata": {},
   "outputs": [
    {
     "name": "stdout",
     "output_type": "stream",
     "text": [
      "<class 'numpy.ndarray'>\n",
      "int32\n"
     ]
    }
   ],
   "source": [
    "print(type(arr2))\n",
    "print(arr2.dtype)"
   ]
  },
  {
   "cell_type": "markdown",
   "id": "920c5c41",
   "metadata": {},
   "source": [
    "### Upcasting"
   ]
  },
  {
   "cell_type": "code",
   "execution_count": 11,
   "id": "023f83e4",
   "metadata": {},
   "outputs": [],
   "source": [
    "arr3 = np.array([[1, 2, 3, 4, 5],\n",
    "                 ['one', 'two', 'three', 'four', 'five']])"
   ]
  },
  {
   "cell_type": "code",
   "execution_count": 12,
   "id": "a39f7849",
   "metadata": {},
   "outputs": [
    {
     "name": "stdout",
     "output_type": "stream",
     "text": [
      "[['1' '2' '3' '4' '5']\n",
      " ['one' 'two' 'three' 'four' 'five']]\n"
     ]
    }
   ],
   "source": [
    "print(arr3)"
   ]
  },
  {
   "cell_type": "code",
   "execution_count": 13,
   "id": "0efb2f7b",
   "metadata": {},
   "outputs": [
    {
     "name": "stdout",
     "output_type": "stream",
     "text": [
      "<class 'numpy.ndarray'>\n",
      "<U11\n"
     ]
    }
   ],
   "source": [
    "print(type(arr3))\n",
    "print(arr3.dtype)"
   ]
  },
  {
   "cell_type": "markdown",
   "id": "b502c4c4",
   "metadata": {},
   "source": [
    "That means NumPy has inferred the array’s data type as Unicode string with up to 11 characters.\n",
    "\n",
    "NumPy sees mixed types (integers and strings), and it automatically upcasts the integers to strings so all elements share a common type."
   ]
  },
  {
   "cell_type": "markdown",
   "id": "49fc1ffb",
   "metadata": {},
   "source": [
    "# Creating Arrays"
   ]
  },
  {
   "cell_type": "code",
   "execution_count": 14,
   "id": "35125e62",
   "metadata": {},
   "outputs": [
    {
     "data": {
      "text/plain": [
       "array([1, 2, 3, 4, 5])"
      ]
     },
     "execution_count": 14,
     "metadata": {},
     "output_type": "execute_result"
    }
   ],
   "source": [
    "np.array([1, 2, 3, 4, 5])"
   ]
  },
  {
   "cell_type": "code",
   "execution_count": 15,
   "id": "a42fd36c",
   "metadata": {},
   "outputs": [
    {
     "data": {
      "text/plain": [
       "array([0, 2, 4, 6, 8])"
      ]
     },
     "execution_count": 15,
     "metadata": {},
     "output_type": "execute_result"
    }
   ],
   "source": [
    "np.arange(0,10,2)"
   ]
  },
  {
   "cell_type": "code",
   "execution_count": 17,
   "id": "23e442e4",
   "metadata": {},
   "outputs": [
    {
     "data": {
      "text/plain": [
       "array([0.  , 0.25, 0.5 , 0.75, 1.  ])"
      ]
     },
     "execution_count": 17,
     "metadata": {},
     "output_type": "execute_result"
    }
   ],
   "source": [
    "np.linspace(0,1,5)"
   ]
  },
  {
   "cell_type": "code",
   "execution_count": 18,
   "id": "5e3403b5",
   "metadata": {},
   "outputs": [
    {
     "data": {
      "text/plain": [
       "array([[0., 0.],\n",
       "       [0., 0.],\n",
       "       [0., 0.]])"
      ]
     },
     "execution_count": 18,
     "metadata": {},
     "output_type": "execute_result"
    }
   ],
   "source": [
    "np.zeros((3,2))"
   ]
  },
  {
   "cell_type": "code",
   "execution_count": 19,
   "id": "d213e172",
   "metadata": {},
   "outputs": [
    {
     "data": {
      "text/plain": [
       "array([1., 1., 1., 1.])"
      ]
     },
     "execution_count": 19,
     "metadata": {},
     "output_type": "execute_result"
    }
   ],
   "source": [
    "np.ones(4)"
   ]
  },
  {
   "cell_type": "code",
   "execution_count": 22,
   "id": "512b20ac",
   "metadata": {},
   "outputs": [],
   "source": [
    "a = np.random.rand(3,4)"
   ]
  },
  {
   "cell_type": "code",
   "execution_count": 23,
   "id": "9a413ea2",
   "metadata": {},
   "outputs": [
    {
     "name": "stdout",
     "output_type": "stream",
     "text": [
      "[[0.10750735 0.56072021 0.42042965 0.23448907]\n",
      " [0.40716208 0.65629963 0.34333073 0.76680592]\n",
      " [0.90043852 0.3204891  0.22147671 0.64733341]]\n"
     ]
    }
   ],
   "source": [
    "print(a)"
   ]
  },
  {
   "cell_type": "code",
   "execution_count": null,
   "id": "3342ef3e",
   "metadata": {},
   "outputs": [],
   "source": [
    "print(arr2[0]) # accessing the first array\n",
    "print(type(arr2[0]))\n",
    "print(type(arr2[0][0]))"
   ]
  },
  {
   "cell_type": "code",
   "execution_count": null,
   "id": "da69c4b0",
   "metadata": {},
   "outputs": [],
   "source": [
    "print(arr2[1]) # accessing the second array\n",
    "print(type(arr2[1]))\n",
    "print(type(arr2[1][0]))"
   ]
  },
  {
   "cell_type": "code",
   "execution_count": null,
   "id": "088b2221",
   "metadata": {},
   "outputs": [],
   "source": [
    "print(arr2[0, 0]) # accessing the first element\n",
    "print(type(arr2[0, 0]))"
   ]
  },
  {
   "cell_type": "markdown",
   "id": "22b5fb5c",
   "metadata": {},
   "source": [
    "# Array Operations"
   ]
  },
  {
   "cell_type": "markdown",
   "id": "58514fd8",
   "metadata": {},
   "source": [
    "### Element-wise math"
   ]
  },
  {
   "cell_type": "code",
   "execution_count": 24,
   "id": "772fae05",
   "metadata": {},
   "outputs": [
    {
     "data": {
      "text/plain": [
       "array([1, 2, 3, 4, 5])"
      ]
     },
     "execution_count": 24,
     "metadata": {},
     "output_type": "execute_result"
    }
   ],
   "source": [
    "arr = np.array([1, 2, 3, 4, 5])\n",
    "arr"
   ]
  },
  {
   "cell_type": "code",
   "execution_count": 25,
   "id": "428c601a",
   "metadata": {},
   "outputs": [
    {
     "data": {
      "text/plain": [
       "array([11, 12, 13, 14, 15])"
      ]
     },
     "execution_count": 25,
     "metadata": {},
     "output_type": "execute_result"
    }
   ],
   "source": [
    "arr + 10"
   ]
  },
  {
   "cell_type": "code",
   "execution_count": 27,
   "id": "887eb54a",
   "metadata": {},
   "outputs": [
    {
     "data": {
      "text/plain": [
       "array([-4, -3, -2, -1,  0])"
      ]
     },
     "execution_count": 27,
     "metadata": {},
     "output_type": "execute_result"
    }
   ],
   "source": [
    "arr - 5"
   ]
  },
  {
   "cell_type": "code",
   "execution_count": 28,
   "id": "4b76db74",
   "metadata": {},
   "outputs": [
    {
     "data": {
      "text/plain": [
       "array([ 3,  6,  9, 12, 15])"
      ]
     },
     "execution_count": 28,
     "metadata": {},
     "output_type": "execute_result"
    }
   ],
   "source": [
    "arr * 3"
   ]
  },
  {
   "cell_type": "code",
   "execution_count": 29,
   "id": "4962652f",
   "metadata": {},
   "outputs": [
    {
     "data": {
      "text/plain": [
       "array([0.2, 0.4, 0.6, 0.8, 1. ])"
      ]
     },
     "execution_count": 29,
     "metadata": {},
     "output_type": "execute_result"
    }
   ],
   "source": [
    "arr / 5"
   ]
  },
  {
   "cell_type": "code",
   "execution_count": 30,
   "id": "0cf4d463",
   "metadata": {},
   "outputs": [
    {
     "data": {
      "text/plain": [
       "array([ 1,  4,  9, 16, 25])"
      ]
     },
     "execution_count": 30,
     "metadata": {},
     "output_type": "execute_result"
    }
   ],
   "source": [
    "arr ** 2"
   ]
  },
  {
   "cell_type": "markdown",
   "id": "908f1b93",
   "metadata": {},
   "source": [
    "### Broadcasting"
   ]
  },
  {
   "cell_type": "code",
   "execution_count": 31,
   "id": "99e92c34",
   "metadata": {},
   "outputs": [
    {
     "data": {
      "text/plain": [
       "array([[1, 2, 3],\n",
       "       [4, 5, 6],\n",
       "       [7, 8, 9]])"
      ]
     },
     "execution_count": 31,
     "metadata": {},
     "output_type": "execute_result"
    }
   ],
   "source": [
    "arr = np.array([[1, 2, 3],\n",
    "                [4, 5, 6],\n",
    "                [7, 8, 9]])\n",
    "arr"
   ]
  },
  {
   "cell_type": "code",
   "execution_count": 32,
   "id": "51be8142",
   "metadata": {},
   "outputs": [
    {
     "name": "stdout",
     "output_type": "stream",
     "text": [
      "10\n"
     ]
    },
    {
     "data": {
      "text/plain": [
       "array([[11, 12, 13],\n",
       "       [14, 15, 16],\n",
       "       [17, 18, 19]])"
      ]
     },
     "execution_count": 32,
     "metadata": {},
     "output_type": "execute_result"
    }
   ],
   "source": [
    "print(10)\n",
    "arr + 10"
   ]
  },
  {
   "cell_type": "code",
   "execution_count": 33,
   "id": "8262f98d",
   "metadata": {},
   "outputs": [
    {
     "name": "stdout",
     "output_type": "stream",
     "text": [
      "10\n"
     ]
    },
    {
     "data": {
      "text/plain": [
       "array([[11, 12, 13],\n",
       "       [14, 15, 16],\n",
       "       [17, 18, 19]])"
      ]
     },
     "execution_count": 33,
     "metadata": {},
     "output_type": "execute_result"
    }
   ],
   "source": [
    "print(np.array(10))\n",
    "arr + np.array(10)"
   ]
  },
  {
   "cell_type": "code",
   "execution_count": 34,
   "id": "e448fbe2",
   "metadata": {},
   "outputs": [
    {
     "name": "stdout",
     "output_type": "stream",
     "text": [
      "[[10 10 10]\n",
      " [10 10 10]\n",
      " [10 10 10]]\n"
     ]
    },
    {
     "data": {
      "text/plain": [
       "array([[11, 12, 13],\n",
       "       [14, 15, 16],\n",
       "       [17, 18, 19]])"
      ]
     },
     "execution_count": 34,
     "metadata": {},
     "output_type": "execute_result"
    }
   ],
   "source": [
    "print(np.array([[10, 10, 10],[10, 10, 10],[10, 10, 10]]))\n",
    "arr + np.array([[10, 10, 10],[10, 10, 10],[10, 10, 10]])"
   ]
  },
  {
   "cell_type": "markdown",
   "id": "e1e7cdc6",
   "metadata": {},
   "source": [
    "### Aggregation"
   ]
  },
  {
   "cell_type": "code",
   "execution_count": 35,
   "id": "c3411617",
   "metadata": {},
   "outputs": [
    {
     "data": {
      "text/plain": [
       "array([1, 2, 3, 4, 5])"
      ]
     },
     "execution_count": 35,
     "metadata": {},
     "output_type": "execute_result"
    }
   ],
   "source": [
    "arr = np.array([1, 2, 3, 4, 5])\n",
    "arr"
   ]
  },
  {
   "cell_type": "code",
   "execution_count": 36,
   "id": "003c1cea",
   "metadata": {},
   "outputs": [
    {
     "data": {
      "text/plain": [
       "3.0"
      ]
     },
     "execution_count": 36,
     "metadata": {},
     "output_type": "execute_result"
    }
   ],
   "source": [
    "np.mean(arr)"
   ]
  },
  {
   "cell_type": "code",
   "execution_count": 37,
   "id": "dffa78cc",
   "metadata": {},
   "outputs": [
    {
     "data": {
      "text/plain": [
       "15"
      ]
     },
     "execution_count": 37,
     "metadata": {},
     "output_type": "execute_result"
    }
   ],
   "source": [
    "np.sum(arr)"
   ]
  },
  {
   "cell_type": "code",
   "execution_count": 38,
   "id": "bb179368",
   "metadata": {},
   "outputs": [
    {
     "data": {
      "text/plain": [
       "1"
      ]
     },
     "execution_count": 38,
     "metadata": {},
     "output_type": "execute_result"
    }
   ],
   "source": [
    "np.min(arr)"
   ]
  },
  {
   "cell_type": "code",
   "execution_count": 39,
   "id": "5c4405e6",
   "metadata": {},
   "outputs": [
    {
     "data": {
      "text/plain": [
       "5"
      ]
     },
     "execution_count": 39,
     "metadata": {},
     "output_type": "execute_result"
    }
   ],
   "source": [
    "np.max(arr)"
   ]
  },
  {
   "cell_type": "code",
   "execution_count": 40,
   "id": "0c6ce615",
   "metadata": {},
   "outputs": [
    {
     "data": {
      "text/plain": [
       "1.4142135623730951"
      ]
     },
     "execution_count": 40,
     "metadata": {},
     "output_type": "execute_result"
    }
   ],
   "source": [
    "np.std(arr)"
   ]
  },
  {
   "cell_type": "markdown",
   "id": "7f27014e",
   "metadata": {},
   "source": [
    "Also works on 2D Arrays"
   ]
  },
  {
   "cell_type": "code",
   "execution_count": 41,
   "id": "219cc080",
   "metadata": {},
   "outputs": [
    {
     "data": {
      "text/plain": [
       "array([[1, 2, 3],\n",
       "       [4, 5, 6],\n",
       "       [7, 8, 9]])"
      ]
     },
     "execution_count": 41,
     "metadata": {},
     "output_type": "execute_result"
    }
   ],
   "source": [
    "arr2 = np.array([[1, 2, 3],\n",
    "                [4, 5, 6],\n",
    "                [7, 8, 9]])\n",
    "arr2"
   ]
  },
  {
   "cell_type": "code",
   "execution_count": 42,
   "id": "7f68f663",
   "metadata": {},
   "outputs": [
    {
     "data": {
      "text/plain": [
       "5.0"
      ]
     },
     "execution_count": 42,
     "metadata": {},
     "output_type": "execute_result"
    }
   ],
   "source": [
    "np.mean(arr2)"
   ]
  },
  {
   "cell_type": "code",
   "execution_count": 43,
   "id": "831af18e",
   "metadata": {},
   "outputs": [
    {
     "data": {
      "text/plain": [
       "45"
      ]
     },
     "execution_count": 43,
     "metadata": {},
     "output_type": "execute_result"
    }
   ],
   "source": [
    "np.sum(arr2)"
   ]
  },
  {
   "cell_type": "code",
   "execution_count": 44,
   "id": "77e8c644",
   "metadata": {},
   "outputs": [
    {
     "data": {
      "text/plain": [
       "1"
      ]
     },
     "execution_count": 44,
     "metadata": {},
     "output_type": "execute_result"
    }
   ],
   "source": [
    "np.min(arr2)"
   ]
  },
  {
   "cell_type": "code",
   "execution_count": 45,
   "id": "de7e548d",
   "metadata": {},
   "outputs": [
    {
     "data": {
      "text/plain": [
       "9"
      ]
     },
     "execution_count": 45,
     "metadata": {},
     "output_type": "execute_result"
    }
   ],
   "source": [
    "np.max(arr2)"
   ]
  },
  {
   "cell_type": "code",
   "execution_count": 46,
   "id": "aa79c30f",
   "metadata": {},
   "outputs": [
    {
     "data": {
      "text/plain": [
       "2.581988897471611"
      ]
     },
     "execution_count": 46,
     "metadata": {},
     "output_type": "execute_result"
    }
   ],
   "source": [
    "np.std(arr2)"
   ]
  },
  {
   "cell_type": "markdown",
   "id": "bd77214d",
   "metadata": {},
   "source": [
    "# Array Indexing and Slicing"
   ]
  },
  {
   "cell_type": "code",
   "execution_count": 47,
   "id": "c9e5cd25",
   "metadata": {},
   "outputs": [
    {
     "data": {
      "text/plain": [
       "array([1, 2, 3, 4, 5])"
      ]
     },
     "execution_count": 47,
     "metadata": {},
     "output_type": "execute_result"
    }
   ],
   "source": [
    "arr"
   ]
  },
  {
   "cell_type": "code",
   "execution_count": 48,
   "id": "493719ca",
   "metadata": {},
   "outputs": [
    {
     "data": {
      "text/plain": [
       "1"
      ]
     },
     "execution_count": 48,
     "metadata": {},
     "output_type": "execute_result"
    }
   ],
   "source": [
    "arr[0]"
   ]
  },
  {
   "cell_type": "code",
   "execution_count": 49,
   "id": "cbf7abaa",
   "metadata": {},
   "outputs": [
    {
     "data": {
      "text/plain": [
       "array([2, 3])"
      ]
     },
     "execution_count": 49,
     "metadata": {},
     "output_type": "execute_result"
    }
   ],
   "source": [
    "arr[1:3]"
   ]
  },
  {
   "cell_type": "code",
   "execution_count": 50,
   "id": "170fbfe9",
   "metadata": {},
   "outputs": [
    {
     "data": {
      "text/plain": [
       "array([[1, 2, 3],\n",
       "       [4, 5, 6],\n",
       "       [7, 8, 9]])"
      ]
     },
     "execution_count": 50,
     "metadata": {},
     "output_type": "execute_result"
    }
   ],
   "source": [
    "arr2"
   ]
  },
  {
   "cell_type": "code",
   "execution_count": 51,
   "id": "6c6f9a06",
   "metadata": {},
   "outputs": [
    {
     "data": {
      "text/plain": [
       "array([1, 2, 3])"
      ]
     },
     "execution_count": 51,
     "metadata": {},
     "output_type": "execute_result"
    }
   ],
   "source": [
    "arr2[0]"
   ]
  },
  {
   "cell_type": "code",
   "execution_count": 52,
   "id": "741fce37",
   "metadata": {},
   "outputs": [
    {
     "data": {
      "text/plain": [
       "3"
      ]
     },
     "execution_count": 52,
     "metadata": {},
     "output_type": "execute_result"
    }
   ],
   "source": [
    "arr2[0,2]"
   ]
  },
  {
   "cell_type": "code",
   "execution_count": 53,
   "id": "10651e5d",
   "metadata": {},
   "outputs": [
    {
     "data": {
      "text/plain": [
       "array([5, 6])"
      ]
     },
     "execution_count": 53,
     "metadata": {},
     "output_type": "execute_result"
    }
   ],
   "source": [
    "arr2[1,1:]"
   ]
  },
  {
   "cell_type": "markdown",
   "id": "76fcdff8",
   "metadata": {},
   "source": [
    "### Boolean Indexing"
   ]
  },
  {
   "cell_type": "code",
   "execution_count": 54,
   "id": "b4a0a8a0",
   "metadata": {},
   "outputs": [
    {
     "data": {
      "text/plain": [
       "array([4, 5])"
      ]
     },
     "execution_count": 54,
     "metadata": {},
     "output_type": "execute_result"
    }
   ],
   "source": [
    "arr[arr >= 4]"
   ]
  },
  {
   "cell_type": "code",
   "execution_count": 55,
   "id": "d4bcf879",
   "metadata": {},
   "outputs": [
    {
     "data": {
      "text/plain": [
       "array([2, 4, 6, 8])"
      ]
     },
     "execution_count": 55,
     "metadata": {},
     "output_type": "execute_result"
    }
   ],
   "source": [
    "arr2[arr2 % 2 == 0]"
   ]
  },
  {
   "cell_type": "markdown",
   "id": "087fdb47",
   "metadata": {},
   "source": [
    "### Shape and Reshape"
   ]
  },
  {
   "cell_type": "code",
   "execution_count": 56,
   "id": "9d2e0ad5",
   "metadata": {},
   "outputs": [
    {
     "name": "stdout",
     "output_type": "stream",
     "text": [
      "[1 2 3 4 5]\n",
      "(5,)\n",
      "5\n",
      "1\n"
     ]
    }
   ],
   "source": [
    "print(arr)\n",
    "print(arr.shape)\n",
    "print(arr.size)\n",
    "print(arr.ndim)"
   ]
  },
  {
   "cell_type": "code",
   "execution_count": 57,
   "id": "47f8f16d",
   "metadata": {},
   "outputs": [
    {
     "name": "stdout",
     "output_type": "stream",
     "text": [
      "[[1 2 3]\n",
      " [4 5 6]\n",
      " [7 8 9]]\n",
      "(3, 3)\n",
      "9\n",
      "2\n"
     ]
    }
   ],
   "source": [
    "print(arr2)\n",
    "print(arr2.shape)\n",
    "print(arr2.size)\n",
    "print(arr2.ndim)\n"
   ]
  },
  {
   "cell_type": "markdown",
   "id": "4e7c0a8e",
   "metadata": {},
   "source": [
    "### Reshape"
   ]
  },
  {
   "cell_type": "code",
   "execution_count": null,
   "id": "e7f04c60",
   "metadata": {},
   "outputs": [
    {
     "ename": "ValueError",
     "evalue": "cannot reshape array of size 9 into shape (3,2)",
     "output_type": "error",
     "traceback": [
      "\u001b[1;31m---------------------------------------------------------------------------\u001b[0m",
      "\u001b[1;31mValueError\u001b[0m                                Traceback (most recent call last)",
      "Cell \u001b[1;32mIn[58], line 1\u001b[0m\n\u001b[1;32m----> 1\u001b[0m arr2\u001b[38;5;241m.\u001b[39mreshape(\u001b[38;5;241m3\u001b[39m, \u001b[38;5;241m2\u001b[39m)\n",
      "\u001b[1;31mValueError\u001b[0m: cannot reshape array of size 9 into shape (3,2)"
     ]
    }
   ],
   "source": [
    "arr2.reshape(3, 2) "
   ]
  },
  {
   "cell_type": "code",
   "execution_count": 59,
   "id": "6fb18206",
   "metadata": {},
   "outputs": [
    {
     "data": {
      "text/plain": [
       "array([[1],\n",
       "       [2],\n",
       "       [3],\n",
       "       [4],\n",
       "       [5],\n",
       "       [6],\n",
       "       [7],\n",
       "       [8],\n",
       "       [9]])"
      ]
     },
     "execution_count": 59,
     "metadata": {},
     "output_type": "execute_result"
    }
   ],
   "source": [
    "arr2.reshape(9,1)"
   ]
  },
  {
   "cell_type": "code",
   "execution_count": 60,
   "id": "b7be91ae",
   "metadata": {},
   "outputs": [
    {
     "data": {
      "text/plain": [
       "array([1, 2, 3, 4, 5, 6, 7, 8, 9])"
      ]
     },
     "execution_count": 60,
     "metadata": {},
     "output_type": "execute_result"
    }
   ],
   "source": [
    "arr2.flatten()"
   ]
  },
  {
   "cell_type": "code",
   "execution_count": 61,
   "id": "53603d16",
   "metadata": {},
   "outputs": [
    {
     "name": "stdout",
     "output_type": "stream",
     "text": [
      "[[1 2 3]\n",
      " [4 5 6]]\n"
     ]
    }
   ],
   "source": [
    "array = np.array([[1, 2, 3],[4,5,6]])\n",
    "\n",
    "print(array)"
   ]
  },
  {
   "cell_type": "code",
   "execution_count": 62,
   "id": "fb65be7f",
   "metadata": {},
   "outputs": [
    {
     "data": {
      "text/plain": [
       "array([[1, 2],\n",
       "       [3, 4],\n",
       "       [5, 6]])"
      ]
     },
     "execution_count": 62,
     "metadata": {},
     "output_type": "execute_result"
    }
   ],
   "source": [
    "array.reshape(3,2)"
   ]
  },
  {
   "cell_type": "markdown",
   "id": "4a04343c",
   "metadata": {},
   "source": [
    "# Numpy Exercise"
   ]
  },
  {
   "cell_type": "code",
   "execution_count": 63,
   "id": "f9af5724",
   "metadata": {},
   "outputs": [
    {
     "name": "stdout",
     "output_type": "stream",
     "text": [
      "[38.0, 35.0, 41.0, 36.0, 38.0, 35.0, 36.0, 40.0, 50.0, 42.0, 43.0, 46.0, 46.0, 29.0, 22.0, 19.0, 20.0, 29.0, 27.0, 19.0, 25.0, 39.0, 45.0, 56.0, 59.0, 64.0, 47.0, 46.0, 36.0, 40.0, 45.0, 48.0, 47.0, 47.0, 55.0, 48.0, 46.0, 54.0, 63.0, 63.0, 63.0, 48.0, 46.0, 44.0, 39.0, 56.0, 39.0, 29.0, 37.0, 42.0, 52.0, 59.0, 49.0, 58.0, 37.0, 47.0, 65.0, 66.0, 64.0, 39.0, 52.0, 53.0, 66.0, 74.0, 75.0, 62.0, 50.0, 65.0, 56.0, 41.0, 52.0, 68.0, 71.0, 74.0, 61.0, 61.0, 56.0, 36.0, 47.0, 50.0, 41.0, 54.0, 43.0, 48.0, 67.0, 54.0, 61.0, 52.0, 53.0, 59.0, 59.0, 64.0, 63.0, 62.0, 47.0, 43.0, 54.0, 61.0, 74.0, 76.0, 66.0, 69.0, 60.0, 60.0, 82.0, 74.0, 80.0, 82.0, 73.0, 70.0, 59.0, 49.0, 62.0, 68.0, 61.0, 57.0, 70.0, 81.0, 83.0, 83.0, 73.0, 80.0, 85.0, 87.0, 65.0, 78.0, 73.0, 78.0, 81.0, 65.0, 62.0, 60.0, 66.0, 80.0, 68.0, 78.0, 76.0, 70.0, 81.0, 85.0, 86.0, 87.0, 84.0, 79.0, 84.0, 83.0, 82.0, 78.0, 75.0, 65.0, 69.0, 74.0, 80.0, 69.0, 82.0, 87.0, 80.0, 79.0, 73.0, 78.0, 75.0, 67.0, 72.0, 80.0, 87.0, 82.0, 80.0, 89.0, 94.0, 94.0, 89.0, 92.0, 94.0, 94.0, 86.0, 82.0, 84.0, 85.0, 80.0, 88.0, 85.0, 86.0, 78.0, 86.0, 91.0, 89.0, 87.0, 86.0, 89.0, 92.0, 92.0, 92.0, 79.0, 91.0, 94.0, 93.0, 93.0, 93.0, 85.0, 81.0, 84.0, 88.0, 85.0, 75.0, 84.0, 85.0, 85.0, 82.0, 89.0, 92.0, 86.0, 83.0, 92.0, 91.0, 85.0, 82.0, 87.0, 90.0, 91.0, 78.0, 85.0, 84.0, 79.0, 77.0, 78.0, 81.0, 83.0, 86.0, 83.0, 85.0, 81.0, 70.0, 69.0, 72.0, 76.0, 82.0, 87.0, 87.0, 91.0, 94.0, 93.0, 92.0, 94.0, 83.0, 87.0, 73.0, 75.0, 79.0, 82.0, 86.0, 69.0, 69.0, 75.0, 82.0, 85.0, 84.0, 83.0, 86.0, 85.0, 80.0, 80.0, 79.0, 84.0, 87.0, 89.0, 85.0, 78.0, 78.0, 79.0, 75.0, 74.0, 77.0, 70.0, 67.0, 68.0, 69.0, 76.0, 80.0, 74.0, 83.0, 63.0, 68.0, 65.0, 62.0, 70.0, 70.0, 77.0, 57.0, 53.0, 52.0, 61.0, 68.0, 73.0, 74.0, 77.0, 82.0, 77.0, 61.0, 68.0, 61.0, 56.0, 65.0, 78.0, 77.0, 80.0, 65.0, 60.0, 64.0, 73.0, 81.0, 72.0, 65.0, 65.0, 57.0, 61.0, 61.0, 51.0, 55.0, 47.0, 52.0, 51.0, 55.0, 61.0, 62.0, 63.0, 40.0, 43.0, 47.0, 45.0, 56.0, 56.0, 46.0, 41.0, 36.0, 28.0, 32.0, 35.0, 35.0, 43.0, 35.0, 30.0, 40.0, 55.0, 55.0, 59.0, 49.0, 31.0, 31.0, 41.0, 43.0, 58.0, 57.0, 40.0, 36.0, 35.0, 44.0, 27.0, 43.0, 43.0, 41.0, 45.0, 53.0, 64.0, 65.0, 50.0, 49.0]\n"
     ]
    }
   ],
   "source": [
    "print(daily_highs)"
   ]
  },
  {
   "cell_type": "code",
   "execution_count": 64,
   "id": "c6aca0aa",
   "metadata": {},
   "outputs": [
    {
     "name": "stdout",
     "output_type": "stream",
     "text": [
      "Average high temperature: 65.88524590163935\n"
     ]
    }
   ],
   "source": [
    "#Using np.array to find average daily high\n",
    "daily_highs_array = np.array(daily_highs)\n",
    "average_high = np.mean(daily_highs_array)\n",
    "\n",
    "print(\"Average high temperature:\", average_high)"
   ]
  },
  {
   "cell_type": "markdown",
   "id": "7eea8a4f",
   "metadata": {},
   "source": [
    "# Pandas"
   ]
  },
  {
   "cell_type": "code",
   "execution_count": 65,
   "id": "dd5e50d8",
   "metadata": {},
   "outputs": [],
   "source": [
    "import pandas as pd"
   ]
  },
  {
   "cell_type": "markdown",
   "id": "e5a9d7ac",
   "metadata": {},
   "source": [
    "## Creating Data"
   ]
  },
  {
   "cell_type": "code",
   "execution_count": 66,
   "id": "21167f65",
   "metadata": {},
   "outputs": [
    {
     "data": {
      "text/plain": [
       "[38.0,\n",
       " 35.0,\n",
       " 41.0,\n",
       " 36.0,\n",
       " 38.0,\n",
       " 35.0,\n",
       " 36.0,\n",
       " 40.0,\n",
       " 50.0,\n",
       " 42.0,\n",
       " 43.0,\n",
       " 46.0,\n",
       " 46.0,\n",
       " 29.0,\n",
       " 22.0,\n",
       " 19.0,\n",
       " 20.0,\n",
       " 29.0,\n",
       " 27.0,\n",
       " 19.0,\n",
       " 25.0,\n",
       " 39.0,\n",
       " 45.0,\n",
       " 56.0,\n",
       " 59.0,\n",
       " 64.0,\n",
       " 47.0,\n",
       " 46.0,\n",
       " 36.0,\n",
       " 40.0,\n",
       " 45.0,\n",
       " 48.0,\n",
       " 47.0,\n",
       " 47.0,\n",
       " 55.0,\n",
       " 48.0,\n",
       " 46.0,\n",
       " 54.0,\n",
       " 63.0,\n",
       " 63.0,\n",
       " 63.0,\n",
       " 48.0,\n",
       " 46.0,\n",
       " 44.0,\n",
       " 39.0,\n",
       " 56.0,\n",
       " 39.0,\n",
       " 29.0,\n",
       " 37.0,\n",
       " 42.0,\n",
       " 52.0,\n",
       " 59.0,\n",
       " 49.0,\n",
       " 58.0,\n",
       " 37.0,\n",
       " 47.0,\n",
       " 65.0,\n",
       " 66.0,\n",
       " 64.0,\n",
       " 39.0,\n",
       " 52.0,\n",
       " 53.0,\n",
       " 66.0,\n",
       " 74.0,\n",
       " 75.0,\n",
       " 62.0,\n",
       " 50.0,\n",
       " 65.0,\n",
       " 56.0,\n",
       " 41.0,\n",
       " 52.0,\n",
       " 68.0,\n",
       " 71.0,\n",
       " 74.0,\n",
       " 61.0,\n",
       " 61.0,\n",
       " 56.0,\n",
       " 36.0,\n",
       " 47.0,\n",
       " 50.0,\n",
       " 41.0,\n",
       " 54.0,\n",
       " 43.0,\n",
       " 48.0,\n",
       " 67.0,\n",
       " 54.0,\n",
       " 61.0,\n",
       " 52.0,\n",
       " 53.0,\n",
       " 59.0,\n",
       " 59.0,\n",
       " 64.0,\n",
       " 63.0,\n",
       " 62.0,\n",
       " 47.0,\n",
       " 43.0,\n",
       " 54.0,\n",
       " 61.0,\n",
       " 74.0,\n",
       " 76.0,\n",
       " 66.0,\n",
       " 69.0,\n",
       " 60.0,\n",
       " 60.0,\n",
       " 82.0,\n",
       " 74.0,\n",
       " 80.0,\n",
       " 82.0,\n",
       " 73.0,\n",
       " 70.0,\n",
       " 59.0,\n",
       " 49.0,\n",
       " 62.0,\n",
       " 68.0,\n",
       " 61.0,\n",
       " 57.0,\n",
       " 70.0,\n",
       " 81.0,\n",
       " 83.0,\n",
       " 83.0,\n",
       " 73.0,\n",
       " 80.0,\n",
       " 85.0,\n",
       " 87.0,\n",
       " 65.0,\n",
       " 78.0,\n",
       " 73.0,\n",
       " 78.0,\n",
       " 81.0,\n",
       " 65.0,\n",
       " 62.0,\n",
       " 60.0,\n",
       " 66.0,\n",
       " 80.0,\n",
       " 68.0,\n",
       " 78.0,\n",
       " 76.0,\n",
       " 70.0,\n",
       " 81.0,\n",
       " 85.0,\n",
       " 86.0,\n",
       " 87.0,\n",
       " 84.0,\n",
       " 79.0,\n",
       " 84.0,\n",
       " 83.0,\n",
       " 82.0,\n",
       " 78.0,\n",
       " 75.0,\n",
       " 65.0,\n",
       " 69.0,\n",
       " 74.0,\n",
       " 80.0,\n",
       " 69.0,\n",
       " 82.0,\n",
       " 87.0,\n",
       " 80.0,\n",
       " 79.0,\n",
       " 73.0,\n",
       " 78.0,\n",
       " 75.0,\n",
       " 67.0,\n",
       " 72.0,\n",
       " 80.0,\n",
       " 87.0,\n",
       " 82.0,\n",
       " 80.0,\n",
       " 89.0,\n",
       " 94.0,\n",
       " 94.0,\n",
       " 89.0,\n",
       " 92.0,\n",
       " 94.0,\n",
       " 94.0,\n",
       " 86.0,\n",
       " 82.0,\n",
       " 84.0,\n",
       " 85.0,\n",
       " 80.0,\n",
       " 88.0,\n",
       " 85.0,\n",
       " 86.0,\n",
       " 78.0,\n",
       " 86.0,\n",
       " 91.0,\n",
       " 89.0,\n",
       " 87.0,\n",
       " 86.0,\n",
       " 89.0,\n",
       " 92.0,\n",
       " 92.0,\n",
       " 92.0,\n",
       " 79.0,\n",
       " 91.0,\n",
       " 94.0,\n",
       " 93.0,\n",
       " 93.0,\n",
       " 93.0,\n",
       " 85.0,\n",
       " 81.0,\n",
       " 84.0,\n",
       " 88.0,\n",
       " 85.0,\n",
       " 75.0,\n",
       " 84.0,\n",
       " 85.0,\n",
       " 85.0,\n",
       " 82.0,\n",
       " 89.0,\n",
       " 92.0,\n",
       " 86.0,\n",
       " 83.0,\n",
       " 92.0,\n",
       " 91.0,\n",
       " 85.0,\n",
       " 82.0,\n",
       " 87.0,\n",
       " 90.0,\n",
       " 91.0,\n",
       " 78.0,\n",
       " 85.0,\n",
       " 84.0,\n",
       " 79.0,\n",
       " 77.0,\n",
       " 78.0,\n",
       " 81.0,\n",
       " 83.0,\n",
       " 86.0,\n",
       " 83.0,\n",
       " 85.0,\n",
       " 81.0,\n",
       " 70.0,\n",
       " 69.0,\n",
       " 72.0,\n",
       " 76.0,\n",
       " 82.0,\n",
       " 87.0,\n",
       " 87.0,\n",
       " 91.0,\n",
       " 94.0,\n",
       " 93.0,\n",
       " 92.0,\n",
       " 94.0,\n",
       " 83.0,\n",
       " 87.0,\n",
       " 73.0,\n",
       " 75.0,\n",
       " 79.0,\n",
       " 82.0,\n",
       " 86.0,\n",
       " 69.0,\n",
       " 69.0,\n",
       " 75.0,\n",
       " 82.0,\n",
       " 85.0,\n",
       " 84.0,\n",
       " 83.0,\n",
       " 86.0,\n",
       " 85.0,\n",
       " 80.0,\n",
       " 80.0,\n",
       " 79.0,\n",
       " 84.0,\n",
       " 87.0,\n",
       " 89.0,\n",
       " 85.0,\n",
       " 78.0,\n",
       " 78.0,\n",
       " 79.0,\n",
       " 75.0,\n",
       " 74.0,\n",
       " 77.0,\n",
       " 70.0,\n",
       " 67.0,\n",
       " 68.0,\n",
       " 69.0,\n",
       " 76.0,\n",
       " 80.0,\n",
       " 74.0,\n",
       " 83.0,\n",
       " 63.0,\n",
       " 68.0,\n",
       " 65.0,\n",
       " 62.0,\n",
       " 70.0,\n",
       " 70.0,\n",
       " 77.0,\n",
       " 57.0,\n",
       " 53.0,\n",
       " 52.0,\n",
       " 61.0,\n",
       " 68.0,\n",
       " 73.0,\n",
       " 74.0,\n",
       " 77.0,\n",
       " 82.0,\n",
       " 77.0,\n",
       " 61.0,\n",
       " 68.0,\n",
       " 61.0,\n",
       " 56.0,\n",
       " 65.0,\n",
       " 78.0,\n",
       " 77.0,\n",
       " 80.0,\n",
       " 65.0,\n",
       " 60.0,\n",
       " 64.0,\n",
       " 73.0,\n",
       " 81.0,\n",
       " 72.0,\n",
       " 65.0,\n",
       " 65.0,\n",
       " 57.0,\n",
       " 61.0,\n",
       " 61.0,\n",
       " 51.0,\n",
       " 55.0,\n",
       " 47.0,\n",
       " 52.0,\n",
       " 51.0,\n",
       " 55.0,\n",
       " 61.0,\n",
       " 62.0,\n",
       " 63.0,\n",
       " 40.0,\n",
       " 43.0,\n",
       " 47.0,\n",
       " 45.0,\n",
       " 56.0,\n",
       " 56.0,\n",
       " 46.0,\n",
       " 41.0,\n",
       " 36.0,\n",
       " 28.0,\n",
       " 32.0,\n",
       " 35.0,\n",
       " 35.0,\n",
       " 43.0,\n",
       " 35.0,\n",
       " 30.0,\n",
       " 40.0,\n",
       " 55.0,\n",
       " 55.0,\n",
       " 59.0,\n",
       " 49.0,\n",
       " 31.0,\n",
       " 31.0,\n",
       " 41.0,\n",
       " 43.0,\n",
       " 58.0,\n",
       " 57.0,\n",
       " 40.0,\n",
       " 36.0,\n",
       " 35.0,\n",
       " 44.0,\n",
       " 27.0,\n",
       " 43.0,\n",
       " 43.0,\n",
       " 41.0,\n",
       " 45.0,\n",
       " 53.0,\n",
       " 64.0,\n",
       " 65.0,\n",
       " 50.0,\n",
       " 49.0]"
      ]
     },
     "execution_count": 66,
     "metadata": {},
     "output_type": "execute_result"
    }
   ],
   "source": [
    "daily_highs"
   ]
  },
  {
   "cell_type": "code",
   "execution_count": 67,
   "id": "a8e4c283",
   "metadata": {},
   "outputs": [],
   "source": [
    "pgh_weather = pd.Series(    data=daily_highs,\n",
    "    name='Pittsburgh Daily Highs'\n",
    ")"
   ]
  },
  {
   "cell_type": "code",
   "execution_count": 68,
   "id": "bb47ac55",
   "metadata": {},
   "outputs": [
    {
     "data": {
      "text/plain": [
       "0      38.0\n",
       "1      35.0\n",
       "2      41.0\n",
       "3      36.0\n",
       "4      38.0\n",
       "       ... \n",
       "361    53.0\n",
       "362    64.0\n",
       "363    65.0\n",
       "364    50.0\n",
       "365    49.0\n",
       "Name: Pittsburgh Daily Highs, Length: 366, dtype: float64"
      ]
     },
     "execution_count": 68,
     "metadata": {},
     "output_type": "execute_result"
    }
   ],
   "source": [
    "pgh_weather"
   ]
  },
  {
   "cell_type": "code",
   "execution_count": 69,
   "id": "74f77021",
   "metadata": {},
   "outputs": [],
   "source": [
    "pd.set_option('display.max_rows', None)  # Show all rows in the Series"
   ]
  },
  {
   "cell_type": "code",
   "execution_count": 70,
   "id": "e4a7465a",
   "metadata": {},
   "outputs": [
    {
     "data": {
      "text/plain": [
       "0      38.0\n",
       "1      35.0\n",
       "2      41.0\n",
       "3      36.0\n",
       "4      38.0\n",
       "5      35.0\n",
       "6      36.0\n",
       "7      40.0\n",
       "8      50.0\n",
       "9      42.0\n",
       "10     43.0\n",
       "11     46.0\n",
       "12     46.0\n",
       "13     29.0\n",
       "14     22.0\n",
       "15     19.0\n",
       "16     20.0\n",
       "17     29.0\n",
       "18     27.0\n",
       "19     19.0\n",
       "20     25.0\n",
       "21     39.0\n",
       "22     45.0\n",
       "23     56.0\n",
       "24     59.0\n",
       "25     64.0\n",
       "26     47.0\n",
       "27     46.0\n",
       "28     36.0\n",
       "29     40.0\n",
       "30     45.0\n",
       "31     48.0\n",
       "32     47.0\n",
       "33     47.0\n",
       "34     55.0\n",
       "35     48.0\n",
       "36     46.0\n",
       "37     54.0\n",
       "38     63.0\n",
       "39     63.0\n",
       "40     63.0\n",
       "41     48.0\n",
       "42     46.0\n",
       "43     44.0\n",
       "44     39.0\n",
       "45     56.0\n",
       "46     39.0\n",
       "47     29.0\n",
       "48     37.0\n",
       "49     42.0\n",
       "50     52.0\n",
       "51     59.0\n",
       "52     49.0\n",
       "53     58.0\n",
       "54     37.0\n",
       "55     47.0\n",
       "56     65.0\n",
       "57     66.0\n",
       "58     64.0\n",
       "59     39.0\n",
       "60     52.0\n",
       "61     53.0\n",
       "62     66.0\n",
       "63     74.0\n",
       "64     75.0\n",
       "65     62.0\n",
       "66     50.0\n",
       "67     65.0\n",
       "68     56.0\n",
       "69     41.0\n",
       "70     52.0\n",
       "71     68.0\n",
       "72     71.0\n",
       "73     74.0\n",
       "74     61.0\n",
       "75     61.0\n",
       "76     56.0\n",
       "77     36.0\n",
       "78     47.0\n",
       "79     50.0\n",
       "80     41.0\n",
       "81     54.0\n",
       "82     43.0\n",
       "83     48.0\n",
       "84     67.0\n",
       "85     54.0\n",
       "86     61.0\n",
       "87     52.0\n",
       "88     53.0\n",
       "89     59.0\n",
       "90     59.0\n",
       "91     64.0\n",
       "92     63.0\n",
       "93     62.0\n",
       "94     47.0\n",
       "95     43.0\n",
       "96     54.0\n",
       "97     61.0\n",
       "98     74.0\n",
       "99     76.0\n",
       "100    66.0\n",
       "101    69.0\n",
       "102    60.0\n",
       "103    60.0\n",
       "104    82.0\n",
       "105    74.0\n",
       "106    80.0\n",
       "107    82.0\n",
       "108    73.0\n",
       "109    70.0\n",
       "110    59.0\n",
       "111    49.0\n",
       "112    62.0\n",
       "113    68.0\n",
       "114    61.0\n",
       "115    57.0\n",
       "116    70.0\n",
       "117    81.0\n",
       "118    83.0\n",
       "119    83.0\n",
       "120    73.0\n",
       "121    80.0\n",
       "122    85.0\n",
       "123    87.0\n",
       "124    65.0\n",
       "125    78.0\n",
       "126    73.0\n",
       "127    78.0\n",
       "128    81.0\n",
       "129    65.0\n",
       "130    62.0\n",
       "131    60.0\n",
       "132    66.0\n",
       "133    80.0\n",
       "134    68.0\n",
       "135    78.0\n",
       "136    76.0\n",
       "137    70.0\n",
       "138    81.0\n",
       "139    85.0\n",
       "140    86.0\n",
       "141    87.0\n",
       "142    84.0\n",
       "143    79.0\n",
       "144    84.0\n",
       "145    83.0\n",
       "146    82.0\n",
       "147    78.0\n",
       "148    75.0\n",
       "149    65.0\n",
       "150    69.0\n",
       "151    74.0\n",
       "152    80.0\n",
       "153    69.0\n",
       "154    82.0\n",
       "155    87.0\n",
       "156    80.0\n",
       "157    79.0\n",
       "158    73.0\n",
       "159    78.0\n",
       "160    75.0\n",
       "161    67.0\n",
       "162    72.0\n",
       "163    80.0\n",
       "164    87.0\n",
       "165    82.0\n",
       "166    80.0\n",
       "167    89.0\n",
       "168    94.0\n",
       "169    94.0\n",
       "170    89.0\n",
       "171    92.0\n",
       "172    94.0\n",
       "173    94.0\n",
       "174    86.0\n",
       "175    82.0\n",
       "176    84.0\n",
       "177    85.0\n",
       "178    80.0\n",
       "179    88.0\n",
       "180    85.0\n",
       "181    86.0\n",
       "182    78.0\n",
       "183    86.0\n",
       "184    91.0\n",
       "185    89.0\n",
       "186    87.0\n",
       "187    86.0\n",
       "188    89.0\n",
       "189    92.0\n",
       "190    92.0\n",
       "191    92.0\n",
       "192    79.0\n",
       "193    91.0\n",
       "194    94.0\n",
       "195    93.0\n",
       "196    93.0\n",
       "197    93.0\n",
       "198    85.0\n",
       "199    81.0\n",
       "200    84.0\n",
       "201    88.0\n",
       "202    85.0\n",
       "203    75.0\n",
       "204    84.0\n",
       "205    85.0\n",
       "206    85.0\n",
       "207    82.0\n",
       "208    89.0\n",
       "209    92.0\n",
       "210    86.0\n",
       "211    83.0\n",
       "212    92.0\n",
       "213    91.0\n",
       "214    85.0\n",
       "215    82.0\n",
       "216    87.0\n",
       "217    90.0\n",
       "218    91.0\n",
       "219    78.0\n",
       "220    85.0\n",
       "221    84.0\n",
       "222    79.0\n",
       "223    77.0\n",
       "224    78.0\n",
       "225    81.0\n",
       "226    83.0\n",
       "227    86.0\n",
       "228    83.0\n",
       "229    85.0\n",
       "230    81.0\n",
       "231    70.0\n",
       "232    69.0\n",
       "233    72.0\n",
       "234    76.0\n",
       "235    82.0\n",
       "236    87.0\n",
       "237    87.0\n",
       "238    91.0\n",
       "239    94.0\n",
       "240    93.0\n",
       "241    92.0\n",
       "242    94.0\n",
       "243    83.0\n",
       "244    87.0\n",
       "245    73.0\n",
       "246    75.0\n",
       "247    79.0\n",
       "248    82.0\n",
       "249    86.0\n",
       "250    69.0\n",
       "251    69.0\n",
       "252    75.0\n",
       "253    82.0\n",
       "254    85.0\n",
       "255    84.0\n",
       "256    83.0\n",
       "257    86.0\n",
       "258    85.0\n",
       "259    80.0\n",
       "260    80.0\n",
       "261    79.0\n",
       "262    84.0\n",
       "263    87.0\n",
       "264    89.0\n",
       "265    85.0\n",
       "266    78.0\n",
       "267    78.0\n",
       "268    79.0\n",
       "269    75.0\n",
       "270    74.0\n",
       "271    77.0\n",
       "272    70.0\n",
       "273    67.0\n",
       "274    68.0\n",
       "275    69.0\n",
       "276    76.0\n",
       "277    80.0\n",
       "278    74.0\n",
       "279    83.0\n",
       "280    63.0\n",
       "281    68.0\n",
       "282    65.0\n",
       "283    62.0\n",
       "284    70.0\n",
       "285    70.0\n",
       "286    77.0\n",
       "287    57.0\n",
       "288    53.0\n",
       "289    52.0\n",
       "290    61.0\n",
       "291    68.0\n",
       "292    73.0\n",
       "293    74.0\n",
       "294    77.0\n",
       "295    82.0\n",
       "296    77.0\n",
       "297    61.0\n",
       "298    68.0\n",
       "299    61.0\n",
       "300    56.0\n",
       "301    65.0\n",
       "302    78.0\n",
       "303    77.0\n",
       "304    80.0\n",
       "305    65.0\n",
       "306    60.0\n",
       "307    64.0\n",
       "308    73.0\n",
       "309    81.0\n",
       "310    72.0\n",
       "311    65.0\n",
       "312    65.0\n",
       "313    57.0\n",
       "314    61.0\n",
       "315    61.0\n",
       "316    51.0\n",
       "317    55.0\n",
       "318    47.0\n",
       "319    52.0\n",
       "320    51.0\n",
       "321    55.0\n",
       "322    61.0\n",
       "323    62.0\n",
       "324    63.0\n",
       "325    40.0\n",
       "326    43.0\n",
       "327    47.0\n",
       "328    45.0\n",
       "329    56.0\n",
       "330    56.0\n",
       "331    46.0\n",
       "332    41.0\n",
       "333    36.0\n",
       "334    28.0\n",
       "335    32.0\n",
       "336    35.0\n",
       "337    35.0\n",
       "338    43.0\n",
       "339    35.0\n",
       "340    30.0\n",
       "341    40.0\n",
       "342    55.0\n",
       "343    55.0\n",
       "344    59.0\n",
       "345    49.0\n",
       "346    31.0\n",
       "347    31.0\n",
       "348    41.0\n",
       "349    43.0\n",
       "350    58.0\n",
       "351    57.0\n",
       "352    40.0\n",
       "353    36.0\n",
       "354    35.0\n",
       "355    44.0\n",
       "356    27.0\n",
       "357    43.0\n",
       "358    43.0\n",
       "359    41.0\n",
       "360    45.0\n",
       "361    53.0\n",
       "362    64.0\n",
       "363    65.0\n",
       "364    50.0\n",
       "365    49.0\n",
       "Name: Pittsburgh Daily Highs, dtype: float64"
      ]
     },
     "execution_count": 70,
     "metadata": {},
     "output_type": "execute_result"
    }
   ],
   "source": [
    "pgh_weather"
   ]
  },
  {
   "cell_type": "code",
   "execution_count": 71,
   "id": "7bf41282",
   "metadata": {},
   "outputs": [],
   "source": [
    "pd.set_option('display.max_rows', 20) "
   ]
  },
  {
   "cell_type": "code",
   "execution_count": 72,
   "id": "563563f4",
   "metadata": {},
   "outputs": [],
   "source": [
    "df = pd.DataFrame({\n",
    "    'Day': [f'Day {i+1}' for i in range(len(daily_highs))],\n",
    "    'High': daily_highs\n",
    "})"
   ]
  },
  {
   "cell_type": "code",
   "execution_count": 73,
   "id": "6b20b307",
   "metadata": {},
   "outputs": [
    {
     "data": {
      "text/html": [
       "<div>\n",
       "<style scoped>\n",
       "    .dataframe tbody tr th:only-of-type {\n",
       "        vertical-align: middle;\n",
       "    }\n",
       "\n",
       "    .dataframe tbody tr th {\n",
       "        vertical-align: top;\n",
       "    }\n",
       "\n",
       "    .dataframe thead th {\n",
       "        text-align: right;\n",
       "    }\n",
       "</style>\n",
       "<table border=\"1\" class=\"dataframe\">\n",
       "  <thead>\n",
       "    <tr style=\"text-align: right;\">\n",
       "      <th></th>\n",
       "      <th>Day</th>\n",
       "      <th>High</th>\n",
       "    </tr>\n",
       "  </thead>\n",
       "  <tbody>\n",
       "    <tr>\n",
       "      <th>0</th>\n",
       "      <td>Day 1</td>\n",
       "      <td>38.0</td>\n",
       "    </tr>\n",
       "    <tr>\n",
       "      <th>1</th>\n",
       "      <td>Day 2</td>\n",
       "      <td>35.0</td>\n",
       "    </tr>\n",
       "    <tr>\n",
       "      <th>2</th>\n",
       "      <td>Day 3</td>\n",
       "      <td>41.0</td>\n",
       "    </tr>\n",
       "    <tr>\n",
       "      <th>3</th>\n",
       "      <td>Day 4</td>\n",
       "      <td>36.0</td>\n",
       "    </tr>\n",
       "    <tr>\n",
       "      <th>4</th>\n",
       "      <td>Day 5</td>\n",
       "      <td>38.0</td>\n",
       "    </tr>\n",
       "    <tr>\n",
       "      <th>...</th>\n",
       "      <td>...</td>\n",
       "      <td>...</td>\n",
       "    </tr>\n",
       "    <tr>\n",
       "      <th>361</th>\n",
       "      <td>Day 362</td>\n",
       "      <td>53.0</td>\n",
       "    </tr>\n",
       "    <tr>\n",
       "      <th>362</th>\n",
       "      <td>Day 363</td>\n",
       "      <td>64.0</td>\n",
       "    </tr>\n",
       "    <tr>\n",
       "      <th>363</th>\n",
       "      <td>Day 364</td>\n",
       "      <td>65.0</td>\n",
       "    </tr>\n",
       "    <tr>\n",
       "      <th>364</th>\n",
       "      <td>Day 365</td>\n",
       "      <td>50.0</td>\n",
       "    </tr>\n",
       "    <tr>\n",
       "      <th>365</th>\n",
       "      <td>Day 366</td>\n",
       "      <td>49.0</td>\n",
       "    </tr>\n",
       "  </tbody>\n",
       "</table>\n",
       "<p>366 rows × 2 columns</p>\n",
       "</div>"
      ],
      "text/plain": [
       "         Day  High\n",
       "0      Day 1  38.0\n",
       "1      Day 2  35.0\n",
       "2      Day 3  41.0\n",
       "3      Day 4  36.0\n",
       "4      Day 5  38.0\n",
       "..       ...   ...\n",
       "361  Day 362  53.0\n",
       "362  Day 363  64.0\n",
       "363  Day 364  65.0\n",
       "364  Day 365  50.0\n",
       "365  Day 366  49.0\n",
       "\n",
       "[366 rows x 2 columns]"
      ]
     },
     "execution_count": 73,
     "metadata": {},
     "output_type": "execute_result"
    }
   ],
   "source": [
    "df"
   ]
  },
  {
   "cell_type": "code",
   "execution_count": 75,
   "id": "58c02839",
   "metadata": {},
   "outputs": [],
   "source": [
    "df = pd.read_csv('pittsburgh-weather-2024.csv')"
   ]
  },
  {
   "cell_type": "code",
   "execution_count": 76,
   "id": "c56f2038",
   "metadata": {},
   "outputs": [
    {
     "data": {
      "text/html": [
       "<div>\n",
       "<style scoped>\n",
       "    .dataframe tbody tr th:only-of-type {\n",
       "        vertical-align: middle;\n",
       "    }\n",
       "\n",
       "    .dataframe tbody tr th {\n",
       "        vertical-align: top;\n",
       "    }\n",
       "\n",
       "    .dataframe thead th {\n",
       "        text-align: right;\n",
       "    }\n",
       "</style>\n",
       "<table border=\"1\" class=\"dataframe\">\n",
       "  <thead>\n",
       "    <tr style=\"text-align: right;\">\n",
       "      <th></th>\n",
       "      <th>Day</th>\n",
       "      <th>High</th>\n",
       "      <th>Low</th>\n",
       "      <th>Precipitation</th>\n",
       "      <th>Snow</th>\n",
       "    </tr>\n",
       "  </thead>\n",
       "  <tbody>\n",
       "    <tr>\n",
       "      <th>0</th>\n",
       "      <td>January 1</td>\n",
       "      <td>38.0</td>\n",
       "      <td>32.0</td>\n",
       "      <td>0.08</td>\n",
       "      <td>0.4</td>\n",
       "    </tr>\n",
       "    <tr>\n",
       "      <th>1</th>\n",
       "      <td>January 2</td>\n",
       "      <td>35.0</td>\n",
       "      <td>32.0</td>\n",
       "      <td>0.00</td>\n",
       "      <td>0.0</td>\n",
       "    </tr>\n",
       "    <tr>\n",
       "      <th>2</th>\n",
       "      <td>January 3</td>\n",
       "      <td>41.0</td>\n",
       "      <td>32.0</td>\n",
       "      <td>0.00</td>\n",
       "      <td>0.0</td>\n",
       "    </tr>\n",
       "    <tr>\n",
       "      <th>3</th>\n",
       "      <td>January 4</td>\n",
       "      <td>36.0</td>\n",
       "      <td>27.0</td>\n",
       "      <td>0.00</td>\n",
       "      <td>0.0</td>\n",
       "    </tr>\n",
       "    <tr>\n",
       "      <th>4</th>\n",
       "      <td>January 5</td>\n",
       "      <td>38.0</td>\n",
       "      <td>20.0</td>\n",
       "      <td>0.00</td>\n",
       "      <td>0.0</td>\n",
       "    </tr>\n",
       "    <tr>\n",
       "      <th>...</th>\n",
       "      <td>...</td>\n",
       "      <td>...</td>\n",
       "      <td>...</td>\n",
       "      <td>...</td>\n",
       "      <td>...</td>\n",
       "    </tr>\n",
       "    <tr>\n",
       "      <th>361</th>\n",
       "      <td>December 27</td>\n",
       "      <td>53.0</td>\n",
       "      <td>33.0</td>\n",
       "      <td>0.00</td>\n",
       "      <td>0.0</td>\n",
       "    </tr>\n",
       "    <tr>\n",
       "      <th>362</th>\n",
       "      <td>December 28</td>\n",
       "      <td>64.0</td>\n",
       "      <td>46.0</td>\n",
       "      <td>0.03</td>\n",
       "      <td>0.0</td>\n",
       "    </tr>\n",
       "    <tr>\n",
       "      <th>363</th>\n",
       "      <td>December 29</td>\n",
       "      <td>65.0</td>\n",
       "      <td>45.0</td>\n",
       "      <td>0.24</td>\n",
       "      <td>0.0</td>\n",
       "    </tr>\n",
       "    <tr>\n",
       "      <th>364</th>\n",
       "      <td>December 30</td>\n",
       "      <td>50.0</td>\n",
       "      <td>37.0</td>\n",
       "      <td>0.08</td>\n",
       "      <td>0.0</td>\n",
       "    </tr>\n",
       "    <tr>\n",
       "      <th>365</th>\n",
       "      <td>December 31</td>\n",
       "      <td>49.0</td>\n",
       "      <td>33.0</td>\n",
       "      <td>0.42</td>\n",
       "      <td>0.0</td>\n",
       "    </tr>\n",
       "  </tbody>\n",
       "</table>\n",
       "<p>366 rows × 5 columns</p>\n",
       "</div>"
      ],
      "text/plain": [
       "             Day  High   Low  Precipitation  Snow\n",
       "0      January 1  38.0  32.0           0.08   0.4\n",
       "1      January 2  35.0  32.0           0.00   0.0\n",
       "2      January 3  41.0  32.0           0.00   0.0\n",
       "3      January 4  36.0  27.0           0.00   0.0\n",
       "4      January 5  38.0  20.0           0.00   0.0\n",
       "..           ...   ...   ...            ...   ...\n",
       "361  December 27  53.0  33.0           0.00   0.0\n",
       "362  December 28  64.0  46.0           0.03   0.0\n",
       "363  December 29  65.0  45.0           0.24   0.0\n",
       "364  December 30  50.0  37.0           0.08   0.0\n",
       "365  December 31  49.0  33.0           0.42   0.0\n",
       "\n",
       "[366 rows x 5 columns]"
      ]
     },
     "execution_count": 76,
     "metadata": {},
     "output_type": "execute_result"
    }
   ],
   "source": [
    "df"
   ]
  },
  {
   "cell_type": "markdown",
   "id": "7aa73b12",
   "metadata": {},
   "source": [
    "## Data Exploration"
   ]
  },
  {
   "cell_type": "code",
   "execution_count": 77,
   "id": "075b434d",
   "metadata": {},
   "outputs": [
    {
     "data": {
      "text/html": [
       "<div>\n",
       "<style scoped>\n",
       "    .dataframe tbody tr th:only-of-type {\n",
       "        vertical-align: middle;\n",
       "    }\n",
       "\n",
       "    .dataframe tbody tr th {\n",
       "        vertical-align: top;\n",
       "    }\n",
       "\n",
       "    .dataframe thead th {\n",
       "        text-align: right;\n",
       "    }\n",
       "</style>\n",
       "<table border=\"1\" class=\"dataframe\">\n",
       "  <thead>\n",
       "    <tr style=\"text-align: right;\">\n",
       "      <th></th>\n",
       "      <th>Day</th>\n",
       "      <th>High</th>\n",
       "      <th>Low</th>\n",
       "      <th>Precipitation</th>\n",
       "      <th>Snow</th>\n",
       "    </tr>\n",
       "  </thead>\n",
       "  <tbody>\n",
       "    <tr>\n",
       "      <th>0</th>\n",
       "      <td>January 1</td>\n",
       "      <td>38.0</td>\n",
       "      <td>32.0</td>\n",
       "      <td>0.08</td>\n",
       "      <td>0.4</td>\n",
       "    </tr>\n",
       "    <tr>\n",
       "      <th>1</th>\n",
       "      <td>January 2</td>\n",
       "      <td>35.0</td>\n",
       "      <td>32.0</td>\n",
       "      <td>0.00</td>\n",
       "      <td>0.0</td>\n",
       "    </tr>\n",
       "    <tr>\n",
       "      <th>2</th>\n",
       "      <td>January 3</td>\n",
       "      <td>41.0</td>\n",
       "      <td>32.0</td>\n",
       "      <td>0.00</td>\n",
       "      <td>0.0</td>\n",
       "    </tr>\n",
       "    <tr>\n",
       "      <th>3</th>\n",
       "      <td>January 4</td>\n",
       "      <td>36.0</td>\n",
       "      <td>27.0</td>\n",
       "      <td>0.00</td>\n",
       "      <td>0.0</td>\n",
       "    </tr>\n",
       "    <tr>\n",
       "      <th>4</th>\n",
       "      <td>January 5</td>\n",
       "      <td>38.0</td>\n",
       "      <td>20.0</td>\n",
       "      <td>0.00</td>\n",
       "      <td>0.0</td>\n",
       "    </tr>\n",
       "  </tbody>\n",
       "</table>\n",
       "</div>"
      ],
      "text/plain": [
       "         Day  High   Low  Precipitation  Snow\n",
       "0  January 1  38.0  32.0           0.08   0.4\n",
       "1  January 2  35.0  32.0           0.00   0.0\n",
       "2  January 3  41.0  32.0           0.00   0.0\n",
       "3  January 4  36.0  27.0           0.00   0.0\n",
       "4  January 5  38.0  20.0           0.00   0.0"
      ]
     },
     "execution_count": 77,
     "metadata": {},
     "output_type": "execute_result"
    }
   ],
   "source": [
    "df.head()"
   ]
  },
  {
   "cell_type": "code",
   "execution_count": 78,
   "id": "901817ac",
   "metadata": {},
   "outputs": [
    {
     "data": {
      "text/html": [
       "<div>\n",
       "<style scoped>\n",
       "    .dataframe tbody tr th:only-of-type {\n",
       "        vertical-align: middle;\n",
       "    }\n",
       "\n",
       "    .dataframe tbody tr th {\n",
       "        vertical-align: top;\n",
       "    }\n",
       "\n",
       "    .dataframe thead th {\n",
       "        text-align: right;\n",
       "    }\n",
       "</style>\n",
       "<table border=\"1\" class=\"dataframe\">\n",
       "  <thead>\n",
       "    <tr style=\"text-align: right;\">\n",
       "      <th></th>\n",
       "      <th>Day</th>\n",
       "      <th>High</th>\n",
       "      <th>Low</th>\n",
       "      <th>Precipitation</th>\n",
       "      <th>Snow</th>\n",
       "    </tr>\n",
       "  </thead>\n",
       "  <tbody>\n",
       "    <tr>\n",
       "      <th>361</th>\n",
       "      <td>December 27</td>\n",
       "      <td>53.0</td>\n",
       "      <td>33.0</td>\n",
       "      <td>0.00</td>\n",
       "      <td>0.0</td>\n",
       "    </tr>\n",
       "    <tr>\n",
       "      <th>362</th>\n",
       "      <td>December 28</td>\n",
       "      <td>64.0</td>\n",
       "      <td>46.0</td>\n",
       "      <td>0.03</td>\n",
       "      <td>0.0</td>\n",
       "    </tr>\n",
       "    <tr>\n",
       "      <th>363</th>\n",
       "      <td>December 29</td>\n",
       "      <td>65.0</td>\n",
       "      <td>45.0</td>\n",
       "      <td>0.24</td>\n",
       "      <td>0.0</td>\n",
       "    </tr>\n",
       "    <tr>\n",
       "      <th>364</th>\n",
       "      <td>December 30</td>\n",
       "      <td>50.0</td>\n",
       "      <td>37.0</td>\n",
       "      <td>0.08</td>\n",
       "      <td>0.0</td>\n",
       "    </tr>\n",
       "    <tr>\n",
       "      <th>365</th>\n",
       "      <td>December 31</td>\n",
       "      <td>49.0</td>\n",
       "      <td>33.0</td>\n",
       "      <td>0.42</td>\n",
       "      <td>0.0</td>\n",
       "    </tr>\n",
       "  </tbody>\n",
       "</table>\n",
       "</div>"
      ],
      "text/plain": [
       "             Day  High   Low  Precipitation  Snow\n",
       "361  December 27  53.0  33.0           0.00   0.0\n",
       "362  December 28  64.0  46.0           0.03   0.0\n",
       "363  December 29  65.0  45.0           0.24   0.0\n",
       "364  December 30  50.0  37.0           0.08   0.0\n",
       "365  December 31  49.0  33.0           0.42   0.0"
      ]
     },
     "execution_count": 78,
     "metadata": {},
     "output_type": "execute_result"
    }
   ],
   "source": [
    "df.tail()"
   ]
  },
  {
   "cell_type": "code",
   "execution_count": 79,
   "id": "a955b5ab",
   "metadata": {},
   "outputs": [
    {
     "name": "stdout",
     "output_type": "stream",
     "text": [
      "<class 'pandas.core.frame.DataFrame'>\n",
      "RangeIndex: 366 entries, 0 to 365\n",
      "Data columns (total 5 columns):\n",
      " #   Column         Non-Null Count  Dtype  \n",
      "---  ------         --------------  -----  \n",
      " 0   Day            366 non-null    object \n",
      " 1   High           366 non-null    float64\n",
      " 2   Low            366 non-null    float64\n",
      " 3   Precipitation  366 non-null    float64\n",
      " 4   Snow           366 non-null    float64\n",
      "dtypes: float64(4), object(1)\n",
      "memory usage: 14.4+ KB\n"
     ]
    }
   ],
   "source": [
    "df.info()"
   ]
  },
  {
   "cell_type": "code",
   "execution_count": 80,
   "id": "874fb5b6",
   "metadata": {},
   "outputs": [
    {
     "data": {
      "text/html": [
       "<div>\n",
       "<style scoped>\n",
       "    .dataframe tbody tr th:only-of-type {\n",
       "        vertical-align: middle;\n",
       "    }\n",
       "\n",
       "    .dataframe tbody tr th {\n",
       "        vertical-align: top;\n",
       "    }\n",
       "\n",
       "    .dataframe thead th {\n",
       "        text-align: right;\n",
       "    }\n",
       "</style>\n",
       "<table border=\"1\" class=\"dataframe\">\n",
       "  <thead>\n",
       "    <tr style=\"text-align: right;\">\n",
       "      <th></th>\n",
       "      <th>High</th>\n",
       "      <th>Low</th>\n",
       "      <th>Precipitation</th>\n",
       "      <th>Snow</th>\n",
       "    </tr>\n",
       "  </thead>\n",
       "  <tbody>\n",
       "    <tr>\n",
       "      <th>count</th>\n",
       "      <td>366.000000</td>\n",
       "      <td>366.000000</td>\n",
       "      <td>366.000000</td>\n",
       "      <td>366.000000</td>\n",
       "    </tr>\n",
       "    <tr>\n",
       "      <th>mean</th>\n",
       "      <td>65.885246</td>\n",
       "      <td>46.887978</td>\n",
       "      <td>0.119454</td>\n",
       "      <td>0.057650</td>\n",
       "    </tr>\n",
       "    <tr>\n",
       "      <th>std</th>\n",
       "      <td>18.312447</td>\n",
       "      <td>16.137458</td>\n",
       "      <td>0.299886</td>\n",
       "      <td>0.309987</td>\n",
       "    </tr>\n",
       "    <tr>\n",
       "      <th>min</th>\n",
       "      <td>19.000000</td>\n",
       "      <td>7.000000</td>\n",
       "      <td>0.000000</td>\n",
       "      <td>0.000000</td>\n",
       "    </tr>\n",
       "    <tr>\n",
       "      <th>25%</th>\n",
       "      <td>52.000000</td>\n",
       "      <td>34.000000</td>\n",
       "      <td>0.000000</td>\n",
       "      <td>0.000000</td>\n",
       "    </tr>\n",
       "    <tr>\n",
       "      <th>50%</th>\n",
       "      <td>68.000000</td>\n",
       "      <td>47.000000</td>\n",
       "      <td>0.000000</td>\n",
       "      <td>0.000000</td>\n",
       "    </tr>\n",
       "    <tr>\n",
       "      <th>75%</th>\n",
       "      <td>82.000000</td>\n",
       "      <td>61.000000</td>\n",
       "      <td>0.090000</td>\n",
       "      <td>0.000000</td>\n",
       "    </tr>\n",
       "    <tr>\n",
       "      <th>max</th>\n",
       "      <td>94.000000</td>\n",
       "      <td>74.000000</td>\n",
       "      <td>2.770000</td>\n",
       "      <td>3.300000</td>\n",
       "    </tr>\n",
       "  </tbody>\n",
       "</table>\n",
       "</div>"
      ],
      "text/plain": [
       "             High         Low  Precipitation        Snow\n",
       "count  366.000000  366.000000     366.000000  366.000000\n",
       "mean    65.885246   46.887978       0.119454    0.057650\n",
       "std     18.312447   16.137458       0.299886    0.309987\n",
       "min     19.000000    7.000000       0.000000    0.000000\n",
       "25%     52.000000   34.000000       0.000000    0.000000\n",
       "50%     68.000000   47.000000       0.000000    0.000000\n",
       "75%     82.000000   61.000000       0.090000    0.000000\n",
       "max     94.000000   74.000000       2.770000    3.300000"
      ]
     },
     "execution_count": 80,
     "metadata": {},
     "output_type": "execute_result"
    }
   ],
   "source": [
    "df.describe()"
   ]
  },
  {
   "cell_type": "code",
   "execution_count": 81,
   "id": "9a8fdd0e",
   "metadata": {},
   "outputs": [
    {
     "data": {
      "text/plain": [
       "Day              0\n",
       "High             0\n",
       "Low              0\n",
       "Precipitation    0\n",
       "Snow             0\n",
       "dtype: int64"
      ]
     },
     "execution_count": 81,
     "metadata": {},
     "output_type": "execute_result"
    }
   ],
   "source": [
    "df.isnull().sum()"
   ]
  },
  {
   "cell_type": "code",
   "execution_count": 82,
   "id": "b9967e98",
   "metadata": {},
   "outputs": [],
   "source": [
    "df = pd.read_csv('pittsburgh-weather-2024.csv')"
   ]
  },
  {
   "cell_type": "code",
   "execution_count": 83,
   "id": "b8738d16",
   "metadata": {},
   "outputs": [
    {
     "data": {
      "text/plain": [
       "Index(['Day', 'High', 'Low', 'Precipitation', 'Snow'], dtype='object')"
      ]
     },
     "execution_count": 83,
     "metadata": {},
     "output_type": "execute_result"
    }
   ],
   "source": [
    "df.columns"
   ]
  },
  {
   "cell_type": "markdown",
   "id": "20591fe9",
   "metadata": {},
   "source": [
    "# Selecting and Filtering Data"
   ]
  },
  {
   "cell_type": "code",
   "execution_count": 85,
   "id": "3f6cedca",
   "metadata": {},
   "outputs": [
    {
     "data": {
      "text/plain": [
       "0        January 1\n",
       "1        January 2\n",
       "2        January 3\n",
       "3        January 4\n",
       "4        January 5\n",
       "          ...     \n",
       "361    December 27\n",
       "362    December 28\n",
       "363    December 29\n",
       "364    December 30\n",
       "365    December 31\n",
       "Name: Day, Length: 366, dtype: object"
      ]
     },
     "execution_count": 85,
     "metadata": {},
     "output_type": "execute_result"
    }
   ],
   "source": [
    "df['Day']"
   ]
  },
  {
   "cell_type": "code",
   "execution_count": 86,
   "id": "2b01eb71",
   "metadata": {},
   "outputs": [
    {
     "data": {
      "text/html": [
       "<div>\n",
       "<style scoped>\n",
       "    .dataframe tbody tr th:only-of-type {\n",
       "        vertical-align: middle;\n",
       "    }\n",
       "\n",
       "    .dataframe tbody tr th {\n",
       "        vertical-align: top;\n",
       "    }\n",
       "\n",
       "    .dataframe thead th {\n",
       "        text-align: right;\n",
       "    }\n",
       "</style>\n",
       "<table border=\"1\" class=\"dataframe\">\n",
       "  <thead>\n",
       "    <tr style=\"text-align: right;\">\n",
       "      <th></th>\n",
       "      <th>Day</th>\n",
       "      <th>Snow</th>\n",
       "    </tr>\n",
       "  </thead>\n",
       "  <tbody>\n",
       "    <tr>\n",
       "      <th>0</th>\n",
       "      <td>January 1</td>\n",
       "      <td>0.4</td>\n",
       "    </tr>\n",
       "    <tr>\n",
       "      <th>1</th>\n",
       "      <td>January 2</td>\n",
       "      <td>0.0</td>\n",
       "    </tr>\n",
       "    <tr>\n",
       "      <th>2</th>\n",
       "      <td>January 3</td>\n",
       "      <td>0.0</td>\n",
       "    </tr>\n",
       "    <tr>\n",
       "      <th>3</th>\n",
       "      <td>January 4</td>\n",
       "      <td>0.0</td>\n",
       "    </tr>\n",
       "    <tr>\n",
       "      <th>4</th>\n",
       "      <td>January 5</td>\n",
       "      <td>0.0</td>\n",
       "    </tr>\n",
       "    <tr>\n",
       "      <th>...</th>\n",
       "      <td>...</td>\n",
       "      <td>...</td>\n",
       "    </tr>\n",
       "    <tr>\n",
       "      <th>361</th>\n",
       "      <td>December 27</td>\n",
       "      <td>0.0</td>\n",
       "    </tr>\n",
       "    <tr>\n",
       "      <th>362</th>\n",
       "      <td>December 28</td>\n",
       "      <td>0.0</td>\n",
       "    </tr>\n",
       "    <tr>\n",
       "      <th>363</th>\n",
       "      <td>December 29</td>\n",
       "      <td>0.0</td>\n",
       "    </tr>\n",
       "    <tr>\n",
       "      <th>364</th>\n",
       "      <td>December 30</td>\n",
       "      <td>0.0</td>\n",
       "    </tr>\n",
       "    <tr>\n",
       "      <th>365</th>\n",
       "      <td>December 31</td>\n",
       "      <td>0.0</td>\n",
       "    </tr>\n",
       "  </tbody>\n",
       "</table>\n",
       "<p>366 rows × 2 columns</p>\n",
       "</div>"
      ],
      "text/plain": [
       "             Day  Snow\n",
       "0      January 1   0.4\n",
       "1      January 2   0.0\n",
       "2      January 3   0.0\n",
       "3      January 4   0.0\n",
       "4      January 5   0.0\n",
       "..           ...   ...\n",
       "361  December 27   0.0\n",
       "362  December 28   0.0\n",
       "363  December 29   0.0\n",
       "364  December 30   0.0\n",
       "365  December 31   0.0\n",
       "\n",
       "[366 rows x 2 columns]"
      ]
     },
     "execution_count": 86,
     "metadata": {},
     "output_type": "execute_result"
    }
   ],
   "source": [
    "df[['Day', 'Snow']]"
   ]
  },
  {
   "cell_type": "code",
   "execution_count": 87,
   "id": "066057dc",
   "metadata": {},
   "outputs": [
    {
     "data": {
      "text/html": [
       "<div>\n",
       "<style scoped>\n",
       "    .dataframe tbody tr th:only-of-type {\n",
       "        vertical-align: middle;\n",
       "    }\n",
       "\n",
       "    .dataframe tbody tr th {\n",
       "        vertical-align: top;\n",
       "    }\n",
       "\n",
       "    .dataframe thead th {\n",
       "        text-align: right;\n",
       "    }\n",
       "</style>\n",
       "<table border=\"1\" class=\"dataframe\">\n",
       "  <thead>\n",
       "    <tr style=\"text-align: right;\">\n",
       "      <th></th>\n",
       "      <th>Day</th>\n",
       "      <th>High</th>\n",
       "      <th>Low</th>\n",
       "      <th>Precipitation</th>\n",
       "      <th>Snow</th>\n",
       "    </tr>\n",
       "  </thead>\n",
       "  <tbody>\n",
       "    <tr>\n",
       "      <th>347</th>\n",
       "      <td>December 13</td>\n",
       "      <td>31.0</td>\n",
       "      <td>20.0</td>\n",
       "      <td>0.03</td>\n",
       "      <td>0.7</td>\n",
       "    </tr>\n",
       "  </tbody>\n",
       "</table>\n",
       "</div>"
      ],
      "text/plain": [
       "             Day  High   Low  Precipitation  Snow\n",
       "347  December 13  31.0  20.0           0.03   0.7"
      ]
     },
     "execution_count": 87,
     "metadata": {},
     "output_type": "execute_result"
    }
   ],
   "source": [
    "df[df['Day'] == 'December 13']"
   ]
  },
  {
   "cell_type": "code",
   "execution_count": 88,
   "id": "16aa3466",
   "metadata": {},
   "outputs": [
    {
     "data": {
      "text/html": [
       "<div>\n",
       "<style scoped>\n",
       "    .dataframe tbody tr th:only-of-type {\n",
       "        vertical-align: middle;\n",
       "    }\n",
       "\n",
       "    .dataframe tbody tr th {\n",
       "        vertical-align: top;\n",
       "    }\n",
       "\n",
       "    .dataframe thead th {\n",
       "        text-align: right;\n",
       "    }\n",
       "</style>\n",
       "<table border=\"1\" class=\"dataframe\">\n",
       "  <thead>\n",
       "    <tr style=\"text-align: right;\">\n",
       "      <th></th>\n",
       "      <th>Day</th>\n",
       "      <th>High</th>\n",
       "      <th>Low</th>\n",
       "      <th>Precipitation</th>\n",
       "      <th>Snow</th>\n",
       "    </tr>\n",
       "  </thead>\n",
       "  <tbody>\n",
       "    <tr>\n",
       "      <th>167</th>\n",
       "      <td>June 16</td>\n",
       "      <td>89.0</td>\n",
       "      <td>56.0</td>\n",
       "      <td>0.00</td>\n",
       "      <td>0.0</td>\n",
       "    </tr>\n",
       "    <tr>\n",
       "      <th>168</th>\n",
       "      <td>June 17</td>\n",
       "      <td>94.0</td>\n",
       "      <td>69.0</td>\n",
       "      <td>0.32</td>\n",
       "      <td>0.0</td>\n",
       "    </tr>\n",
       "    <tr>\n",
       "      <th>169</th>\n",
       "      <td>June 18</td>\n",
       "      <td>94.0</td>\n",
       "      <td>69.0</td>\n",
       "      <td>0.00</td>\n",
       "      <td>0.0</td>\n",
       "    </tr>\n",
       "    <tr>\n",
       "      <th>170</th>\n",
       "      <td>June 19</td>\n",
       "      <td>89.0</td>\n",
       "      <td>73.0</td>\n",
       "      <td>0.00</td>\n",
       "      <td>0.0</td>\n",
       "    </tr>\n",
       "    <tr>\n",
       "      <th>171</th>\n",
       "      <td>June 20</td>\n",
       "      <td>92.0</td>\n",
       "      <td>72.0</td>\n",
       "      <td>0.00</td>\n",
       "      <td>0.0</td>\n",
       "    </tr>\n",
       "    <tr>\n",
       "      <th>...</th>\n",
       "      <td>...</td>\n",
       "      <td>...</td>\n",
       "      <td>...</td>\n",
       "      <td>...</td>\n",
       "      <td>...</td>\n",
       "    </tr>\n",
       "    <tr>\n",
       "      <th>239</th>\n",
       "      <td>August 27</td>\n",
       "      <td>94.0</td>\n",
       "      <td>69.0</td>\n",
       "      <td>0.02</td>\n",
       "      <td>0.0</td>\n",
       "    </tr>\n",
       "    <tr>\n",
       "      <th>240</th>\n",
       "      <td>August 28</td>\n",
       "      <td>93.0</td>\n",
       "      <td>72.0</td>\n",
       "      <td>0.00</td>\n",
       "      <td>0.0</td>\n",
       "    </tr>\n",
       "    <tr>\n",
       "      <th>241</th>\n",
       "      <td>August 29</td>\n",
       "      <td>92.0</td>\n",
       "      <td>74.0</td>\n",
       "      <td>0.76</td>\n",
       "      <td>0.0</td>\n",
       "    </tr>\n",
       "    <tr>\n",
       "      <th>242</th>\n",
       "      <td>August 30</td>\n",
       "      <td>94.0</td>\n",
       "      <td>69.0</td>\n",
       "      <td>0.39</td>\n",
       "      <td>0.0</td>\n",
       "    </tr>\n",
       "    <tr>\n",
       "      <th>264</th>\n",
       "      <td>September 21</td>\n",
       "      <td>89.0</td>\n",
       "      <td>64.0</td>\n",
       "      <td>0.16</td>\n",
       "      <td>0.0</td>\n",
       "    </tr>\n",
       "  </tbody>\n",
       "</table>\n",
       "<p>30 rows × 5 columns</p>\n",
       "</div>"
      ],
      "text/plain": [
       "              Day  High   Low  Precipitation  Snow\n",
       "167       June 16  89.0  56.0           0.00   0.0\n",
       "168       June 17  94.0  69.0           0.32   0.0\n",
       "169       June 18  94.0  69.0           0.00   0.0\n",
       "170       June 19  89.0  73.0           0.00   0.0\n",
       "171       June 20  92.0  72.0           0.00   0.0\n",
       "..            ...   ...   ...            ...   ...\n",
       "239     August 27  94.0  69.0           0.02   0.0\n",
       "240     August 28  93.0  72.0           0.00   0.0\n",
       "241     August 29  92.0  74.0           0.76   0.0\n",
       "242     August 30  94.0  69.0           0.39   0.0\n",
       "264  September 21  89.0  64.0           0.16   0.0\n",
       "\n",
       "[30 rows x 5 columns]"
      ]
     },
     "execution_count": 88,
     "metadata": {},
     "output_type": "execute_result"
    }
   ],
   "source": [
    "df[df['High'] >= 89]"
   ]
  },
  {
   "cell_type": "code",
   "execution_count": 89,
   "id": "642e361b",
   "metadata": {},
   "outputs": [
    {
     "data": {
      "text/html": [
       "<div>\n",
       "<style scoped>\n",
       "    .dataframe tbody tr th:only-of-type {\n",
       "        vertical-align: middle;\n",
       "    }\n",
       "\n",
       "    .dataframe tbody tr th {\n",
       "        vertical-align: top;\n",
       "    }\n",
       "\n",
       "    .dataframe thead th {\n",
       "        text-align: right;\n",
       "    }\n",
       "</style>\n",
       "<table border=\"1\" class=\"dataframe\">\n",
       "  <thead>\n",
       "    <tr style=\"text-align: right;\">\n",
       "      <th></th>\n",
       "      <th>Day</th>\n",
       "      <th>High</th>\n",
       "      <th>Low</th>\n",
       "      <th>Precipitation</th>\n",
       "      <th>Snow</th>\n",
       "    </tr>\n",
       "  </thead>\n",
       "  <tbody>\n",
       "  </tbody>\n",
       "</table>\n",
       "</div>"
      ],
      "text/plain": [
       "Empty DataFrame\n",
       "Columns: [Day, High, Low, Precipitation, Snow]\n",
       "Index: []"
      ]
     },
     "execution_count": 89,
     "metadata": {},
     "output_type": "execute_result"
    }
   ],
   "source": [
    "df[df['Low'] == 13.0]"
   ]
  },
  {
   "cell_type": "code",
   "execution_count": 90,
   "id": "993205da",
   "metadata": {},
   "outputs": [
    {
     "data": {
      "text/plain": [
       "Day              January 4\n",
       "High                  36.0\n",
       "Low                   27.0\n",
       "Precipitation          0.0\n",
       "Snow                   0.0\n",
       "Name: 3, dtype: object"
      ]
     },
     "execution_count": 90,
     "metadata": {},
     "output_type": "execute_result"
    }
   ],
   "source": [
    "df.iloc[3]"
   ]
  },
  {
   "cell_type": "code",
   "execution_count": 91,
   "id": "0bb6b742",
   "metadata": {},
   "outputs": [
    {
     "data": {
      "text/plain": [
       "Day              January 4\n",
       "High                  36.0\n",
       "Low                   27.0\n",
       "Precipitation          0.0\n",
       "Snow                   0.0\n",
       "Name: 3, dtype: object"
      ]
     },
     "execution_count": 91,
     "metadata": {},
     "output_type": "execute_result"
    }
   ],
   "source": [
    "df.loc[3]"
   ]
  },
  {
   "cell_type": "code",
   "execution_count": 92,
   "id": "3516b4c6",
   "metadata": {},
   "outputs": [
    {
     "ename": "KeyError",
     "evalue": "'December 13'",
     "output_type": "error",
     "traceback": [
      "\u001b[1;31m---------------------------------------------------------------------------\u001b[0m",
      "\u001b[1;31mKeyError\u001b[0m                                  Traceback (most recent call last)",
      "Cell \u001b[1;32mIn[92], line 1\u001b[0m\n\u001b[1;32m----> 1\u001b[0m df\u001b[38;5;241m.\u001b[39mloc[\u001b[38;5;124m'\u001b[39m\u001b[38;5;124mDecember 13\u001b[39m\u001b[38;5;124m'\u001b[39m]\n",
      "File \u001b[1;32mc:\\Users\\bfrie\\anaconda3\\Lib\\site-packages\\pandas\\core\\indexing.py:1103\u001b[0m, in \u001b[0;36m_LocationIndexer.__getitem__\u001b[1;34m(self, key)\u001b[0m\n\u001b[0;32m   1100\u001b[0m axis \u001b[38;5;241m=\u001b[39m \u001b[38;5;28mself\u001b[39m\u001b[38;5;241m.\u001b[39maxis \u001b[38;5;129;01mor\u001b[39;00m \u001b[38;5;241m0\u001b[39m\n\u001b[0;32m   1102\u001b[0m maybe_callable \u001b[38;5;241m=\u001b[39m com\u001b[38;5;241m.\u001b[39mapply_if_callable(key, \u001b[38;5;28mself\u001b[39m\u001b[38;5;241m.\u001b[39mobj)\n\u001b[1;32m-> 1103\u001b[0m \u001b[38;5;28;01mreturn\u001b[39;00m \u001b[38;5;28mself\u001b[39m\u001b[38;5;241m.\u001b[39m_getitem_axis(maybe_callable, axis\u001b[38;5;241m=\u001b[39maxis)\n",
      "File \u001b[1;32mc:\\Users\\bfrie\\anaconda3\\Lib\\site-packages\\pandas\\core\\indexing.py:1343\u001b[0m, in \u001b[0;36m_LocIndexer._getitem_axis\u001b[1;34m(self, key, axis)\u001b[0m\n\u001b[0;32m   1341\u001b[0m \u001b[38;5;66;03m# fall thru to straight lookup\u001b[39;00m\n\u001b[0;32m   1342\u001b[0m \u001b[38;5;28mself\u001b[39m\u001b[38;5;241m.\u001b[39m_validate_key(key, axis)\n\u001b[1;32m-> 1343\u001b[0m \u001b[38;5;28;01mreturn\u001b[39;00m \u001b[38;5;28mself\u001b[39m\u001b[38;5;241m.\u001b[39m_get_label(key, axis\u001b[38;5;241m=\u001b[39maxis)\n",
      "File \u001b[1;32mc:\\Users\\bfrie\\anaconda3\\Lib\\site-packages\\pandas\\core\\indexing.py:1293\u001b[0m, in \u001b[0;36m_LocIndexer._get_label\u001b[1;34m(self, label, axis)\u001b[0m\n\u001b[0;32m   1291\u001b[0m \u001b[38;5;28;01mdef\u001b[39;00m \u001b[38;5;21m_get_label\u001b[39m(\u001b[38;5;28mself\u001b[39m, label, axis: AxisInt):\n\u001b[0;32m   1292\u001b[0m     \u001b[38;5;66;03m# GH#5567 this will fail if the label is not present in the axis.\u001b[39;00m\n\u001b[1;32m-> 1293\u001b[0m     \u001b[38;5;28;01mreturn\u001b[39;00m \u001b[38;5;28mself\u001b[39m\u001b[38;5;241m.\u001b[39mobj\u001b[38;5;241m.\u001b[39mxs(label, axis\u001b[38;5;241m=\u001b[39maxis)\n",
      "File \u001b[1;32mc:\\Users\\bfrie\\anaconda3\\Lib\\site-packages\\pandas\\core\\generic.py:4095\u001b[0m, in \u001b[0;36mNDFrame.xs\u001b[1;34m(self, key, axis, level, drop_level)\u001b[0m\n\u001b[0;32m   4093\u001b[0m             new_index \u001b[38;5;241m=\u001b[39m index[loc]\n\u001b[0;32m   4094\u001b[0m \u001b[38;5;28;01melse\u001b[39;00m:\n\u001b[1;32m-> 4095\u001b[0m     loc \u001b[38;5;241m=\u001b[39m index\u001b[38;5;241m.\u001b[39mget_loc(key)\n\u001b[0;32m   4097\u001b[0m     \u001b[38;5;28;01mif\u001b[39;00m \u001b[38;5;28misinstance\u001b[39m(loc, np\u001b[38;5;241m.\u001b[39mndarray):\n\u001b[0;32m   4098\u001b[0m         \u001b[38;5;28;01mif\u001b[39;00m loc\u001b[38;5;241m.\u001b[39mdtype \u001b[38;5;241m==\u001b[39m np\u001b[38;5;241m.\u001b[39mbool_:\n",
      "File \u001b[1;32mc:\\Users\\bfrie\\anaconda3\\Lib\\site-packages\\pandas\\core\\indexes\\range.py:349\u001b[0m, in \u001b[0;36mRangeIndex.get_loc\u001b[1;34m(self, key)\u001b[0m\n\u001b[0;32m    347\u001b[0m         \u001b[38;5;28;01mraise\u001b[39;00m \u001b[38;5;167;01mKeyError\u001b[39;00m(key) \u001b[38;5;28;01mfrom\u001b[39;00m \u001b[38;5;21;01merr\u001b[39;00m\n\u001b[0;32m    348\u001b[0m \u001b[38;5;28;01mif\u001b[39;00m \u001b[38;5;28misinstance\u001b[39m(key, Hashable):\n\u001b[1;32m--> 349\u001b[0m     \u001b[38;5;28;01mraise\u001b[39;00m \u001b[38;5;167;01mKeyError\u001b[39;00m(key)\n\u001b[0;32m    350\u001b[0m \u001b[38;5;28mself\u001b[39m\u001b[38;5;241m.\u001b[39m_check_indexing_error(key)\n\u001b[0;32m    351\u001b[0m \u001b[38;5;28;01mraise\u001b[39;00m \u001b[38;5;167;01mKeyError\u001b[39;00m(key)\n",
      "\u001b[1;31mKeyError\u001b[0m: 'December 13'"
     ]
    }
   ],
   "source": [
    "df.loc['December 13']"
   ]
  },
  {
   "cell_type": "code",
   "execution_count": 93,
   "id": "e843652d",
   "metadata": {},
   "outputs": [
    {
     "data": {
      "text/html": [
       "<div>\n",
       "<style scoped>\n",
       "    .dataframe tbody tr th:only-of-type {\n",
       "        vertical-align: middle;\n",
       "    }\n",
       "\n",
       "    .dataframe tbody tr th {\n",
       "        vertical-align: top;\n",
       "    }\n",
       "\n",
       "    .dataframe thead th {\n",
       "        text-align: right;\n",
       "    }\n",
       "</style>\n",
       "<table border=\"1\" class=\"dataframe\">\n",
       "  <thead>\n",
       "    <tr style=\"text-align: right;\">\n",
       "      <th></th>\n",
       "      <th>High</th>\n",
       "      <th>Low</th>\n",
       "      <th>Precipitation</th>\n",
       "      <th>Snow</th>\n",
       "    </tr>\n",
       "    <tr>\n",
       "      <th>Day</th>\n",
       "      <th></th>\n",
       "      <th></th>\n",
       "      <th></th>\n",
       "      <th></th>\n",
       "    </tr>\n",
       "  </thead>\n",
       "  <tbody>\n",
       "    <tr>\n",
       "      <th>January 1</th>\n",
       "      <td>38.0</td>\n",
       "      <td>32.0</td>\n",
       "      <td>0.08</td>\n",
       "      <td>0.4</td>\n",
       "    </tr>\n",
       "    <tr>\n",
       "      <th>January 2</th>\n",
       "      <td>35.0</td>\n",
       "      <td>32.0</td>\n",
       "      <td>0.00</td>\n",
       "      <td>0.0</td>\n",
       "    </tr>\n",
       "    <tr>\n",
       "      <th>January 3</th>\n",
       "      <td>41.0</td>\n",
       "      <td>32.0</td>\n",
       "      <td>0.00</td>\n",
       "      <td>0.0</td>\n",
       "    </tr>\n",
       "    <tr>\n",
       "      <th>January 4</th>\n",
       "      <td>36.0</td>\n",
       "      <td>27.0</td>\n",
       "      <td>0.00</td>\n",
       "      <td>0.0</td>\n",
       "    </tr>\n",
       "    <tr>\n",
       "      <th>January 5</th>\n",
       "      <td>38.0</td>\n",
       "      <td>20.0</td>\n",
       "      <td>0.00</td>\n",
       "      <td>0.0</td>\n",
       "    </tr>\n",
       "  </tbody>\n",
       "</table>\n",
       "</div>"
      ],
      "text/plain": [
       "           High   Low  Precipitation  Snow\n",
       "Day                                       \n",
       "January 1  38.0  32.0           0.08   0.4\n",
       "January 2  35.0  32.0           0.00   0.0\n",
       "January 3  41.0  32.0           0.00   0.0\n",
       "January 4  36.0  27.0           0.00   0.0\n",
       "January 5  38.0  20.0           0.00   0.0"
      ]
     },
     "execution_count": 93,
     "metadata": {},
     "output_type": "execute_result"
    }
   ],
   "source": [
    "df.set_index('Day', inplace = True)\n",
    "df.head()\n"
   ]
  },
  {
   "cell_type": "code",
   "execution_count": 94,
   "id": "cf3b3b3b",
   "metadata": {},
   "outputs": [
    {
     "data": {
      "text/plain": [
       "High             36.0\n",
       "Low              27.0\n",
       "Precipitation     0.0\n",
       "Snow              0.0\n",
       "Name: January 4, dtype: float64"
      ]
     },
     "execution_count": 94,
     "metadata": {},
     "output_type": "execute_result"
    }
   ],
   "source": [
    "df.loc['January 4']"
   ]
  },
  {
   "cell_type": "code",
   "execution_count": 95,
   "id": "f99d1177",
   "metadata": {},
   "outputs": [
    {
     "ename": "KeyError",
     "evalue": "3",
     "output_type": "error",
     "traceback": [
      "\u001b[1;31m---------------------------------------------------------------------------\u001b[0m",
      "\u001b[1;31mKeyError\u001b[0m                                  Traceback (most recent call last)",
      "File \u001b[1;32mc:\\Users\\bfrie\\anaconda3\\Lib\\site-packages\\pandas\\core\\indexes\\base.py:3653\u001b[0m, in \u001b[0;36mIndex.get_loc\u001b[1;34m(self, key)\u001b[0m\n\u001b[0;32m   3652\u001b[0m \u001b[38;5;28;01mtry\u001b[39;00m:\n\u001b[1;32m-> 3653\u001b[0m     \u001b[38;5;28;01mreturn\u001b[39;00m \u001b[38;5;28mself\u001b[39m\u001b[38;5;241m.\u001b[39m_engine\u001b[38;5;241m.\u001b[39mget_loc(casted_key)\n\u001b[0;32m   3654\u001b[0m \u001b[38;5;28;01mexcept\u001b[39;00m \u001b[38;5;167;01mKeyError\u001b[39;00m \u001b[38;5;28;01mas\u001b[39;00m err:\n",
      "File \u001b[1;32mc:\\Users\\bfrie\\anaconda3\\Lib\\site-packages\\pandas\\_libs\\index.pyx:147\u001b[0m, in \u001b[0;36mpandas._libs.index.IndexEngine.get_loc\u001b[1;34m()\u001b[0m\n",
      "File \u001b[1;32mc:\\Users\\bfrie\\anaconda3\\Lib\\site-packages\\pandas\\_libs\\index.pyx:176\u001b[0m, in \u001b[0;36mpandas._libs.index.IndexEngine.get_loc\u001b[1;34m()\u001b[0m\n",
      "File \u001b[1;32mpandas\\_libs\\hashtable_class_helper.pxi:7080\u001b[0m, in \u001b[0;36mpandas._libs.hashtable.PyObjectHashTable.get_item\u001b[1;34m()\u001b[0m\n",
      "File \u001b[1;32mpandas\\_libs\\hashtable_class_helper.pxi:7088\u001b[0m, in \u001b[0;36mpandas._libs.hashtable.PyObjectHashTable.get_item\u001b[1;34m()\u001b[0m\n",
      "\u001b[1;31mKeyError\u001b[0m: 3",
      "\nThe above exception was the direct cause of the following exception:\n",
      "\u001b[1;31mKeyError\u001b[0m                                  Traceback (most recent call last)",
      "Cell \u001b[1;32mIn[95], line 1\u001b[0m\n\u001b[1;32m----> 1\u001b[0m df\u001b[38;5;241m.\u001b[39mloc[\u001b[38;5;241m3\u001b[39m]\n",
      "File \u001b[1;32mc:\\Users\\bfrie\\anaconda3\\Lib\\site-packages\\pandas\\core\\indexing.py:1103\u001b[0m, in \u001b[0;36m_LocationIndexer.__getitem__\u001b[1;34m(self, key)\u001b[0m\n\u001b[0;32m   1100\u001b[0m axis \u001b[38;5;241m=\u001b[39m \u001b[38;5;28mself\u001b[39m\u001b[38;5;241m.\u001b[39maxis \u001b[38;5;129;01mor\u001b[39;00m \u001b[38;5;241m0\u001b[39m\n\u001b[0;32m   1102\u001b[0m maybe_callable \u001b[38;5;241m=\u001b[39m com\u001b[38;5;241m.\u001b[39mapply_if_callable(key, \u001b[38;5;28mself\u001b[39m\u001b[38;5;241m.\u001b[39mobj)\n\u001b[1;32m-> 1103\u001b[0m \u001b[38;5;28;01mreturn\u001b[39;00m \u001b[38;5;28mself\u001b[39m\u001b[38;5;241m.\u001b[39m_getitem_axis(maybe_callable, axis\u001b[38;5;241m=\u001b[39maxis)\n",
      "File \u001b[1;32mc:\\Users\\bfrie\\anaconda3\\Lib\\site-packages\\pandas\\core\\indexing.py:1343\u001b[0m, in \u001b[0;36m_LocIndexer._getitem_axis\u001b[1;34m(self, key, axis)\u001b[0m\n\u001b[0;32m   1341\u001b[0m \u001b[38;5;66;03m# fall thru to straight lookup\u001b[39;00m\n\u001b[0;32m   1342\u001b[0m \u001b[38;5;28mself\u001b[39m\u001b[38;5;241m.\u001b[39m_validate_key(key, axis)\n\u001b[1;32m-> 1343\u001b[0m \u001b[38;5;28;01mreturn\u001b[39;00m \u001b[38;5;28mself\u001b[39m\u001b[38;5;241m.\u001b[39m_get_label(key, axis\u001b[38;5;241m=\u001b[39maxis)\n",
      "File \u001b[1;32mc:\\Users\\bfrie\\anaconda3\\Lib\\site-packages\\pandas\\core\\indexing.py:1293\u001b[0m, in \u001b[0;36m_LocIndexer._get_label\u001b[1;34m(self, label, axis)\u001b[0m\n\u001b[0;32m   1291\u001b[0m \u001b[38;5;28;01mdef\u001b[39;00m \u001b[38;5;21m_get_label\u001b[39m(\u001b[38;5;28mself\u001b[39m, label, axis: AxisInt):\n\u001b[0;32m   1292\u001b[0m     \u001b[38;5;66;03m# GH#5567 this will fail if the label is not present in the axis.\u001b[39;00m\n\u001b[1;32m-> 1293\u001b[0m     \u001b[38;5;28;01mreturn\u001b[39;00m \u001b[38;5;28mself\u001b[39m\u001b[38;5;241m.\u001b[39mobj\u001b[38;5;241m.\u001b[39mxs(label, axis\u001b[38;5;241m=\u001b[39maxis)\n",
      "File \u001b[1;32mc:\\Users\\bfrie\\anaconda3\\Lib\\site-packages\\pandas\\core\\generic.py:4095\u001b[0m, in \u001b[0;36mNDFrame.xs\u001b[1;34m(self, key, axis, level, drop_level)\u001b[0m\n\u001b[0;32m   4093\u001b[0m             new_index \u001b[38;5;241m=\u001b[39m index[loc]\n\u001b[0;32m   4094\u001b[0m \u001b[38;5;28;01melse\u001b[39;00m:\n\u001b[1;32m-> 4095\u001b[0m     loc \u001b[38;5;241m=\u001b[39m index\u001b[38;5;241m.\u001b[39mget_loc(key)\n\u001b[0;32m   4097\u001b[0m     \u001b[38;5;28;01mif\u001b[39;00m \u001b[38;5;28misinstance\u001b[39m(loc, np\u001b[38;5;241m.\u001b[39mndarray):\n\u001b[0;32m   4098\u001b[0m         \u001b[38;5;28;01mif\u001b[39;00m loc\u001b[38;5;241m.\u001b[39mdtype \u001b[38;5;241m==\u001b[39m np\u001b[38;5;241m.\u001b[39mbool_:\n",
      "File \u001b[1;32mc:\\Users\\bfrie\\anaconda3\\Lib\\site-packages\\pandas\\core\\indexes\\base.py:3655\u001b[0m, in \u001b[0;36mIndex.get_loc\u001b[1;34m(self, key)\u001b[0m\n\u001b[0;32m   3653\u001b[0m     \u001b[38;5;28;01mreturn\u001b[39;00m \u001b[38;5;28mself\u001b[39m\u001b[38;5;241m.\u001b[39m_engine\u001b[38;5;241m.\u001b[39mget_loc(casted_key)\n\u001b[0;32m   3654\u001b[0m \u001b[38;5;28;01mexcept\u001b[39;00m \u001b[38;5;167;01mKeyError\u001b[39;00m \u001b[38;5;28;01mas\u001b[39;00m err:\n\u001b[1;32m-> 3655\u001b[0m     \u001b[38;5;28;01mraise\u001b[39;00m \u001b[38;5;167;01mKeyError\u001b[39;00m(key) \u001b[38;5;28;01mfrom\u001b[39;00m \u001b[38;5;21;01merr\u001b[39;00m\n\u001b[0;32m   3656\u001b[0m \u001b[38;5;28;01mexcept\u001b[39;00m \u001b[38;5;167;01mTypeError\u001b[39;00m:\n\u001b[0;32m   3657\u001b[0m     \u001b[38;5;66;03m# If we have a listlike key, _check_indexing_error will raise\u001b[39;00m\n\u001b[0;32m   3658\u001b[0m     \u001b[38;5;66;03m#  InvalidIndexError. Otherwise we fall through and re-raise\u001b[39;00m\n\u001b[0;32m   3659\u001b[0m     \u001b[38;5;66;03m#  the TypeError.\u001b[39;00m\n\u001b[0;32m   3660\u001b[0m     \u001b[38;5;28mself\u001b[39m\u001b[38;5;241m.\u001b[39m_check_indexing_error(key)\n",
      "\u001b[1;31mKeyError\u001b[0m: 3"
     ]
    }
   ],
   "source": [
    "df.loc[3] #Doesn't work after setting index"
   ]
  },
  {
   "cell_type": "code",
   "execution_count": 96,
   "id": "e84697f8",
   "metadata": {},
   "outputs": [
    {
     "data": {
      "text/plain": [
       "High             36.0\n",
       "Low              27.0\n",
       "Precipitation     0.0\n",
       "Snow              0.0\n",
       "Name: January 4, dtype: float64"
      ]
     },
     "execution_count": 96,
     "metadata": {},
     "output_type": "execute_result"
    }
   ],
   "source": [
    "df.iloc[3] # Still works with iloc"
   ]
  },
  {
   "cell_type": "code",
   "execution_count": 97,
   "id": "79970ec3",
   "metadata": {},
   "outputs": [
    {
     "data": {
      "text/html": [
       "<div>\n",
       "<style scoped>\n",
       "    .dataframe tbody tr th:only-of-type {\n",
       "        vertical-align: middle;\n",
       "    }\n",
       "\n",
       "    .dataframe tbody tr th {\n",
       "        vertical-align: top;\n",
       "    }\n",
       "\n",
       "    .dataframe thead th {\n",
       "        text-align: right;\n",
       "    }\n",
       "</style>\n",
       "<table border=\"1\" class=\"dataframe\">\n",
       "  <thead>\n",
       "    <tr style=\"text-align: right;\">\n",
       "      <th></th>\n",
       "      <th>High</th>\n",
       "      <th>Low</th>\n",
       "      <th>Precipitation</th>\n",
       "      <th>Snow</th>\n",
       "    </tr>\n",
       "    <tr>\n",
       "      <th>Day</th>\n",
       "      <th></th>\n",
       "      <th></th>\n",
       "      <th></th>\n",
       "      <th></th>\n",
       "    </tr>\n",
       "  </thead>\n",
       "  <tbody>\n",
       "    <tr>\n",
       "      <th>January 1</th>\n",
       "      <td>38.0</td>\n",
       "      <td>32.0</td>\n",
       "      <td>0.08</td>\n",
       "      <td>0.4</td>\n",
       "    </tr>\n",
       "    <tr>\n",
       "      <th>January 2</th>\n",
       "      <td>35.0</td>\n",
       "      <td>32.0</td>\n",
       "      <td>0.00</td>\n",
       "      <td>0.0</td>\n",
       "    </tr>\n",
       "    <tr>\n",
       "      <th>January 3</th>\n",
       "      <td>41.0</td>\n",
       "      <td>32.0</td>\n",
       "      <td>0.00</td>\n",
       "      <td>0.0</td>\n",
       "    </tr>\n",
       "    <tr>\n",
       "      <th>January 4</th>\n",
       "      <td>36.0</td>\n",
       "      <td>27.0</td>\n",
       "      <td>0.00</td>\n",
       "      <td>0.0</td>\n",
       "    </tr>\n",
       "    <tr>\n",
       "      <th>January 5</th>\n",
       "      <td>38.0</td>\n",
       "      <td>20.0</td>\n",
       "      <td>0.00</td>\n",
       "      <td>0.0</td>\n",
       "    </tr>\n",
       "  </tbody>\n",
       "</table>\n",
       "</div>"
      ],
      "text/plain": [
       "           High   Low  Precipitation  Snow\n",
       "Day                                       \n",
       "January 1  38.0  32.0           0.08   0.4\n",
       "January 2  35.0  32.0           0.00   0.0\n",
       "January 3  41.0  32.0           0.00   0.0\n",
       "January 4  36.0  27.0           0.00   0.0\n",
       "January 5  38.0  20.0           0.00   0.0"
      ]
     },
     "execution_count": 97,
     "metadata": {},
     "output_type": "execute_result"
    }
   ],
   "source": [
    "df.head()"
   ]
  },
  {
   "cell_type": "markdown",
   "id": "77aa9229",
   "metadata": {},
   "source": [
    "## Pandas Exercise \n",
    "\n",
    "Load all_olympic_medalists.csv\n",
    "\n",
    "Do the following tasks/ Answer the following questions:\n",
    "1. Show the first 5 rows and the last 5 rows.\n",
    "2. How many rows are in the dataset?\n",
    "3. Are there any missing values in any of the columns? \n",
    "4. How many total medals are recorded in the dataset?\n",
    "5. How many medals were awarded in the first Olympic year (1896)? How would you do this if you didn't know the first year?\n",
    "6. How many medals has the US won?\n",
    "7. What years were medals awarded for Rugby?\n",
    "8. What was the first year women were included?"
   ]
  },
  {
   "cell_type": "code",
   "execution_count": 98,
   "id": "2d88807b",
   "metadata": {},
   "outputs": [],
   "source": [
    "df = pd.read_csv('all_olympic_medalists.csv')"
   ]
  },
  {
   "cell_type": "code",
   "execution_count": 99,
   "id": "e1dbe812",
   "metadata": {},
   "outputs": [
    {
     "data": {
      "text/html": [
       "<div>\n",
       "<style scoped>\n",
       "    .dataframe tbody tr th:only-of-type {\n",
       "        vertical-align: middle;\n",
       "    }\n",
       "\n",
       "    .dataframe tbody tr th {\n",
       "        vertical-align: top;\n",
       "    }\n",
       "\n",
       "    .dataframe thead th {\n",
       "        text-align: right;\n",
       "    }\n",
       "</style>\n",
       "<table border=\"1\" class=\"dataframe\">\n",
       "  <thead>\n",
       "    <tr style=\"text-align: right;\">\n",
       "      <th></th>\n",
       "      <th>season</th>\n",
       "      <th>year</th>\n",
       "      <th>medal</th>\n",
       "      <th>country_code</th>\n",
       "      <th>country</th>\n",
       "      <th>athletes</th>\n",
       "      <th>games</th>\n",
       "      <th>sport</th>\n",
       "      <th>event_gender</th>\n",
       "      <th>event_name</th>\n",
       "    </tr>\n",
       "  </thead>\n",
       "  <tbody>\n",
       "    <tr>\n",
       "      <th>0</th>\n",
       "      <td>Summer</td>\n",
       "      <td>1896</td>\n",
       "      <td>Gold</td>\n",
       "      <td>USA</td>\n",
       "      <td>United States</td>\n",
       "      <td>Thomas BURKE</td>\n",
       "      <td>1896 Athens</td>\n",
       "      <td>Athletics</td>\n",
       "      <td>Men's</td>\n",
       "      <td>100m</td>\n",
       "    </tr>\n",
       "    <tr>\n",
       "      <th>1</th>\n",
       "      <td>Summer</td>\n",
       "      <td>1896</td>\n",
       "      <td>Silver</td>\n",
       "      <td>GER</td>\n",
       "      <td>Germany</td>\n",
       "      <td>Fritz HOFMANN</td>\n",
       "      <td>1896 Athens</td>\n",
       "      <td>Athletics</td>\n",
       "      <td>Men's</td>\n",
       "      <td>100m</td>\n",
       "    </tr>\n",
       "    <tr>\n",
       "      <th>2</th>\n",
       "      <td>Summer</td>\n",
       "      <td>1896</td>\n",
       "      <td>Bronze</td>\n",
       "      <td>HUN</td>\n",
       "      <td>Hungary</td>\n",
       "      <td>Alajos SZOKOLYI</td>\n",
       "      <td>1896 Athens</td>\n",
       "      <td>Athletics</td>\n",
       "      <td>Men's</td>\n",
       "      <td>100m</td>\n",
       "    </tr>\n",
       "    <tr>\n",
       "      <th>3</th>\n",
       "      <td>Summer</td>\n",
       "      <td>1896</td>\n",
       "      <td>Bronze</td>\n",
       "      <td>USA</td>\n",
       "      <td>United States</td>\n",
       "      <td>Francis LANE</td>\n",
       "      <td>1896 Athens</td>\n",
       "      <td>Athletics</td>\n",
       "      <td>Men's</td>\n",
       "      <td>100m</td>\n",
       "    </tr>\n",
       "    <tr>\n",
       "      <th>4</th>\n",
       "      <td>Summer</td>\n",
       "      <td>1896</td>\n",
       "      <td>Gold</td>\n",
       "      <td>USA</td>\n",
       "      <td>United States</td>\n",
       "      <td>Thomas BURKE</td>\n",
       "      <td>1896 Athens</td>\n",
       "      <td>Athletics</td>\n",
       "      <td>Men's</td>\n",
       "      <td>400m</td>\n",
       "    </tr>\n",
       "  </tbody>\n",
       "</table>\n",
       "</div>"
      ],
      "text/plain": [
       "   season  year   medal country_code        country         athletes  \\\n",
       "0  Summer  1896    Gold          USA  United States     Thomas BURKE   \n",
       "1  Summer  1896  Silver          GER        Germany    Fritz HOFMANN   \n",
       "2  Summer  1896  Bronze          HUN        Hungary  Alajos SZOKOLYI   \n",
       "3  Summer  1896  Bronze          USA  United States     Francis LANE   \n",
       "4  Summer  1896    Gold          USA  United States     Thomas BURKE   \n",
       "\n",
       "         games      sport event_gender event_name  \n",
       "0  1896 Athens  Athletics        Men's       100m  \n",
       "1  1896 Athens  Athletics        Men's       100m  \n",
       "2  1896 Athens  Athletics        Men's       100m  \n",
       "3  1896 Athens  Athletics        Men's       100m  \n",
       "4  1896 Athens  Athletics        Men's       400m  "
      ]
     },
     "execution_count": 99,
     "metadata": {},
     "output_type": "execute_result"
    }
   ],
   "source": [
    "#show the first 5 rows\n",
    "df.head()"
   ]
  },
  {
   "cell_type": "code",
   "execution_count": 100,
   "id": "4ec6362b",
   "metadata": {},
   "outputs": [
    {
     "data": {
      "text/html": [
       "<div>\n",
       "<style scoped>\n",
       "    .dataframe tbody tr th:only-of-type {\n",
       "        vertical-align: middle;\n",
       "    }\n",
       "\n",
       "    .dataframe tbody tr th {\n",
       "        vertical-align: top;\n",
       "    }\n",
       "\n",
       "    .dataframe thead th {\n",
       "        text-align: right;\n",
       "    }\n",
       "</style>\n",
       "<table border=\"1\" class=\"dataframe\">\n",
       "  <thead>\n",
       "    <tr style=\"text-align: right;\">\n",
       "      <th></th>\n",
       "      <th>season</th>\n",
       "      <th>year</th>\n",
       "      <th>medal</th>\n",
       "      <th>country_code</th>\n",
       "      <th>country</th>\n",
       "      <th>athletes</th>\n",
       "      <th>games</th>\n",
       "      <th>sport</th>\n",
       "      <th>event_gender</th>\n",
       "      <th>event_name</th>\n",
       "    </tr>\n",
       "  </thead>\n",
       "  <tbody>\n",
       "    <tr>\n",
       "      <th>20242</th>\n",
       "      <td>Winter</td>\n",
       "      <td>2022</td>\n",
       "      <td>Silver</td>\n",
       "      <td>JPN</td>\n",
       "      <td>Japan</td>\n",
       "      <td>SATO Ayano, TAKAGI Nana, TAKAGI Miho</td>\n",
       "      <td>2022 Beijing</td>\n",
       "      <td>Speed skating</td>\n",
       "      <td>Women's</td>\n",
       "      <td>Team pursuit</td>\n",
       "    </tr>\n",
       "    <tr>\n",
       "      <th>20243</th>\n",
       "      <td>Winter</td>\n",
       "      <td>2022</td>\n",
       "      <td>Bronze</td>\n",
       "      <td>NED</td>\n",
       "      <td>Netherlands</td>\n",
       "      <td>GROENEWOUD Marijke, WUST Ireen, de JONG Antoin...</td>\n",
       "      <td>2022 Beijing</td>\n",
       "      <td>Speed skating</td>\n",
       "      <td>Women's</td>\n",
       "      <td>Team pursuit</td>\n",
       "    </tr>\n",
       "    <tr>\n",
       "      <th>20244</th>\n",
       "      <td>Winter</td>\n",
       "      <td>2022</td>\n",
       "      <td>Gold</td>\n",
       "      <td>NED</td>\n",
       "      <td>Netherlands</td>\n",
       "      <td>SCHOUTEN Irene</td>\n",
       "      <td>2022 Beijing</td>\n",
       "      <td>Speed skating</td>\n",
       "      <td>Women's</td>\n",
       "      <td>Mass start</td>\n",
       "    </tr>\n",
       "    <tr>\n",
       "      <th>20245</th>\n",
       "      <td>Winter</td>\n",
       "      <td>2022</td>\n",
       "      <td>Silver</td>\n",
       "      <td>CAN</td>\n",
       "      <td>Canada</td>\n",
       "      <td>BLONDIN Ivanie</td>\n",
       "      <td>2022 Beijing</td>\n",
       "      <td>Speed skating</td>\n",
       "      <td>Women's</td>\n",
       "      <td>Mass start</td>\n",
       "    </tr>\n",
       "    <tr>\n",
       "      <th>20246</th>\n",
       "      <td>Winter</td>\n",
       "      <td>2022</td>\n",
       "      <td>Bronze</td>\n",
       "      <td>ITA</td>\n",
       "      <td>Italy</td>\n",
       "      <td>LOLLOBRIGIDA Francesca</td>\n",
       "      <td>2022 Beijing</td>\n",
       "      <td>Speed skating</td>\n",
       "      <td>Women's</td>\n",
       "      <td>Mass start</td>\n",
       "    </tr>\n",
       "  </tbody>\n",
       "</table>\n",
       "</div>"
      ],
      "text/plain": [
       "       season  year   medal country_code      country  \\\n",
       "20242  Winter  2022  Silver          JPN        Japan   \n",
       "20243  Winter  2022  Bronze          NED  Netherlands   \n",
       "20244  Winter  2022    Gold          NED  Netherlands   \n",
       "20245  Winter  2022  Silver          CAN       Canada   \n",
       "20246  Winter  2022  Bronze          ITA        Italy   \n",
       "\n",
       "                                                athletes         games  \\\n",
       "20242               SATO Ayano, TAKAGI Nana, TAKAGI Miho  2022 Beijing   \n",
       "20243  GROENEWOUD Marijke, WUST Ireen, de JONG Antoin...  2022 Beijing   \n",
       "20244                                     SCHOUTEN Irene  2022 Beijing   \n",
       "20245                                     BLONDIN Ivanie  2022 Beijing   \n",
       "20246                             LOLLOBRIGIDA Francesca  2022 Beijing   \n",
       "\n",
       "               sport event_gender    event_name  \n",
       "20242  Speed skating      Women's  Team pursuit  \n",
       "20243  Speed skating      Women's  Team pursuit  \n",
       "20244  Speed skating      Women's    Mass start  \n",
       "20245  Speed skating      Women's    Mass start  \n",
       "20246  Speed skating      Women's    Mass start  "
      ]
     },
     "execution_count": 100,
     "metadata": {},
     "output_type": "execute_result"
    }
   ],
   "source": [
    "#show the last 5 rows\n",
    "df.tail()"
   ]
  },
  {
   "cell_type": "code",
   "execution_count": 101,
   "id": "e5c18de1",
   "metadata": {},
   "outputs": [
    {
     "data": {
      "text/plain": [
       "season            0\n",
       "year              0\n",
       "medal             4\n",
       "country_code      4\n",
       "country           4\n",
       "athletes        427\n",
       "games             0\n",
       "sport             0\n",
       "event_gender      0\n",
       "event_name        0\n",
       "dtype: int64"
      ]
     },
     "execution_count": 101,
     "metadata": {},
     "output_type": "execute_result"
    }
   ],
   "source": [
    "# Are there any missing values in any of the columns?\n",
    "df.isnull().sum()"
   ]
  },
  {
   "cell_type": "code",
   "execution_count": 102,
   "id": "c7c33747",
   "metadata": {},
   "outputs": [
    {
     "name": "stdout",
     "output_type": "stream",
     "text": [
      "<class 'pandas.core.frame.DataFrame'>\n",
      "RangeIndex: 20247 entries, 0 to 20246\n",
      "Data columns (total 10 columns):\n",
      " #   Column        Non-Null Count  Dtype \n",
      "---  ------        --------------  ----- \n",
      " 0   season        20247 non-null  object\n",
      " 1   year          20247 non-null  int64 \n",
      " 2   medal         20243 non-null  object\n",
      " 3   country_code  20243 non-null  object\n",
      " 4   country       20243 non-null  object\n",
      " 5   athletes      19820 non-null  object\n",
      " 6   games         20247 non-null  object\n",
      " 7   sport         20247 non-null  object\n",
      " 8   event_gender  20247 non-null  object\n",
      " 9   event_name    20247 non-null  object\n",
      "dtypes: int64(1), object(9)\n",
      "memory usage: 1.5+ MB\n"
     ]
    }
   ],
   "source": [
    "df.info()"
   ]
  },
  {
   "cell_type": "code",
   "execution_count": 103,
   "id": "de56aa6a",
   "metadata": {},
   "outputs": [
    {
     "data": {
      "text/html": [
       "<div>\n",
       "<style scoped>\n",
       "    .dataframe tbody tr th:only-of-type {\n",
       "        vertical-align: middle;\n",
       "    }\n",
       "\n",
       "    .dataframe tbody tr th {\n",
       "        vertical-align: top;\n",
       "    }\n",
       "\n",
       "    .dataframe thead th {\n",
       "        text-align: right;\n",
       "    }\n",
       "</style>\n",
       "<table border=\"1\" class=\"dataframe\">\n",
       "  <thead>\n",
       "    <tr style=\"text-align: right;\">\n",
       "      <th></th>\n",
       "      <th>season</th>\n",
       "      <th>year</th>\n",
       "      <th>medal</th>\n",
       "      <th>country_code</th>\n",
       "      <th>country</th>\n",
       "      <th>athletes</th>\n",
       "      <th>games</th>\n",
       "      <th>sport</th>\n",
       "      <th>event_gender</th>\n",
       "      <th>event_name</th>\n",
       "    </tr>\n",
       "  </thead>\n",
       "  <tbody>\n",
       "    <tr>\n",
       "      <th>807</th>\n",
       "      <td>Summer</td>\n",
       "      <td>1908</td>\n",
       "      <td>NaN</td>\n",
       "      <td>NaN</td>\n",
       "      <td>NaN</td>\n",
       "      <td>NaN</td>\n",
       "      <td>1908 London</td>\n",
       "      <td>Cycling Track</td>\n",
       "      <td>Men's</td>\n",
       "      <td>sprint individual</td>\n",
       "    </tr>\n",
       "    <tr>\n",
       "      <th>1559</th>\n",
       "      <td>Summer</td>\n",
       "      <td>1920</td>\n",
       "      <td>NaN</td>\n",
       "      <td>NaN</td>\n",
       "      <td>NaN</td>\n",
       "      <td>NaN</td>\n",
       "      <td>1920 Antwerp</td>\n",
       "      <td>Sailing</td>\n",
       "      <td>Mixed</td>\n",
       "      <td>18 foot dinghy</td>\n",
       "    </tr>\n",
       "    <tr>\n",
       "      <th>2621</th>\n",
       "      <td>Summer</td>\n",
       "      <td>1932</td>\n",
       "      <td>NaN</td>\n",
       "      <td>NaN</td>\n",
       "      <td>NaN</td>\n",
       "      <td>NaN</td>\n",
       "      <td>1932 Los Angeles</td>\n",
       "      <td>Equestrian Jumping</td>\n",
       "      <td>Mixed</td>\n",
       "      <td>team</td>\n",
       "    </tr>\n",
       "    <tr>\n",
       "      <th>16837</th>\n",
       "      <td>Winter</td>\n",
       "      <td>1928</td>\n",
       "      <td>NaN</td>\n",
       "      <td>NaN</td>\n",
       "      <td>NaN</td>\n",
       "      <td>NaN</td>\n",
       "      <td>1928 St. Moritz</td>\n",
       "      <td>Speed skating</td>\n",
       "      <td>Men's</td>\n",
       "      <td>10000m</td>\n",
       "    </tr>\n",
       "  </tbody>\n",
       "</table>\n",
       "</div>"
      ],
      "text/plain": [
       "       season  year medal country_code country athletes             games  \\\n",
       "807    Summer  1908   NaN          NaN     NaN      NaN       1908 London   \n",
       "1559   Summer  1920   NaN          NaN     NaN      NaN      1920 Antwerp   \n",
       "2621   Summer  1932   NaN          NaN     NaN      NaN  1932 Los Angeles   \n",
       "16837  Winter  1928   NaN          NaN     NaN      NaN   1928 St. Moritz   \n",
       "\n",
       "                    sport event_gender         event_name  \n",
       "807         Cycling Track        Men's  sprint individual  \n",
       "1559              Sailing        Mixed     18 foot dinghy  \n",
       "2621   Equestrian Jumping        Mixed               team  \n",
       "16837       Speed skating        Men's             10000m  "
      ]
     },
     "execution_count": 103,
     "metadata": {},
     "output_type": "execute_result"
    }
   ],
   "source": [
    "# Show the missing values in the 'medal' column\n",
    "df[df['medal'].isnull()]"
   ]
  },
  {
   "cell_type": "code",
   "execution_count": 104,
   "id": "5dd5eee4",
   "metadata": {},
   "outputs": [
    {
     "data": {
      "text/plain": [
       "20243"
      ]
     },
     "execution_count": 104,
     "metadata": {},
     "output_type": "execute_result"
    }
   ],
   "source": [
    "# How many total medals are recorded in the dataset?\n",
    "df['medal'].count()"
   ]
  },
  {
   "cell_type": "code",
   "execution_count": 105,
   "id": "62a8c17f",
   "metadata": {},
   "outputs": [
    {
     "data": {
      "text/plain": [
       "20247"
      ]
     },
     "execution_count": 105,
     "metadata": {},
     "output_type": "execute_result"
    }
   ],
   "source": [
    "#don't use len() -- includes NaN values\n",
    "len(df['medal'])"
   ]
  },
  {
   "cell_type": "code",
   "execution_count": 106,
   "id": "944bf540",
   "metadata": {},
   "outputs": [
    {
     "data": {
      "text/plain": [
       "122"
      ]
     },
     "execution_count": 106,
     "metadata": {},
     "output_type": "execute_result"
    }
   ],
   "source": [
    "# How many medals were awarded in the first Olympic year (1896)?\n",
    "df[df['year'] == df['year'].min()]['medal'].count()"
   ]
  },
  {
   "cell_type": "code",
   "execution_count": 107,
   "id": "f8c1df94",
   "metadata": {},
   "outputs": [
    {
     "data": {
      "text/plain": [
       "2975"
      ]
     },
     "execution_count": 107,
     "metadata": {},
     "output_type": "execute_result"
    }
   ],
   "source": [
    "# 6. How many medals has the US won?\n",
    "df[df['country'] == 'United States']['medal'].count()"
   ]
  },
  {
   "cell_type": "code",
   "execution_count": 108,
   "id": "e71b826e",
   "metadata": {},
   "outputs": [
    {
     "data": {
      "text/plain": [
       "array([1900, 1908, 1920, 1924, 2016, 2024], dtype=int64)"
      ]
     },
     "execution_count": 108,
     "metadata": {},
     "output_type": "execute_result"
    }
   ],
   "source": [
    "# What years did anyone medal for \"Rugby\"?\n",
    "df[df['sport'] == 'Rugby']['year'].unique()"
   ]
  },
  {
   "cell_type": "code",
   "execution_count": 109,
   "id": "786965c9",
   "metadata": {},
   "outputs": [
    {
     "data": {
      "text/plain": [
       "1900"
      ]
     },
     "execution_count": 109,
     "metadata": {},
     "output_type": "execute_result"
    }
   ],
   "source": [
    "# What was the first year women were included?\n",
    "df[df['event_gender'] == 'Women\\'s']['year'].min()"
   ]
  },
  {
   "cell_type": "markdown",
   "id": "c5e82bd4",
   "metadata": {},
   "source": [
    "## Pandas Cleaning Tasks"
   ]
  },
  {
   "cell_type": "code",
   "execution_count": 110,
   "id": "95c0dee1",
   "metadata": {},
   "outputs": [],
   "source": [
    "df= pd.read_csv('all_olympic_medalists.csv')"
   ]
  },
  {
   "cell_type": "code",
   "execution_count": 111,
   "id": "2405e573",
   "metadata": {},
   "outputs": [
    {
     "data": {
      "text/html": [
       "<div>\n",
       "<style scoped>\n",
       "    .dataframe tbody tr th:only-of-type {\n",
       "        vertical-align: middle;\n",
       "    }\n",
       "\n",
       "    .dataframe tbody tr th {\n",
       "        vertical-align: top;\n",
       "    }\n",
       "\n",
       "    .dataframe thead th {\n",
       "        text-align: right;\n",
       "    }\n",
       "</style>\n",
       "<table border=\"1\" class=\"dataframe\">\n",
       "  <thead>\n",
       "    <tr style=\"text-align: right;\">\n",
       "      <th></th>\n",
       "      <th>season</th>\n",
       "      <th>year</th>\n",
       "      <th>medal</th>\n",
       "      <th>country_code</th>\n",
       "      <th>country</th>\n",
       "      <th>athletes</th>\n",
       "      <th>games</th>\n",
       "      <th>sport</th>\n",
       "      <th>event_gender</th>\n",
       "      <th>event_name</th>\n",
       "    </tr>\n",
       "  </thead>\n",
       "  <tbody>\n",
       "    <tr>\n",
       "      <th>0</th>\n",
       "      <td>Summer</td>\n",
       "      <td>1896</td>\n",
       "      <td>Gold</td>\n",
       "      <td>USA</td>\n",
       "      <td>United States</td>\n",
       "      <td>Thomas BURKE</td>\n",
       "      <td>1896 Athens</td>\n",
       "      <td>Athletics</td>\n",
       "      <td>Men's</td>\n",
       "      <td>100m</td>\n",
       "    </tr>\n",
       "    <tr>\n",
       "      <th>1</th>\n",
       "      <td>Summer</td>\n",
       "      <td>1896</td>\n",
       "      <td>Silver</td>\n",
       "      <td>GER</td>\n",
       "      <td>Germany</td>\n",
       "      <td>Fritz HOFMANN</td>\n",
       "      <td>1896 Athens</td>\n",
       "      <td>Athletics</td>\n",
       "      <td>Men's</td>\n",
       "      <td>100m</td>\n",
       "    </tr>\n",
       "    <tr>\n",
       "      <th>2</th>\n",
       "      <td>Summer</td>\n",
       "      <td>1896</td>\n",
       "      <td>Bronze</td>\n",
       "      <td>HUN</td>\n",
       "      <td>Hungary</td>\n",
       "      <td>Alajos SZOKOLYI</td>\n",
       "      <td>1896 Athens</td>\n",
       "      <td>Athletics</td>\n",
       "      <td>Men's</td>\n",
       "      <td>100m</td>\n",
       "    </tr>\n",
       "    <tr>\n",
       "      <th>3</th>\n",
       "      <td>Summer</td>\n",
       "      <td>1896</td>\n",
       "      <td>Bronze</td>\n",
       "      <td>USA</td>\n",
       "      <td>United States</td>\n",
       "      <td>Francis LANE</td>\n",
       "      <td>1896 Athens</td>\n",
       "      <td>Athletics</td>\n",
       "      <td>Men's</td>\n",
       "      <td>100m</td>\n",
       "    </tr>\n",
       "    <tr>\n",
       "      <th>4</th>\n",
       "      <td>Summer</td>\n",
       "      <td>1896</td>\n",
       "      <td>Gold</td>\n",
       "      <td>USA</td>\n",
       "      <td>United States</td>\n",
       "      <td>Thomas BURKE</td>\n",
       "      <td>1896 Athens</td>\n",
       "      <td>Athletics</td>\n",
       "      <td>Men's</td>\n",
       "      <td>400m</td>\n",
       "    </tr>\n",
       "  </tbody>\n",
       "</table>\n",
       "</div>"
      ],
      "text/plain": [
       "   season  year   medal country_code        country         athletes  \\\n",
       "0  Summer  1896    Gold          USA  United States     Thomas BURKE   \n",
       "1  Summer  1896  Silver          GER        Germany    Fritz HOFMANN   \n",
       "2  Summer  1896  Bronze          HUN        Hungary  Alajos SZOKOLYI   \n",
       "3  Summer  1896  Bronze          USA  United States     Francis LANE   \n",
       "4  Summer  1896    Gold          USA  United States     Thomas BURKE   \n",
       "\n",
       "         games      sport event_gender event_name  \n",
       "0  1896 Athens  Athletics        Men's       100m  \n",
       "1  1896 Athens  Athletics        Men's       100m  \n",
       "2  1896 Athens  Athletics        Men's       100m  \n",
       "3  1896 Athens  Athletics        Men's       100m  \n",
       "4  1896 Athens  Athletics        Men's       400m  "
      ]
     },
     "execution_count": 111,
     "metadata": {},
     "output_type": "execute_result"
    }
   ],
   "source": [
    "df.head()"
   ]
  },
  {
   "cell_type": "code",
   "execution_count": 112,
   "id": "31b88be9",
   "metadata": {},
   "outputs": [
    {
     "data": {
      "text/html": [
       "<div>\n",
       "<style scoped>\n",
       "    .dataframe tbody tr th:only-of-type {\n",
       "        vertical-align: middle;\n",
       "    }\n",
       "\n",
       "    .dataframe tbody tr th {\n",
       "        vertical-align: top;\n",
       "    }\n",
       "\n",
       "    .dataframe thead th {\n",
       "        text-align: right;\n",
       "    }\n",
       "</style>\n",
       "<table border=\"1\" class=\"dataframe\">\n",
       "  <thead>\n",
       "    <tr style=\"text-align: right;\">\n",
       "      <th></th>\n",
       "      <th>season</th>\n",
       "      <th>year</th>\n",
       "      <th>medal</th>\n",
       "      <th>country_code</th>\n",
       "      <th>country</th>\n",
       "      <th>athletes</th>\n",
       "      <th>games</th>\n",
       "      <th>sport</th>\n",
       "      <th>event_gender</th>\n",
       "      <th>event_name</th>\n",
       "    </tr>\n",
       "  </thead>\n",
       "  <tbody>\n",
       "    <tr>\n",
       "      <th>807</th>\n",
       "      <td>Summer</td>\n",
       "      <td>1908</td>\n",
       "      <td>NaN</td>\n",
       "      <td>NaN</td>\n",
       "      <td>NaN</td>\n",
       "      <td>NaN</td>\n",
       "      <td>1908 London</td>\n",
       "      <td>Cycling Track</td>\n",
       "      <td>Men's</td>\n",
       "      <td>sprint individual</td>\n",
       "    </tr>\n",
       "    <tr>\n",
       "      <th>1559</th>\n",
       "      <td>Summer</td>\n",
       "      <td>1920</td>\n",
       "      <td>NaN</td>\n",
       "      <td>NaN</td>\n",
       "      <td>NaN</td>\n",
       "      <td>NaN</td>\n",
       "      <td>1920 Antwerp</td>\n",
       "      <td>Sailing</td>\n",
       "      <td>Mixed</td>\n",
       "      <td>18 foot dinghy</td>\n",
       "    </tr>\n",
       "    <tr>\n",
       "      <th>2621</th>\n",
       "      <td>Summer</td>\n",
       "      <td>1932</td>\n",
       "      <td>NaN</td>\n",
       "      <td>NaN</td>\n",
       "      <td>NaN</td>\n",
       "      <td>NaN</td>\n",
       "      <td>1932 Los Angeles</td>\n",
       "      <td>Equestrian Jumping</td>\n",
       "      <td>Mixed</td>\n",
       "      <td>team</td>\n",
       "    </tr>\n",
       "    <tr>\n",
       "      <th>16837</th>\n",
       "      <td>Winter</td>\n",
       "      <td>1928</td>\n",
       "      <td>NaN</td>\n",
       "      <td>NaN</td>\n",
       "      <td>NaN</td>\n",
       "      <td>NaN</td>\n",
       "      <td>1928 St. Moritz</td>\n",
       "      <td>Speed skating</td>\n",
       "      <td>Men's</td>\n",
       "      <td>10000m</td>\n",
       "    </tr>\n",
       "  </tbody>\n",
       "</table>\n",
       "</div>"
      ],
      "text/plain": [
       "       season  year medal country_code country athletes             games  \\\n",
       "807    Summer  1908   NaN          NaN     NaN      NaN       1908 London   \n",
       "1559   Summer  1920   NaN          NaN     NaN      NaN      1920 Antwerp   \n",
       "2621   Summer  1932   NaN          NaN     NaN      NaN  1932 Los Angeles   \n",
       "16837  Winter  1928   NaN          NaN     NaN      NaN   1928 St. Moritz   \n",
       "\n",
       "                    sport event_gender         event_name  \n",
       "807         Cycling Track        Men's  sprint individual  \n",
       "1559              Sailing        Mixed     18 foot dinghy  \n",
       "2621   Equestrian Jumping        Mixed               team  \n",
       "16837       Speed skating        Men's             10000m  "
      ]
     },
     "execution_count": 112,
     "metadata": {},
     "output_type": "execute_result"
    }
   ],
   "source": [
    "#show missing values in the 'medal' column\n",
    "df[df['medal'].isnull()]"
   ]
  },
  {
   "cell_type": "code",
   "execution_count": 113,
   "id": "e8114062",
   "metadata": {},
   "outputs": [],
   "source": [
    "df.fillna({'country': 'Unknown'}, inplace=True) "
   ]
  },
  {
   "cell_type": "code",
   "execution_count": 114,
   "id": "a2eeb24e",
   "metadata": {},
   "outputs": [
    {
     "data": {
      "text/html": [
       "<div>\n",
       "<style scoped>\n",
       "    .dataframe tbody tr th:only-of-type {\n",
       "        vertical-align: middle;\n",
       "    }\n",
       "\n",
       "    .dataframe tbody tr th {\n",
       "        vertical-align: top;\n",
       "    }\n",
       "\n",
       "    .dataframe thead th {\n",
       "        text-align: right;\n",
       "    }\n",
       "</style>\n",
       "<table border=\"1\" class=\"dataframe\">\n",
       "  <thead>\n",
       "    <tr style=\"text-align: right;\">\n",
       "      <th></th>\n",
       "      <th>season</th>\n",
       "      <th>year</th>\n",
       "      <th>medal</th>\n",
       "      <th>country_code</th>\n",
       "      <th>country</th>\n",
       "      <th>athletes</th>\n",
       "      <th>games</th>\n",
       "      <th>sport</th>\n",
       "      <th>event_gender</th>\n",
       "      <th>event_name</th>\n",
       "    </tr>\n",
       "  </thead>\n",
       "  <tbody>\n",
       "    <tr>\n",
       "      <th>807</th>\n",
       "      <td>Summer</td>\n",
       "      <td>1908</td>\n",
       "      <td>NaN</td>\n",
       "      <td>NaN</td>\n",
       "      <td>Unknown</td>\n",
       "      <td>NaN</td>\n",
       "      <td>1908 London</td>\n",
       "      <td>Cycling Track</td>\n",
       "      <td>Men's</td>\n",
       "      <td>sprint individual</td>\n",
       "    </tr>\n",
       "    <tr>\n",
       "      <th>1559</th>\n",
       "      <td>Summer</td>\n",
       "      <td>1920</td>\n",
       "      <td>NaN</td>\n",
       "      <td>NaN</td>\n",
       "      <td>Unknown</td>\n",
       "      <td>NaN</td>\n",
       "      <td>1920 Antwerp</td>\n",
       "      <td>Sailing</td>\n",
       "      <td>Mixed</td>\n",
       "      <td>18 foot dinghy</td>\n",
       "    </tr>\n",
       "    <tr>\n",
       "      <th>2621</th>\n",
       "      <td>Summer</td>\n",
       "      <td>1932</td>\n",
       "      <td>NaN</td>\n",
       "      <td>NaN</td>\n",
       "      <td>Unknown</td>\n",
       "      <td>NaN</td>\n",
       "      <td>1932 Los Angeles</td>\n",
       "      <td>Equestrian Jumping</td>\n",
       "      <td>Mixed</td>\n",
       "      <td>team</td>\n",
       "    </tr>\n",
       "    <tr>\n",
       "      <th>16837</th>\n",
       "      <td>Winter</td>\n",
       "      <td>1928</td>\n",
       "      <td>NaN</td>\n",
       "      <td>NaN</td>\n",
       "      <td>Unknown</td>\n",
       "      <td>NaN</td>\n",
       "      <td>1928 St. Moritz</td>\n",
       "      <td>Speed skating</td>\n",
       "      <td>Men's</td>\n",
       "      <td>10000m</td>\n",
       "    </tr>\n",
       "  </tbody>\n",
       "</table>\n",
       "</div>"
      ],
      "text/plain": [
       "       season  year medal country_code  country athletes             games  \\\n",
       "807    Summer  1908   NaN          NaN  Unknown      NaN       1908 London   \n",
       "1559   Summer  1920   NaN          NaN  Unknown      NaN      1920 Antwerp   \n",
       "2621   Summer  1932   NaN          NaN  Unknown      NaN  1932 Los Angeles   \n",
       "16837  Winter  1928   NaN          NaN  Unknown      NaN   1928 St. Moritz   \n",
       "\n",
       "                    sport event_gender         event_name  \n",
       "807         Cycling Track        Men's  sprint individual  \n",
       "1559              Sailing        Mixed     18 foot dinghy  \n",
       "2621   Equestrian Jumping        Mixed               team  \n",
       "16837       Speed skating        Men's             10000m  "
      ]
     },
     "execution_count": 114,
     "metadata": {},
     "output_type": "execute_result"
    }
   ],
   "source": [
    "df[df['medal'].isnull()]"
   ]
  },
  {
   "cell_type": "code",
   "execution_count": 115,
   "id": "f0ad62b1",
   "metadata": {},
   "outputs": [],
   "source": [
    "# remove rows with missing values in the 'medal' column\n",
    "df.dropna(subset=['medal'], inplace=True)"
   ]
  },
  {
   "cell_type": "code",
   "execution_count": 116,
   "id": "0dd85b26",
   "metadata": {},
   "outputs": [
    {
     "data": {
      "text/html": [
       "<div>\n",
       "<style scoped>\n",
       "    .dataframe tbody tr th:only-of-type {\n",
       "        vertical-align: middle;\n",
       "    }\n",
       "\n",
       "    .dataframe tbody tr th {\n",
       "        vertical-align: top;\n",
       "    }\n",
       "\n",
       "    .dataframe thead th {\n",
       "        text-align: right;\n",
       "    }\n",
       "</style>\n",
       "<table border=\"1\" class=\"dataframe\">\n",
       "  <thead>\n",
       "    <tr style=\"text-align: right;\">\n",
       "      <th></th>\n",
       "      <th>season</th>\n",
       "      <th>year</th>\n",
       "      <th>medal</th>\n",
       "      <th>country_code</th>\n",
       "      <th>country</th>\n",
       "      <th>athletes</th>\n",
       "      <th>games</th>\n",
       "      <th>sport</th>\n",
       "      <th>event_gender</th>\n",
       "      <th>event_name</th>\n",
       "    </tr>\n",
       "  </thead>\n",
       "  <tbody>\n",
       "  </tbody>\n",
       "</table>\n",
       "</div>"
      ],
      "text/plain": [
       "Empty DataFrame\n",
       "Columns: [season, year, medal, country_code, country, athletes, games, sport, event_gender, event_name]\n",
       "Index: []"
      ]
     },
     "execution_count": 116,
     "metadata": {},
     "output_type": "execute_result"
    }
   ],
   "source": [
    "df[df['medal'].isnull()]"
   ]
  },
  {
   "cell_type": "code",
   "execution_count": 117,
   "id": "bac7462a",
   "metadata": {},
   "outputs": [
    {
     "data": {
      "text/plain": [
       "Index(['season', 'year', 'medal', 'country_code', 'country', 'athletes',\n",
       "       'games', 'sport', 'event_gender', 'event_name'],\n",
       "      dtype='object')"
      ]
     },
     "execution_count": 117,
     "metadata": {},
     "output_type": "execute_result"
    }
   ],
   "source": [
    "df.columns"
   ]
  },
  {
   "cell_type": "code",
   "execution_count": 118,
   "id": "eef89e9c",
   "metadata": {},
   "outputs": [],
   "source": [
    "df.rename(columns={'event_gender':'gender'}, inplace=True)"
   ]
  },
  {
   "cell_type": "code",
   "execution_count": 119,
   "id": "d6c72f40",
   "metadata": {},
   "outputs": [
    {
     "data": {
      "text/plain": [
       "Index(['season', 'year', 'medal', 'country_code', 'country', 'athletes',\n",
       "       'games', 'sport', 'gender', 'event_name'],\n",
       "      dtype='object')"
      ]
     },
     "execution_count": 119,
     "metadata": {},
     "output_type": "execute_result"
    }
   ],
   "source": [
    "df.columns"
   ]
  },
  {
   "cell_type": "code",
   "execution_count": 120,
   "id": "d4fa7878",
   "metadata": {},
   "outputs": [],
   "source": [
    "df['year'] = df['year'].astype(str)"
   ]
  },
  {
   "cell_type": "code",
   "execution_count": 121,
   "id": "a70d4b81",
   "metadata": {},
   "outputs": [],
   "source": [
    "df['year'] = df['year'].astype(int)"
   ]
  },
  {
   "cell_type": "code",
   "execution_count": 122,
   "id": "760cea7a",
   "metadata": {},
   "outputs": [],
   "source": [
    "df['event'] = df['gender']+ ' ' + df['event_name']"
   ]
  },
  {
   "cell_type": "code",
   "execution_count": 123,
   "id": "8f89e395",
   "metadata": {},
   "outputs": [
    {
     "data": {
      "text/html": [
       "<div>\n",
       "<style scoped>\n",
       "    .dataframe tbody tr th:only-of-type {\n",
       "        vertical-align: middle;\n",
       "    }\n",
       "\n",
       "    .dataframe tbody tr th {\n",
       "        vertical-align: top;\n",
       "    }\n",
       "\n",
       "    .dataframe thead th {\n",
       "        text-align: right;\n",
       "    }\n",
       "</style>\n",
       "<table border=\"1\" class=\"dataframe\">\n",
       "  <thead>\n",
       "    <tr style=\"text-align: right;\">\n",
       "      <th></th>\n",
       "      <th>season</th>\n",
       "      <th>year</th>\n",
       "      <th>medal</th>\n",
       "      <th>country_code</th>\n",
       "      <th>country</th>\n",
       "      <th>athletes</th>\n",
       "      <th>games</th>\n",
       "      <th>sport</th>\n",
       "      <th>gender</th>\n",
       "      <th>event_name</th>\n",
       "      <th>event</th>\n",
       "    </tr>\n",
       "  </thead>\n",
       "  <tbody>\n",
       "    <tr>\n",
       "      <th>0</th>\n",
       "      <td>Summer</td>\n",
       "      <td>1896</td>\n",
       "      <td>Gold</td>\n",
       "      <td>USA</td>\n",
       "      <td>United States</td>\n",
       "      <td>Thomas BURKE</td>\n",
       "      <td>1896 Athens</td>\n",
       "      <td>Athletics</td>\n",
       "      <td>Men's</td>\n",
       "      <td>100m</td>\n",
       "      <td>Men's 100m</td>\n",
       "    </tr>\n",
       "    <tr>\n",
       "      <th>1</th>\n",
       "      <td>Summer</td>\n",
       "      <td>1896</td>\n",
       "      <td>Silver</td>\n",
       "      <td>GER</td>\n",
       "      <td>Germany</td>\n",
       "      <td>Fritz HOFMANN</td>\n",
       "      <td>1896 Athens</td>\n",
       "      <td>Athletics</td>\n",
       "      <td>Men's</td>\n",
       "      <td>100m</td>\n",
       "      <td>Men's 100m</td>\n",
       "    </tr>\n",
       "    <tr>\n",
       "      <th>2</th>\n",
       "      <td>Summer</td>\n",
       "      <td>1896</td>\n",
       "      <td>Bronze</td>\n",
       "      <td>HUN</td>\n",
       "      <td>Hungary</td>\n",
       "      <td>Alajos SZOKOLYI</td>\n",
       "      <td>1896 Athens</td>\n",
       "      <td>Athletics</td>\n",
       "      <td>Men's</td>\n",
       "      <td>100m</td>\n",
       "      <td>Men's 100m</td>\n",
       "    </tr>\n",
       "    <tr>\n",
       "      <th>3</th>\n",
       "      <td>Summer</td>\n",
       "      <td>1896</td>\n",
       "      <td>Bronze</td>\n",
       "      <td>USA</td>\n",
       "      <td>United States</td>\n",
       "      <td>Francis LANE</td>\n",
       "      <td>1896 Athens</td>\n",
       "      <td>Athletics</td>\n",
       "      <td>Men's</td>\n",
       "      <td>100m</td>\n",
       "      <td>Men's 100m</td>\n",
       "    </tr>\n",
       "    <tr>\n",
       "      <th>4</th>\n",
       "      <td>Summer</td>\n",
       "      <td>1896</td>\n",
       "      <td>Gold</td>\n",
       "      <td>USA</td>\n",
       "      <td>United States</td>\n",
       "      <td>Thomas BURKE</td>\n",
       "      <td>1896 Athens</td>\n",
       "      <td>Athletics</td>\n",
       "      <td>Men's</td>\n",
       "      <td>400m</td>\n",
       "      <td>Men's 400m</td>\n",
       "    </tr>\n",
       "  </tbody>\n",
       "</table>\n",
       "</div>"
      ],
      "text/plain": [
       "   season  year   medal country_code        country         athletes  \\\n",
       "0  Summer  1896    Gold          USA  United States     Thomas BURKE   \n",
       "1  Summer  1896  Silver          GER        Germany    Fritz HOFMANN   \n",
       "2  Summer  1896  Bronze          HUN        Hungary  Alajos SZOKOLYI   \n",
       "3  Summer  1896  Bronze          USA  United States     Francis LANE   \n",
       "4  Summer  1896    Gold          USA  United States     Thomas BURKE   \n",
       "\n",
       "         games      sport gender event_name       event  \n",
       "0  1896 Athens  Athletics  Men's       100m  Men's 100m  \n",
       "1  1896 Athens  Athletics  Men's       100m  Men's 100m  \n",
       "2  1896 Athens  Athletics  Men's       100m  Men's 100m  \n",
       "3  1896 Athens  Athletics  Men's       100m  Men's 100m  \n",
       "4  1896 Athens  Athletics  Men's       400m  Men's 400m  "
      ]
     },
     "execution_count": 123,
     "metadata": {},
     "output_type": "execute_result"
    }
   ],
   "source": [
    "df.head()"
   ]
  },
  {
   "cell_type": "code",
   "execution_count": 124,
   "id": "7650f456",
   "metadata": {},
   "outputs": [
    {
     "data": {
      "text/html": [
       "<div>\n",
       "<style scoped>\n",
       "    .dataframe tbody tr th:only-of-type {\n",
       "        vertical-align: middle;\n",
       "    }\n",
       "\n",
       "    .dataframe tbody tr th {\n",
       "        vertical-align: top;\n",
       "    }\n",
       "\n",
       "    .dataframe thead th {\n",
       "        text-align: right;\n",
       "    }\n",
       "</style>\n",
       "<table border=\"1\" class=\"dataframe\">\n",
       "  <thead>\n",
       "    <tr style=\"text-align: right;\">\n",
       "      <th></th>\n",
       "      <th>season</th>\n",
       "      <th>year</th>\n",
       "      <th>medal</th>\n",
       "      <th>country_code</th>\n",
       "      <th>country</th>\n",
       "      <th>athletes</th>\n",
       "      <th>games</th>\n",
       "      <th>sport</th>\n",
       "      <th>gender</th>\n",
       "      <th>event_name</th>\n",
       "      <th>event</th>\n",
       "    </tr>\n",
       "  </thead>\n",
       "  <tbody>\n",
       "    <tr>\n",
       "      <th>0</th>\n",
       "      <td>Summer</td>\n",
       "      <td>1896-01-01</td>\n",
       "      <td>Gold</td>\n",
       "      <td>USA</td>\n",
       "      <td>United States</td>\n",
       "      <td>Thomas BURKE</td>\n",
       "      <td>1896 Athens</td>\n",
       "      <td>Athletics</td>\n",
       "      <td>Men's</td>\n",
       "      <td>100m</td>\n",
       "      <td>Men's 100m</td>\n",
       "    </tr>\n",
       "    <tr>\n",
       "      <th>1</th>\n",
       "      <td>Summer</td>\n",
       "      <td>1896-01-01</td>\n",
       "      <td>Silver</td>\n",
       "      <td>GER</td>\n",
       "      <td>Germany</td>\n",
       "      <td>Fritz HOFMANN</td>\n",
       "      <td>1896 Athens</td>\n",
       "      <td>Athletics</td>\n",
       "      <td>Men's</td>\n",
       "      <td>100m</td>\n",
       "      <td>Men's 100m</td>\n",
       "    </tr>\n",
       "    <tr>\n",
       "      <th>2</th>\n",
       "      <td>Summer</td>\n",
       "      <td>1896-01-01</td>\n",
       "      <td>Bronze</td>\n",
       "      <td>HUN</td>\n",
       "      <td>Hungary</td>\n",
       "      <td>Alajos SZOKOLYI</td>\n",
       "      <td>1896 Athens</td>\n",
       "      <td>Athletics</td>\n",
       "      <td>Men's</td>\n",
       "      <td>100m</td>\n",
       "      <td>Men's 100m</td>\n",
       "    </tr>\n",
       "    <tr>\n",
       "      <th>3</th>\n",
       "      <td>Summer</td>\n",
       "      <td>1896-01-01</td>\n",
       "      <td>Bronze</td>\n",
       "      <td>USA</td>\n",
       "      <td>United States</td>\n",
       "      <td>Francis LANE</td>\n",
       "      <td>1896 Athens</td>\n",
       "      <td>Athletics</td>\n",
       "      <td>Men's</td>\n",
       "      <td>100m</td>\n",
       "      <td>Men's 100m</td>\n",
       "    </tr>\n",
       "    <tr>\n",
       "      <th>4</th>\n",
       "      <td>Summer</td>\n",
       "      <td>1896-01-01</td>\n",
       "      <td>Gold</td>\n",
       "      <td>USA</td>\n",
       "      <td>United States</td>\n",
       "      <td>Thomas BURKE</td>\n",
       "      <td>1896 Athens</td>\n",
       "      <td>Athletics</td>\n",
       "      <td>Men's</td>\n",
       "      <td>400m</td>\n",
       "      <td>Men's 400m</td>\n",
       "    </tr>\n",
       "  </tbody>\n",
       "</table>\n",
       "</div>"
      ],
      "text/plain": [
       "   season       year   medal country_code        country         athletes  \\\n",
       "0  Summer 1896-01-01    Gold          USA  United States     Thomas BURKE   \n",
       "1  Summer 1896-01-01  Silver          GER        Germany    Fritz HOFMANN   \n",
       "2  Summer 1896-01-01  Bronze          HUN        Hungary  Alajos SZOKOLYI   \n",
       "3  Summer 1896-01-01  Bronze          USA  United States     Francis LANE   \n",
       "4  Summer 1896-01-01    Gold          USA  United States     Thomas BURKE   \n",
       "\n",
       "         games      sport gender event_name       event  \n",
       "0  1896 Athens  Athletics  Men's       100m  Men's 100m  \n",
       "1  1896 Athens  Athletics  Men's       100m  Men's 100m  \n",
       "2  1896 Athens  Athletics  Men's       100m  Men's 100m  \n",
       "3  1896 Athens  Athletics  Men's       100m  Men's 100m  \n",
       "4  1896 Athens  Athletics  Men's       400m  Men's 400m  "
      ]
     },
     "execution_count": 124,
     "metadata": {},
     "output_type": "execute_result"
    }
   ],
   "source": [
    "#function to convert year (XXXX) to Y format\n",
    "def convert_year_to_datetime(year):\n",
    "    return pd.to_datetime(year, format='%Y')\n",
    "\n",
    "df['year'] = df['year'].apply(convert_year_to_datetime)\n",
    "df.head()"
   ]
  },
  {
   "cell_type": "code",
   "execution_count": 125,
   "id": "e59ebe86",
   "metadata": {},
   "outputs": [],
   "source": [
    "#change 'year' column back to just the year\n",
    "df['year'] = df['year'].dt.year"
   ]
  },
  {
   "cell_type": "code",
   "execution_count": 126,
   "id": "4e0e3872",
   "metadata": {},
   "outputs": [
    {
     "data": {
      "text/html": [
       "<div>\n",
       "<style scoped>\n",
       "    .dataframe tbody tr th:only-of-type {\n",
       "        vertical-align: middle;\n",
       "    }\n",
       "\n",
       "    .dataframe tbody tr th {\n",
       "        vertical-align: top;\n",
       "    }\n",
       "\n",
       "    .dataframe thead th {\n",
       "        text-align: right;\n",
       "    }\n",
       "</style>\n",
       "<table border=\"1\" class=\"dataframe\">\n",
       "  <thead>\n",
       "    <tr style=\"text-align: right;\">\n",
       "      <th></th>\n",
       "      <th>season</th>\n",
       "      <th>year</th>\n",
       "      <th>medal</th>\n",
       "      <th>country_code</th>\n",
       "      <th>country</th>\n",
       "      <th>athletes</th>\n",
       "      <th>games</th>\n",
       "      <th>sport</th>\n",
       "      <th>gender</th>\n",
       "      <th>event_name</th>\n",
       "      <th>event</th>\n",
       "    </tr>\n",
       "  </thead>\n",
       "  <tbody>\n",
       "    <tr>\n",
       "      <th>0</th>\n",
       "      <td>Summer</td>\n",
       "      <td>1896</td>\n",
       "      <td>Gold</td>\n",
       "      <td>USA</td>\n",
       "      <td>United States</td>\n",
       "      <td>Thomas BURKE</td>\n",
       "      <td>1896 Athens</td>\n",
       "      <td>Athletics</td>\n",
       "      <td>Men's</td>\n",
       "      <td>100m</td>\n",
       "      <td>Men's 100m</td>\n",
       "    </tr>\n",
       "    <tr>\n",
       "      <th>1</th>\n",
       "      <td>Summer</td>\n",
       "      <td>1896</td>\n",
       "      <td>Silver</td>\n",
       "      <td>GER</td>\n",
       "      <td>Germany</td>\n",
       "      <td>Fritz HOFMANN</td>\n",
       "      <td>1896 Athens</td>\n",
       "      <td>Athletics</td>\n",
       "      <td>Men's</td>\n",
       "      <td>100m</td>\n",
       "      <td>Men's 100m</td>\n",
       "    </tr>\n",
       "    <tr>\n",
       "      <th>2</th>\n",
       "      <td>Summer</td>\n",
       "      <td>1896</td>\n",
       "      <td>Bronze</td>\n",
       "      <td>HUN</td>\n",
       "      <td>Hungary</td>\n",
       "      <td>Alajos SZOKOLYI</td>\n",
       "      <td>1896 Athens</td>\n",
       "      <td>Athletics</td>\n",
       "      <td>Men's</td>\n",
       "      <td>100m</td>\n",
       "      <td>Men's 100m</td>\n",
       "    </tr>\n",
       "    <tr>\n",
       "      <th>3</th>\n",
       "      <td>Summer</td>\n",
       "      <td>1896</td>\n",
       "      <td>Bronze</td>\n",
       "      <td>USA</td>\n",
       "      <td>United States</td>\n",
       "      <td>Francis LANE</td>\n",
       "      <td>1896 Athens</td>\n",
       "      <td>Athletics</td>\n",
       "      <td>Men's</td>\n",
       "      <td>100m</td>\n",
       "      <td>Men's 100m</td>\n",
       "    </tr>\n",
       "    <tr>\n",
       "      <th>4</th>\n",
       "      <td>Summer</td>\n",
       "      <td>1896</td>\n",
       "      <td>Gold</td>\n",
       "      <td>USA</td>\n",
       "      <td>United States</td>\n",
       "      <td>Thomas BURKE</td>\n",
       "      <td>1896 Athens</td>\n",
       "      <td>Athletics</td>\n",
       "      <td>Men's</td>\n",
       "      <td>400m</td>\n",
       "      <td>Men's 400m</td>\n",
       "    </tr>\n",
       "  </tbody>\n",
       "</table>\n",
       "</div>"
      ],
      "text/plain": [
       "   season  year   medal country_code        country         athletes  \\\n",
       "0  Summer  1896    Gold          USA  United States     Thomas BURKE   \n",
       "1  Summer  1896  Silver          GER        Germany    Fritz HOFMANN   \n",
       "2  Summer  1896  Bronze          HUN        Hungary  Alajos SZOKOLYI   \n",
       "3  Summer  1896  Bronze          USA  United States     Francis LANE   \n",
       "4  Summer  1896    Gold          USA  United States     Thomas BURKE   \n",
       "\n",
       "         games      sport gender event_name       event  \n",
       "0  1896 Athens  Athletics  Men's       100m  Men's 100m  \n",
       "1  1896 Athens  Athletics  Men's       100m  Men's 100m  \n",
       "2  1896 Athens  Athletics  Men's       100m  Men's 100m  \n",
       "3  1896 Athens  Athletics  Men's       100m  Men's 100m  \n",
       "4  1896 Athens  Athletics  Men's       400m  Men's 400m  "
      ]
     },
     "execution_count": 126,
     "metadata": {},
     "output_type": "execute_result"
    }
   ],
   "source": [
    "df.head()"
   ]
  },
  {
   "cell_type": "code",
   "execution_count": 127,
   "id": "a4d6c22a",
   "metadata": {},
   "outputs": [],
   "source": [
    "us_df = df.groupby('country').get_group('United States').groupby('year').size().sort_values(ascending=False)"
   ]
  },
  {
   "cell_type": "code",
   "execution_count": 128,
   "id": "c04749f8",
   "metadata": {},
   "outputs": [],
   "source": [
    "pd.set_option('display.max_rows', None)  # Show all rows in the Series"
   ]
  },
  {
   "cell_type": "code",
   "execution_count": 129,
   "id": "f71dc021",
   "metadata": {},
   "outputs": [
    {
     "data": {
      "text/plain": [
       "year\n",
       "1904    234\n",
       "1984    182\n",
       "2024    126\n",
       "2016    121\n",
       "1992    119\n",
       "1932    115\n",
       "1968    114\n",
       "2008    112\n",
       "2012    104\n",
       "1976    104\n",
       "1924    103\n",
       "1972    102\n",
       "2004    101\n",
       "1996    101\n",
       "1988    100\n",
       "1964     97\n",
       "1920     95\n",
       "1948     93\n",
       "2000     93\n",
       "1952     87\n",
       "1960     81\n",
       "1956     81\n",
       "1912     63\n",
       "1928     62\n",
       "1936     60\n",
       "1900     48\n",
       "1908     47\n",
       "2010     37\n",
       "2002     34\n",
       "2014     28\n",
       "2006     25\n",
       "2022     25\n",
       "2018     23\n",
       "1896     20\n",
       "1998     13\n",
       "1994     13\n",
       "1980     12\n",
       "dtype: int64"
      ]
     },
     "execution_count": 129,
     "metadata": {},
     "output_type": "execute_result"
    }
   ],
   "source": [
    "us_df"
   ]
  },
  {
   "cell_type": "code",
   "execution_count": null,
   "id": "59e41179",
   "metadata": {},
   "outputs": [],
   "source": [
    "pd.set_option('display.max_rows', 10) "
   ]
  },
  {
   "cell_type": "markdown",
   "id": "dd079ef5",
   "metadata": {},
   "source": [
    "# Matplotlib      "
   ]
  },
  {
   "cell_type": "code",
   "execution_count": 131,
   "id": "4d991dc7",
   "metadata": {},
   "outputs": [],
   "source": [
    "import matplotlib.pyplot as plt"
   ]
  },
  {
   "cell_type": "code",
   "execution_count": 132,
   "id": "7c514485",
   "metadata": {},
   "outputs": [
    {
     "data": {
      "text/plain": [
       "<Axes: title={'center': 'Number of Medals Won by the US'}, xlabel='year'>"
      ]
     },
     "execution_count": 132,
     "metadata": {},
     "output_type": "execute_result"
    },
    {
     "data": {
      "image/png": "[encoded data removed]",
      "text/plain": [
       "<Figure size 1200x600 with 1 Axes>"
      ]
     },
     "metadata": {},
     "output_type": "display_data"
    }
   ],
   "source": [
    "#plot the number of medals won by the US over the years\n",
    "us_df = df.groupby('country').get_group('United States').groupby('year').size()\n",
    "us_df.plot(kind='bar', figsize=(12, 6), color='green', title='Number of Medals Won by the US')\n"
   ]
  },
  {
   "cell_type": "code",
   "execution_count": 133,
   "id": "d30e21e7",
   "metadata": {},
   "outputs": [
    {
     "data": {
      "text/plain": [
       "<Axes: title={'center': 'Number of Gold Medals Awarded to the US'}, xlabel='year'>"
      ]
     },
     "execution_count": 133,
     "metadata": {},
     "output_type": "execute_result"
    },
    {
     "data": {
      "image/png": "[encoded data removed]",
      "text/plain": [
       "<Figure size 1200x600 with 1 Axes>"
      ]
     },
     "metadata": {},
     "output_type": "display_data"
    }
   ],
   "source": [
    "#plot number of  medalists in the Olympics over the years\n",
    "us_golds = df.groupby('country').get_group('United States').groupby('medal').get_group('Gold').groupby('year').size()\n",
    "us_golds.plot(kind='bar', figsize=(12, 6), color='gold', title='Number of Gold Medals Awarded to the US')"
   ]
  },
  {
   "cell_type": "code",
   "execution_count": 134,
   "id": "abbf1448",
   "metadata": {},
   "outputs": [
    {
     "data": {
      "text/plain": [
       "year\n",
       "1896    11\n",
       "1900    19\n",
       "1904    77\n",
       "1908    23\n",
       "1912    25\n",
       "dtype: int64"
      ]
     },
     "execution_count": 134,
     "metadata": {},
     "output_type": "execute_result"
    }
   ],
   "source": [
    "us_golds.head()"
   ]
  },
  {
   "cell_type": "code",
   "execution_count": 135,
   "id": "91c37fe0",
   "metadata": {},
   "outputs": [
    {
     "data": {
      "text/html": [
       "<div>\n",
       "<style scoped>\n",
       "    .dataframe tbody tr th:only-of-type {\n",
       "        vertical-align: middle;\n",
       "    }\n",
       "\n",
       "    .dataframe tbody tr th {\n",
       "        vertical-align: top;\n",
       "    }\n",
       "\n",
       "    .dataframe thead th {\n",
       "        text-align: right;\n",
       "    }\n",
       "</style>\n",
       "<table border=\"1\" class=\"dataframe\">\n",
       "  <thead>\n",
       "    <tr style=\"text-align: right;\">\n",
       "      <th></th>\n",
       "      <th>season</th>\n",
       "      <th>year</th>\n",
       "      <th>medal</th>\n",
       "      <th>country_code</th>\n",
       "      <th>country</th>\n",
       "      <th>athletes</th>\n",
       "      <th>games</th>\n",
       "      <th>sport</th>\n",
       "      <th>gender</th>\n",
       "      <th>event_name</th>\n",
       "      <th>event</th>\n",
       "    </tr>\n",
       "  </thead>\n",
       "  <tbody>\n",
       "    <tr>\n",
       "      <th>0</th>\n",
       "      <td>Summer</td>\n",
       "      <td>1896</td>\n",
       "      <td>Gold</td>\n",
       "      <td>USA</td>\n",
       "      <td>United States</td>\n",
       "      <td>Thomas BURKE</td>\n",
       "      <td>1896 Athens</td>\n",
       "      <td>Athletics</td>\n",
       "      <td>Men's</td>\n",
       "      <td>100m</td>\n",
       "      <td>Men's 100m</td>\n",
       "    </tr>\n",
       "    <tr>\n",
       "      <th>1</th>\n",
       "      <td>Summer</td>\n",
       "      <td>1896</td>\n",
       "      <td>Silver</td>\n",
       "      <td>GER</td>\n",
       "      <td>Germany</td>\n",
       "      <td>Fritz HOFMANN</td>\n",
       "      <td>1896 Athens</td>\n",
       "      <td>Athletics</td>\n",
       "      <td>Men's</td>\n",
       "      <td>100m</td>\n",
       "      <td>Men's 100m</td>\n",
       "    </tr>\n",
       "    <tr>\n",
       "      <th>2</th>\n",
       "      <td>Summer</td>\n",
       "      <td>1896</td>\n",
       "      <td>Bronze</td>\n",
       "      <td>HUN</td>\n",
       "      <td>Hungary</td>\n",
       "      <td>Alajos SZOKOLYI</td>\n",
       "      <td>1896 Athens</td>\n",
       "      <td>Athletics</td>\n",
       "      <td>Men's</td>\n",
       "      <td>100m</td>\n",
       "      <td>Men's 100m</td>\n",
       "    </tr>\n",
       "    <tr>\n",
       "      <th>3</th>\n",
       "      <td>Summer</td>\n",
       "      <td>1896</td>\n",
       "      <td>Bronze</td>\n",
       "      <td>USA</td>\n",
       "      <td>United States</td>\n",
       "      <td>Francis LANE</td>\n",
       "      <td>1896 Athens</td>\n",
       "      <td>Athletics</td>\n",
       "      <td>Men's</td>\n",
       "      <td>100m</td>\n",
       "      <td>Men's 100m</td>\n",
       "    </tr>\n",
       "    <tr>\n",
       "      <th>4</th>\n",
       "      <td>Summer</td>\n",
       "      <td>1896</td>\n",
       "      <td>Gold</td>\n",
       "      <td>USA</td>\n",
       "      <td>United States</td>\n",
       "      <td>Thomas BURKE</td>\n",
       "      <td>1896 Athens</td>\n",
       "      <td>Athletics</td>\n",
       "      <td>Men's</td>\n",
       "      <td>400m</td>\n",
       "      <td>Men's 400m</td>\n",
       "    </tr>\n",
       "  </tbody>\n",
       "</table>\n",
       "</div>"
      ],
      "text/plain": [
       "   season  year   medal country_code        country         athletes  \\\n",
       "0  Summer  1896    Gold          USA  United States     Thomas BURKE   \n",
       "1  Summer  1896  Silver          GER        Germany    Fritz HOFMANN   \n",
       "2  Summer  1896  Bronze          HUN        Hungary  Alajos SZOKOLYI   \n",
       "3  Summer  1896  Bronze          USA  United States     Francis LANE   \n",
       "4  Summer  1896    Gold          USA  United States     Thomas BURKE   \n",
       "\n",
       "         games      sport gender event_name       event  \n",
       "0  1896 Athens  Athletics  Men's       100m  Men's 100m  \n",
       "1  1896 Athens  Athletics  Men's       100m  Men's 100m  \n",
       "2  1896 Athens  Athletics  Men's       100m  Men's 100m  \n",
       "3  1896 Athens  Athletics  Men's       100m  Men's 100m  \n",
       "4  1896 Athens  Athletics  Men's       400m  Men's 400m  "
      ]
     },
     "execution_count": 135,
     "metadata": {},
     "output_type": "execute_result"
    }
   ],
   "source": [
    "#plot the number of medals won by US in the Olympics split by medal type\n",
    "df.head()"
   ]
  },
  {
   "cell_type": "code",
   "execution_count": 136,
   "id": "158c6d8f",
   "metadata": {},
   "outputs": [
    {
     "data": {
      "image/png": "[encoded data removed]",
      "text/plain": [
       "<Figure size 1200x600 with 1 Axes>"
      ]
     },
     "metadata": {},
     "output_type": "display_data"
    }
   ],
   "source": [
    "#filter for US women\n",
    "us = df[ (df['country_code'] == 'USA') ]\n",
    "\n",
    "# Group by year and medal type, then count\n",
    "medal_counts = us.groupby(['year', 'medal']).size().unstack(fill_value=0)\n",
    "\n",
    "# Reorder medal columns: Bronze, Silver, Gold\n",
    "medal_counts = medal_counts[['Bronze', 'Silver', 'Gold']]\n",
    "\n",
    "# Plot the stacked bar chart\n",
    "medal_counts.plot(\n",
    "    kind='bar',\n",
    "    stacked=True,\n",
    "    figsize=(12, 6),\n",
    "    color={'Gold': \"#F7D722\", 'Silver': '#C0C0C0', 'Bronze': '#CD7F32'}\n",
    ")\n",
    "\n",
    "plt.title('US Olympic Medals Over Time')\n",
    "plt.xlabel('Year')\n",
    "plt.ylabel('Number of Medals')\n",
    "plt.legend(title='Medal')\n",
    "plt.xticks(rotation=45)\n",
    "plt.tight_layout()\n",
    "plt.show()\n"
   ]
  },
  {
   "cell_type": "code",
   "execution_count": null,
   "id": "dc901015",
   "metadata": {},
   "outputs": [],
   "source": []
  },
  {
   "cell_type": "markdown",
   "id": "5202a3dc",
   "metadata": {},
   "source": [
    "# Pandas Data Cleaning Exercise\n",
    "\n",
    "In all questions referring to gross, use the adjusted gross (in 2022 dollars)\n",
    "\n",
    "- Drop the column 'Ref.'\n",
    "- Rename 'Adjusted gross (in 2022 dollars)' to 'Adjusted gross'.\n",
    "- List the artists and the number of times they appear in the rankings.\n",
    "- What Taylor Swift tours made the rankings?\n",
    "- Clean the actual gross and adjusted gross columns and convert them to float.\n",
    "- What is the total adjusted gross from all 20 concerts?\n",
    "- Calculate average gross/show for each rank using the adjusted gross. \n",
    "- How much has Taylor Swift earned from the concerts on this list?"
   ]
  },
  {
   "cell_type": "code",
   "execution_count": 137,
   "id": "929867a4",
   "metadata": {},
   "outputs": [],
   "source": [
    "df = pd.read_csv('top-20-womens-tours.csv')"
   ]
  },
  {
   "cell_type": "code",
   "execution_count": 138,
   "id": "f58fb3f7",
   "metadata": {},
   "outputs": [
    {
     "data": {
      "text/plain": [
       "Index(['Rank', 'Peak', 'All Time Peak', 'Actual gross',\n",
       "       'Adjusted gross (in 2022 dollars)', 'Artist', 'Tour title', 'Year(s)',\n",
       "       'Shows', 'Ref.'],\n",
       "      dtype='object')"
      ]
     },
     "execution_count": 138,
     "metadata": {},
     "output_type": "execute_result"
    }
   ],
   "source": [
    "df.columns"
   ]
  },
  {
   "cell_type": "code",
   "execution_count": 139,
   "id": "87ace95a",
   "metadata": {},
   "outputs": [
    {
     "data": {
      "text/html": [
       "<div>\n",
       "<style scoped>\n",
       "    .dataframe tbody tr th:only-of-type {\n",
       "        vertical-align: middle;\n",
       "    }\n",
       "\n",
       "    .dataframe tbody tr th {\n",
       "        vertical-align: top;\n",
       "    }\n",
       "\n",
       "    .dataframe thead th {\n",
       "        text-align: right;\n",
       "    }\n",
       "</style>\n",
       "<table border=\"1\" class=\"dataframe\">\n",
       "  <thead>\n",
       "    <tr style=\"text-align: right;\">\n",
       "      <th></th>\n",
       "      <th>Rank</th>\n",
       "      <th>Peak</th>\n",
       "      <th>All Time Peak</th>\n",
       "      <th>Actual gross</th>\n",
       "      <th>Adjusted gross (in 2022 dollars)</th>\n",
       "      <th>Artist</th>\n",
       "      <th>Tour title</th>\n",
       "      <th>Year(s)</th>\n",
       "      <th>Shows</th>\n",
       "      <th>Ref.</th>\n",
       "    </tr>\n",
       "  </thead>\n",
       "  <tbody>\n",
       "    <tr>\n",
       "      <th>0</th>\n",
       "      <td>1</td>\n",
       "      <td>1.0</td>\n",
       "      <td>2.0</td>\n",
       "      <td>$780,000,000</td>\n",
       "      <td>$780,000,000</td>\n",
       "      <td>Taylor Swift</td>\n",
       "      <td>The Eras Tour †</td>\n",
       "      <td>2023–2024</td>\n",
       "      <td>56</td>\n",
       "      <td>[1]</td>\n",
       "    </tr>\n",
       "    <tr>\n",
       "      <th>1</th>\n",
       "      <td>2</td>\n",
       "      <td>1.0</td>\n",
       "      <td>7.0</td>\n",
       "      <td>$579,800,000</td>\n",
       "      <td>$579,800,000</td>\n",
       "      <td>Beyoncé</td>\n",
       "      <td>Renaissance World Tour</td>\n",
       "      <td>2023</td>\n",
       "      <td>56</td>\n",
       "      <td>[3]</td>\n",
       "    </tr>\n",
       "    <tr>\n",
       "      <th>2</th>\n",
       "      <td>3</td>\n",
       "      <td>1.0</td>\n",
       "      <td>2.0</td>\n",
       "      <td>$411,000,000</td>\n",
       "      <td>$560,622,615</td>\n",
       "      <td>Madonna</td>\n",
       "      <td>Sticky &amp; Sweet Tour ‡[4][a]</td>\n",
       "      <td>2008–2009</td>\n",
       "      <td>85</td>\n",
       "      <td>[6]</td>\n",
       "    </tr>\n",
       "    <tr>\n",
       "      <th>3</th>\n",
       "      <td>4</td>\n",
       "      <td>2.0</td>\n",
       "      <td>10.0</td>\n",
       "      <td>$397,300,000</td>\n",
       "      <td>$454,751,555</td>\n",
       "      <td>Pink</td>\n",
       "      <td>Beautiful Trauma World Tour</td>\n",
       "      <td>2018–2019</td>\n",
       "      <td>156</td>\n",
       "      <td>[7]</td>\n",
       "    </tr>\n",
       "    <tr>\n",
       "      <th>4</th>\n",
       "      <td>5</td>\n",
       "      <td>2.0</td>\n",
       "      <td>NaN</td>\n",
       "      <td>$345,675,146</td>\n",
       "      <td>$402,844,849</td>\n",
       "      <td>Taylor Swift</td>\n",
       "      <td>Reputation Stadium Tour</td>\n",
       "      <td>2018</td>\n",
       "      <td>53</td>\n",
       "      <td>[8]</td>\n",
       "    </tr>\n",
       "  </tbody>\n",
       "</table>\n",
       "</div>"
      ],
      "text/plain": [
       "   Rank  Peak  All Time Peak  Actual gross Adjusted gross (in 2022 dollars)  \\\n",
       "0     1   1.0            2.0  $780,000,000                     $780,000,000   \n",
       "1     2   1.0            7.0  $579,800,000                     $579,800,000   \n",
       "2     3   1.0            2.0  $411,000,000                     $560,622,615   \n",
       "3     4   2.0           10.0  $397,300,000                     $454,751,555   \n",
       "4     5   2.0            NaN  $345,675,146                     $402,844,849   \n",
       "\n",
       "         Artist                   Tour title    Year(s)  Shows Ref.  \n",
       "0  Taylor Swift              The Eras Tour †  2023–2024     56  [1]  \n",
       "1       Beyoncé       Renaissance World Tour       2023     56  [3]  \n",
       "2       Madonna  Sticky & Sweet Tour ‡[4][a]  2008–2009     85  [6]  \n",
       "3          Pink  Beautiful Trauma World Tour  2018–2019    156  [7]  \n",
       "4  Taylor Swift      Reputation Stadium Tour       2018     53  [8]  "
      ]
     },
     "execution_count": 139,
     "metadata": {},
     "output_type": "execute_result"
    }
   ],
   "source": [
    "df.head()"
   ]
  },
  {
   "cell_type": "code",
   "execution_count": 140,
   "id": "1c64dea1",
   "metadata": {},
   "outputs": [],
   "source": [
    "#- Drop the column 'Ref.'\n",
    "df.drop(columns=['Ref.'], inplace=True)"
   ]
  },
  {
   "cell_type": "code",
   "execution_count": 141,
   "id": "a1afa68e",
   "metadata": {},
   "outputs": [
    {
     "data": {
      "text/plain": [
       "Index(['Rank', 'Peak', 'All Time Peak', 'Actual gross',\n",
       "       'Adjusted gross (in 2022 dollars)', 'Artist', 'Tour title', 'Year(s)',\n",
       "       'Shows'],\n",
       "      dtype='object')"
      ]
     },
     "execution_count": 141,
     "metadata": {},
     "output_type": "execute_result"
    }
   ],
   "source": [
    "#- Rename 'Adjusted gross (in 2022 dollars)' to 'Adjusted gross'.\n",
    "df.columns"
   ]
  },
  {
   "cell_type": "code",
   "execution_count": 142,
   "id": "0a2e2f88",
   "metadata": {},
   "outputs": [
    {
     "data": {
      "text/plain": [
       "Index(['Rank', 'Peak', 'All Time Peak', 'Actual gross', 'Adjusted gross',\n",
       "       'Artist', 'Tour title', 'Year(s)', 'Shows'],\n",
       "      dtype='object')"
      ]
     },
     "execution_count": 142,
     "metadata": {},
     "output_type": "execute_result"
    }
   ],
   "source": [
    "df.rename(columns={'Adjusted gross (in 2022 dollars)': 'Adjusted gross'}, inplace=True)\n",
    "df.columns"
   ]
  },
  {
   "cell_type": "code",
   "execution_count": 143,
   "id": "6e162d4d",
   "metadata": {},
   "outputs": [
    {
     "data": {
      "text/plain": [
       "Artist\n",
       "Taylor Swift    4\n",
       "Madonna         4\n",
       "Beyoncé         3\n",
       "Pink            3\n",
       "Lady Gaga       2\n",
       "Celine Dion     1\n",
       "Katy Perry      1\n",
       "Cher            1\n",
       "Adele           1\n",
       "Name: count, dtype: int64"
      ]
     },
     "execution_count": 143,
     "metadata": {},
     "output_type": "execute_result"
    }
   ],
   "source": [
    "#- List the artists and the number of times they appear in the rankings.\n",
    "df['Artist'].value_counts()"
   ]
  },
  {
   "cell_type": "code",
   "execution_count": 144,
   "id": "89cc854e",
   "metadata": {},
   "outputs": [
    {
     "data": {
      "text/plain": [
       "Artist\n",
       "Adele           1\n",
       "Beyoncé         3\n",
       "Celine Dion     1\n",
       "Cher            1\n",
       "Katy Perry      1\n",
       "Lady Gaga       2\n",
       "Madonna         4\n",
       "Pink            3\n",
       "Taylor Swift    4\n",
       "Name: Tour title, dtype: int64"
      ]
     },
     "execution_count": 144,
     "metadata": {},
     "output_type": "execute_result"
    }
   ],
   "source": [
    "df.groupby('Artist')['Tour title'].count()"
   ]
  },
  {
   "cell_type": "code",
   "execution_count": 145,
   "id": "a74a0c1b",
   "metadata": {},
   "outputs": [
    {
     "data": {
      "text/plain": [
       "0             The Eras Tour †\n",
       "4     Reputation Stadium Tour\n",
       "9         The 1989 World Tour\n",
       "19               The Red Tour\n",
       "Name: Tour title, dtype: object"
      ]
     },
     "execution_count": 145,
     "metadata": {},
     "output_type": "execute_result"
    }
   ],
   "source": [
    "#- What Taylor Swift tours made the rankings?\n",
    "taylor = df.groupby('Artist').get_group('Taylor Swift')\n",
    "taylor['Tour title']"
   ]
  },
  {
   "cell_type": "code",
   "execution_count": 146,
   "id": "1e3d834c",
   "metadata": {},
   "outputs": [
    {
     "data": {
      "text/plain": [
       "0             The Eras Tour †\n",
       "4     Reputation Stadium Tour\n",
       "9         The 1989 World Tour\n",
       "19               The Red Tour\n",
       "Name: Tour title, dtype: object"
      ]
     },
     "execution_count": 146,
     "metadata": {},
     "output_type": "execute_result"
    }
   ],
   "source": [
    "df[df['Artist'] == 'Taylor Swift']['Tour title']"
   ]
  },
  {
   "cell_type": "code",
   "execution_count": 147,
   "id": "ec7ea8f0",
   "metadata": {},
   "outputs": [
    {
     "data": {
      "text/html": [
       "<div>\n",
       "<style scoped>\n",
       "    .dataframe tbody tr th:only-of-type {\n",
       "        vertical-align: middle;\n",
       "    }\n",
       "\n",
       "    .dataframe tbody tr th {\n",
       "        vertical-align: top;\n",
       "    }\n",
       "\n",
       "    .dataframe thead th {\n",
       "        text-align: right;\n",
       "    }\n",
       "</style>\n",
       "<table border=\"1\" class=\"dataframe\">\n",
       "  <thead>\n",
       "    <tr style=\"text-align: right;\">\n",
       "      <th></th>\n",
       "      <th>Rank</th>\n",
       "      <th>Peak</th>\n",
       "      <th>All Time Peak</th>\n",
       "      <th>Actual gross</th>\n",
       "      <th>Adjusted gross</th>\n",
       "      <th>Artist</th>\n",
       "      <th>Tour title</th>\n",
       "      <th>Year(s)</th>\n",
       "      <th>Shows</th>\n",
       "    </tr>\n",
       "  </thead>\n",
       "  <tbody>\n",
       "    <tr>\n",
       "      <th>0</th>\n",
       "      <td>1</td>\n",
       "      <td>1.0</td>\n",
       "      <td>2.0</td>\n",
       "      <td>780000000.0</td>\n",
       "      <td>780000000.0</td>\n",
       "      <td>Taylor Swift</td>\n",
       "      <td>The Eras Tour †</td>\n",
       "      <td>2023–2024</td>\n",
       "      <td>56</td>\n",
       "    </tr>\n",
       "    <tr>\n",
       "      <th>1</th>\n",
       "      <td>2</td>\n",
       "      <td>1.0</td>\n",
       "      <td>7.0</td>\n",
       "      <td>579800000.0</td>\n",
       "      <td>579800000.0</td>\n",
       "      <td>Beyoncé</td>\n",
       "      <td>Renaissance World Tour</td>\n",
       "      <td>2023</td>\n",
       "      <td>56</td>\n",
       "    </tr>\n",
       "    <tr>\n",
       "      <th>2</th>\n",
       "      <td>3</td>\n",
       "      <td>1.0</td>\n",
       "      <td>2.0</td>\n",
       "      <td>411000000.0</td>\n",
       "      <td>560622615.0</td>\n",
       "      <td>Madonna</td>\n",
       "      <td>Sticky &amp; Sweet Tour ‡[4][a]</td>\n",
       "      <td>2008–2009</td>\n",
       "      <td>85</td>\n",
       "    </tr>\n",
       "    <tr>\n",
       "      <th>3</th>\n",
       "      <td>4</td>\n",
       "      <td>2.0</td>\n",
       "      <td>10.0</td>\n",
       "      <td>397300000.0</td>\n",
       "      <td>454751555.0</td>\n",
       "      <td>Pink</td>\n",
       "      <td>Beautiful Trauma World Tour</td>\n",
       "      <td>2018–2019</td>\n",
       "      <td>156</td>\n",
       "    </tr>\n",
       "    <tr>\n",
       "      <th>4</th>\n",
       "      <td>5</td>\n",
       "      <td>2.0</td>\n",
       "      <td>NaN</td>\n",
       "      <td>345675146.0</td>\n",
       "      <td>402844849.0</td>\n",
       "      <td>Taylor Swift</td>\n",
       "      <td>Reputation Stadium Tour</td>\n",
       "      <td>2018</td>\n",
       "      <td>53</td>\n",
       "    </tr>\n",
       "  </tbody>\n",
       "</table>\n",
       "</div>"
      ],
      "text/plain": [
       "   Rank  Peak  All Time Peak  Actual gross  Adjusted gross        Artist  \\\n",
       "0     1   1.0            2.0   780000000.0     780000000.0  Taylor Swift   \n",
       "1     2   1.0            7.0   579800000.0     579800000.0       Beyoncé   \n",
       "2     3   1.0            2.0   411000000.0     560622615.0       Madonna   \n",
       "3     4   2.0           10.0   397300000.0     454751555.0          Pink   \n",
       "4     5   2.0            NaN   345675146.0     402844849.0  Taylor Swift   \n",
       "\n",
       "                    Tour title    Year(s)  Shows  \n",
       "0              The Eras Tour †  2023–2024     56  \n",
       "1       Renaissance World Tour       2023     56  \n",
       "2  Sticky & Sweet Tour ‡[4][a]  2008–2009     85  \n",
       "3  Beautiful Trauma World Tour  2018–2019    156  \n",
       "4      Reputation Stadium Tour       2018     53  "
      ]
     },
     "execution_count": 147,
     "metadata": {},
     "output_type": "execute_result"
    }
   ],
   "source": [
    "# - Clean the actual gross and adjusted gross columns and convert them to float.\n",
    "def clean_currency(value):\n",
    "    if isinstance(value, str):\n",
    "        value = value.replace('$', '').replace(',', '')\n",
    "        return float(value)\n",
    "    \n",
    "df['Actual gross'] = df['Actual gross'].apply(clean_currency)\n",
    "df['Adjusted gross'] = df['Adjusted gross'].apply(clean_currency)\n",
    "\n",
    "df.head()"
   ]
  },
  {
   "cell_type": "code",
   "execution_count": 148,
   "id": "47a6dc10",
   "metadata": {},
   "outputs": [
    {
     "data": {
      "text/plain": [
       "6877561841.0"
      ]
     },
     "execution_count": 148,
     "metadata": {},
     "output_type": "execute_result"
    }
   ],
   "source": [
    "#- What is the total adjusted gross from all 20 concerts?\n",
    "df['Adjusted gross'].sum()"
   ]
  },
  {
   "cell_type": "code",
   "execution_count": 150,
   "id": "2b706c30",
   "metadata": {},
   "outputs": [
    {
     "data": {
      "text/html": [
       "<div>\n",
       "<style scoped>\n",
       "    .dataframe tbody tr th:only-of-type {\n",
       "        vertical-align: middle;\n",
       "    }\n",
       "\n",
       "    .dataframe tbody tr th {\n",
       "        vertical-align: top;\n",
       "    }\n",
       "\n",
       "    .dataframe thead th {\n",
       "        text-align: right;\n",
       "    }\n",
       "</style>\n",
       "<table border=\"1\" class=\"dataframe\">\n",
       "  <thead>\n",
       "    <tr style=\"text-align: right;\">\n",
       "      <th></th>\n",
       "      <th>Rank</th>\n",
       "      <th>Peak</th>\n",
       "      <th>All Time Peak</th>\n",
       "      <th>Actual gross</th>\n",
       "      <th>Adjusted gross</th>\n",
       "      <th>Artist</th>\n",
       "      <th>Tour title</th>\n",
       "      <th>Year(s)</th>\n",
       "      <th>Shows</th>\n",
       "      <th>Average gross</th>\n",
       "    </tr>\n",
       "  </thead>\n",
       "  <tbody>\n",
       "    <tr>\n",
       "      <th>0</th>\n",
       "      <td>1</td>\n",
       "      <td>1.0</td>\n",
       "      <td>2.0</td>\n",
       "      <td>780000000.0</td>\n",
       "      <td>780000000.0</td>\n",
       "      <td>Taylor Swift</td>\n",
       "      <td>The Eras Tour †</td>\n",
       "      <td>2023–2024</td>\n",
       "      <td>56</td>\n",
       "      <td>13928571.43</td>\n",
       "    </tr>\n",
       "    <tr>\n",
       "      <th>1</th>\n",
       "      <td>2</td>\n",
       "      <td>1.0</td>\n",
       "      <td>7.0</td>\n",
       "      <td>579800000.0</td>\n",
       "      <td>579800000.0</td>\n",
       "      <td>Beyoncé</td>\n",
       "      <td>Renaissance World Tour</td>\n",
       "      <td>2023</td>\n",
       "      <td>56</td>\n",
       "      <td>10353571.43</td>\n",
       "    </tr>\n",
       "    <tr>\n",
       "      <th>2</th>\n",
       "      <td>3</td>\n",
       "      <td>1.0</td>\n",
       "      <td>2.0</td>\n",
       "      <td>411000000.0</td>\n",
       "      <td>560622615.0</td>\n",
       "      <td>Madonna</td>\n",
       "      <td>Sticky &amp; Sweet Tour ‡[4][a]</td>\n",
       "      <td>2008–2009</td>\n",
       "      <td>85</td>\n",
       "      <td>6595560.18</td>\n",
       "    </tr>\n",
       "    <tr>\n",
       "      <th>3</th>\n",
       "      <td>4</td>\n",
       "      <td>2.0</td>\n",
       "      <td>10.0</td>\n",
       "      <td>397300000.0</td>\n",
       "      <td>454751555.0</td>\n",
       "      <td>Pink</td>\n",
       "      <td>Beautiful Trauma World Tour</td>\n",
       "      <td>2018–2019</td>\n",
       "      <td>156</td>\n",
       "      <td>2915074.07</td>\n",
       "    </tr>\n",
       "    <tr>\n",
       "      <th>4</th>\n",
       "      <td>5</td>\n",
       "      <td>2.0</td>\n",
       "      <td>NaN</td>\n",
       "      <td>345675146.0</td>\n",
       "      <td>402844849.0</td>\n",
       "      <td>Taylor Swift</td>\n",
       "      <td>Reputation Stadium Tour</td>\n",
       "      <td>2018</td>\n",
       "      <td>53</td>\n",
       "      <td>7600846.21</td>\n",
       "    </tr>\n",
       "    <tr>\n",
       "      <th>...</th>\n",
       "      <td>...</td>\n",
       "      <td>...</td>\n",
       "      <td>...</td>\n",
       "      <td>...</td>\n",
       "      <td>...</td>\n",
       "      <td>...</td>\n",
       "      <td>...</td>\n",
       "      <td>...</td>\n",
       "      <td>...</td>\n",
       "      <td>...</td>\n",
       "    </tr>\n",
       "    <tr>\n",
       "      <th>15</th>\n",
       "      <td>16</td>\n",
       "      <td>NaN</td>\n",
       "      <td>NaN</td>\n",
       "      <td>184000000.0</td>\n",
       "      <td>227452347.0</td>\n",
       "      <td>Pink</td>\n",
       "      <td>The Truth About Love Tour</td>\n",
       "      <td>2013–2014</td>\n",
       "      <td>142</td>\n",
       "      <td>1601777.09</td>\n",
       "    </tr>\n",
       "    <tr>\n",
       "      <th>16</th>\n",
       "      <td>17</td>\n",
       "      <td>NaN</td>\n",
       "      <td>NaN</td>\n",
       "      <td>170000000.0</td>\n",
       "      <td>213568571.0</td>\n",
       "      <td>Lady Gaga</td>\n",
       "      <td>Born This Way Ball</td>\n",
       "      <td>2012–2013</td>\n",
       "      <td>98</td>\n",
       "      <td>2179271.13</td>\n",
       "    </tr>\n",
       "    <tr>\n",
       "      <th>17</th>\n",
       "      <td>18</td>\n",
       "      <td>NaN</td>\n",
       "      <td>NaN</td>\n",
       "      <td>169800000.0</td>\n",
       "      <td>207046755.0</td>\n",
       "      <td>Madonna</td>\n",
       "      <td>Rebel Heart Tour</td>\n",
       "      <td>2015–2016</td>\n",
       "      <td>82</td>\n",
       "      <td>2524960.43</td>\n",
       "    </tr>\n",
       "    <tr>\n",
       "      <th>18</th>\n",
       "      <td>19</td>\n",
       "      <td>NaN</td>\n",
       "      <td>NaN</td>\n",
       "      <td>167700000.0</td>\n",
       "      <td>204486106.0</td>\n",
       "      <td>Adele</td>\n",
       "      <td>Adele Live 2016</td>\n",
       "      <td>2016–2017</td>\n",
       "      <td>121</td>\n",
       "      <td>1689967.82</td>\n",
       "    </tr>\n",
       "    <tr>\n",
       "      <th>19</th>\n",
       "      <td>20</td>\n",
       "      <td>NaN</td>\n",
       "      <td>NaN</td>\n",
       "      <td>150000000.0</td>\n",
       "      <td>185423109.0</td>\n",
       "      <td>Taylor Swift</td>\n",
       "      <td>The Red Tour</td>\n",
       "      <td>2013–2014</td>\n",
       "      <td>86</td>\n",
       "      <td>2156082.66</td>\n",
       "    </tr>\n",
       "  </tbody>\n",
       "</table>\n",
       "<p>20 rows × 10 columns</p>\n",
       "</div>"
      ],
      "text/plain": [
       "    Rank  Peak  All Time Peak  Actual gross  Adjusted gross        Artist  \\\n",
       "0      1   1.0            2.0   780000000.0     780000000.0  Taylor Swift   \n",
       "1      2   1.0            7.0   579800000.0     579800000.0       Beyoncé   \n",
       "2      3   1.0            2.0   411000000.0     560622615.0       Madonna   \n",
       "3      4   2.0           10.0   397300000.0     454751555.0          Pink   \n",
       "4      5   2.0            NaN   345675146.0     402844849.0  Taylor Swift   \n",
       "..   ...   ...            ...           ...             ...           ...   \n",
       "15    16   NaN            NaN   184000000.0     227452347.0          Pink   \n",
       "16    17   NaN            NaN   170000000.0     213568571.0     Lady Gaga   \n",
       "17    18   NaN            NaN   169800000.0     207046755.0       Madonna   \n",
       "18    19   NaN            NaN   167700000.0     204486106.0         Adele   \n",
       "19    20   NaN            NaN   150000000.0     185423109.0  Taylor Swift   \n",
       "\n",
       "                     Tour title    Year(s)  Shows  Average gross  \n",
       "0               The Eras Tour †  2023–2024     56    13928571.43  \n",
       "1        Renaissance World Tour       2023     56    10353571.43  \n",
       "2   Sticky & Sweet Tour ‡[4][a]  2008–2009     85     6595560.18  \n",
       "3   Beautiful Trauma World Tour  2018–2019    156     2915074.07  \n",
       "4       Reputation Stadium Tour       2018     53     7600846.21  \n",
       "..                          ...        ...    ...            ...  \n",
       "15    The Truth About Love Tour  2013–2014    142     1601777.09  \n",
       "16           Born This Way Ball  2012–2013     98     2179271.13  \n",
       "17             Rebel Heart Tour  2015–2016     82     2524960.43  \n",
       "18              Adele Live 2016  2016–2017    121     1689967.82  \n",
       "19                 The Red Tour  2013–2014     86     2156082.66  \n",
       "\n",
       "[20 rows x 10 columns]"
      ]
     },
     "execution_count": 150,
     "metadata": {},
     "output_type": "execute_result"
    }
   ],
   "source": [
    "#- Calculate average gross/show for each rank using the adjusted gross. \n",
    "df['Average gross'] = round(df['Adjusted gross'] / df['Shows'], 2)\n",
    "df"
   ]
  },
  {
   "cell_type": "code",
   "execution_count": 151,
   "id": "f6b67827",
   "metadata": {},
   "outputs": [
    {
     "data": {
      "text/plain": [
       "1677409836.0"
      ]
     },
     "execution_count": 151,
     "metadata": {},
     "output_type": "execute_result"
    }
   ],
   "source": [
    "#- How much has Taylor Swift earned from the concerts on this list?\n",
    "df[df['Artist'] == 'Taylor Swift']['Adjusted gross'].sum()"
   ]
  },
  {
   "cell_type": "code",
   "execution_count": 152,
   "id": "7a8a1fc5",
   "metadata": {},
   "outputs": [
    {
     "data": {
      "text/plain": [
       "1677409836.0"
      ]
     },
     "execution_count": 152,
     "metadata": {},
     "output_type": "execute_result"
    }
   ],
   "source": [
    "df.groupby('Artist')['Adjusted gross'].sum().loc['Taylor Swift']"
   ]
  },
  {
   "cell_type": "code",
   "execution_count": null,
   "id": "b20f704a",
   "metadata": {},
   "outputs": [],
   "source": []
  }
 ],
 "metadata": {
  "kernelspec": {
   "display_name": "base",
   "language": "python",
   "name": "python3"
  },
  "language_info": {
   "codemirror_mode": {
    "name": "ipython",
    "version": 3
   },
   "file_extension": ".py",
   "mimetype": "text/x-python",
   "name": "python",
   "nbconvert_exporter": "python",
   "pygments_lexer": "ipython3",
   "version": "3.11.4"
  }
 },
 "nbformat": 4,
 "nbformat_minor": 5
}
